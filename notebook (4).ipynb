{
  "cells": [
    {
      "cell_type": "markdown",
      "id": "260fc52f",
      "metadata": {
        "id": "260fc52f"
      },
      "source": [
        "# Laporan Proyek System Recommendation MovieLens Dataset"
      ]
    },
    {
      "cell_type": "markdown",
      "source": [
        "## [Link Dataset MovieLens Kaggle](https://www.kaggle.com/datasets/akkefa/movielens-9000-movies-dataset/data)"
      ],
      "metadata": {
        "id": "Sfs2FnG_8Z89"
      },
      "id": "Sfs2FnG_8Z89"
    },
    {
      "cell_type": "markdown",
      "id": "9f5c20a5",
      "metadata": {
        "id": "9f5c20a5"
      },
      "source": [
        "## **Import Library**"
      ]
    },
    {
      "cell_type": "markdown",
      "source": [
        "Pada tahap ini, kita akan mengimpor berbagai pustaka yang diperlukan untuk analisis. Pustaka-pustaka ini meliputi numpy untuk manipulasi data numerik, pandas untuk pengolahan data, matplotlib dan seaborn untuk visualisasi, serta scikit-learn dan surprise untuk model rekomendasi.\n"
      ],
      "metadata": {
        "id": "Fb88Ep9QEX3Q"
      },
      "id": "Fb88Ep9QEX3Q"
    },
    {
      "cell_type": "code",
      "execution_count": null,
      "id": "447a688b",
      "metadata": {
        "colab": {
          "base_uri": "https://localhost:8080/"
        },
        "id": "447a688b",
        "outputId": "0224abf4-a82b-4589-94ae-8f2a7dc27af0"
      },
      "outputs": [
        {
          "output_type": "stream",
          "name": "stdout",
          "text": [
            "Requirement already satisfied: numpy==1.24.3 in /usr/local/lib/python3.11/dist-packages (1.24.3)\n",
            "Requirement already satisfied: scikit-surprise in /usr/local/lib/python3.11/dist-packages (1.1.4)\n",
            "Requirement already satisfied: joblib>=1.2.0 in /usr/local/lib/python3.11/dist-packages (from scikit-surprise) (1.5.0)\n",
            "Requirement already satisfied: numpy>=1.19.5 in /usr/local/lib/python3.11/dist-packages (from scikit-surprise) (1.24.3)\n",
            "Requirement already satisfied: scipy>=1.6.0 in /usr/local/lib/python3.11/dist-packages (from scikit-surprise) (1.15.2)\n",
            "Requirement already satisfied: pandas==1.5.3 in /usr/local/lib/python3.11/dist-packages (1.5.3)\n",
            "Requirement already satisfied: python-dateutil>=2.8.1 in /usr/local/lib/python3.11/dist-packages (from pandas==1.5.3) (2.9.0.post0)\n",
            "Requirement already satisfied: pytz>=2020.1 in /usr/local/lib/python3.11/dist-packages (from pandas==1.5.3) (2025.2)\n",
            "Requirement already satisfied: numpy>=1.21.0 in /usr/local/lib/python3.11/dist-packages (from pandas==1.5.3) (1.24.3)\n",
            "Requirement already satisfied: six>=1.5 in /usr/local/lib/python3.11/dist-packages (from python-dateutil>=2.8.1->pandas==1.5.3) (1.17.0)\n",
            "Requirement already satisfied: scikit-learn==1.2.2 in /usr/local/lib/python3.11/dist-packages (1.2.2)\n",
            "Requirement already satisfied: numpy>=1.17.3 in /usr/local/lib/python3.11/dist-packages (from scikit-learn==1.2.2) (1.24.3)\n",
            "Requirement already satisfied: scipy>=1.3.2 in /usr/local/lib/python3.11/dist-packages (from scikit-learn==1.2.2) (1.15.2)\n",
            "Requirement already satisfied: joblib>=1.1.1 in /usr/local/lib/python3.11/dist-packages (from scikit-learn==1.2.2) (1.5.0)\n",
            "Requirement already satisfied: threadpoolctl>=2.0.0 in /usr/local/lib/python3.11/dist-packages (from scikit-learn==1.2.2) (3.6.0)\n",
            "Requirement already satisfied: matplotlib==3.7.1 in /usr/local/lib/python3.11/dist-packages (3.7.1)\n",
            "Requirement already satisfied: contourpy>=1.0.1 in /usr/local/lib/python3.11/dist-packages (from matplotlib==3.7.1) (1.3.2)\n",
            "Requirement already satisfied: cycler>=0.10 in /usr/local/lib/python3.11/dist-packages (from matplotlib==3.7.1) (0.12.1)\n",
            "Requirement already satisfied: fonttools>=4.22.0 in /usr/local/lib/python3.11/dist-packages (from matplotlib==3.7.1) (4.57.0)\n",
            "Requirement already satisfied: kiwisolver>=1.0.1 in /usr/local/lib/python3.11/dist-packages (from matplotlib==3.7.1) (1.4.8)\n",
            "Requirement already satisfied: numpy>=1.20 in /usr/local/lib/python3.11/dist-packages (from matplotlib==3.7.1) (1.24.3)\n",
            "Requirement already satisfied: packaging>=20.0 in /usr/local/lib/python3.11/dist-packages (from matplotlib==3.7.1) (24.2)\n",
            "Requirement already satisfied: pillow>=6.2.0 in /usr/local/lib/python3.11/dist-packages (from matplotlib==3.7.1) (11.2.1)\n",
            "Requirement already satisfied: pyparsing>=2.3.1 in /usr/local/lib/python3.11/dist-packages (from matplotlib==3.7.1) (3.2.3)\n",
            "Requirement already satisfied: python-dateutil>=2.7 in /usr/local/lib/python3.11/dist-packages (from matplotlib==3.7.1) (2.9.0.post0)\n",
            "Requirement already satisfied: six>=1.5 in /usr/local/lib/python3.11/dist-packages (from python-dateutil>=2.7->matplotlib==3.7.1) (1.17.0)\n",
            "Requirement already satisfied: seaborn==0.12.2 in /usr/local/lib/python3.11/dist-packages (0.12.2)\n",
            "Requirement already satisfied: numpy!=1.24.0,>=1.17 in /usr/local/lib/python3.11/dist-packages (from seaborn==0.12.2) (1.24.3)\n",
            "Requirement already satisfied: pandas>=0.25 in /usr/local/lib/python3.11/dist-packages (from seaborn==0.12.2) (1.5.3)\n",
            "Requirement already satisfied: matplotlib!=3.6.1,>=3.1 in /usr/local/lib/python3.11/dist-packages (from seaborn==0.12.2) (3.7.1)\n",
            "Requirement already satisfied: contourpy>=1.0.1 in /usr/local/lib/python3.11/dist-packages (from matplotlib!=3.6.1,>=3.1->seaborn==0.12.2) (1.3.2)\n",
            "Requirement already satisfied: cycler>=0.10 in /usr/local/lib/python3.11/dist-packages (from matplotlib!=3.6.1,>=3.1->seaborn==0.12.2) (0.12.1)\n",
            "Requirement already satisfied: fonttools>=4.22.0 in /usr/local/lib/python3.11/dist-packages (from matplotlib!=3.6.1,>=3.1->seaborn==0.12.2) (4.57.0)\n",
            "Requirement already satisfied: kiwisolver>=1.0.1 in /usr/local/lib/python3.11/dist-packages (from matplotlib!=3.6.1,>=3.1->seaborn==0.12.2) (1.4.8)\n",
            "Requirement already satisfied: packaging>=20.0 in /usr/local/lib/python3.11/dist-packages (from matplotlib!=3.6.1,>=3.1->seaborn==0.12.2) (24.2)\n",
            "Requirement already satisfied: pillow>=6.2.0 in /usr/local/lib/python3.11/dist-packages (from matplotlib!=3.6.1,>=3.1->seaborn==0.12.2) (11.2.1)\n",
            "Requirement already satisfied: pyparsing>=2.3.1 in /usr/local/lib/python3.11/dist-packages (from matplotlib!=3.6.1,>=3.1->seaborn==0.12.2) (3.2.3)\n",
            "Requirement already satisfied: python-dateutil>=2.7 in /usr/local/lib/python3.11/dist-packages (from matplotlib!=3.6.1,>=3.1->seaborn==0.12.2) (2.9.0.post0)\n",
            "Requirement already satisfied: pytz>=2020.1 in /usr/local/lib/python3.11/dist-packages (from pandas>=0.25->seaborn==0.12.2) (2025.2)\n",
            "Requirement already satisfied: six>=1.5 in /usr/local/lib/python3.11/dist-packages (from python-dateutil>=2.7->matplotlib!=3.6.1,>=3.1->seaborn==0.12.2) (1.17.0)\n",
            "Requirement already satisfied: matplotlib-venn==0.11.7 in /usr/local/lib/python3.11/dist-packages (0.11.7)\n",
            "Requirement already satisfied: matplotlib in /usr/local/lib/python3.11/dist-packages (from matplotlib-venn==0.11.7) (3.7.1)\n",
            "Requirement already satisfied: numpy in /usr/local/lib/python3.11/dist-packages (from matplotlib-venn==0.11.7) (1.24.3)\n",
            "Requirement already satisfied: scipy in /usr/local/lib/python3.11/dist-packages (from matplotlib-venn==0.11.7) (1.15.2)\n",
            "Requirement already satisfied: contourpy>=1.0.1 in /usr/local/lib/python3.11/dist-packages (from matplotlib->matplotlib-venn==0.11.7) (1.3.2)\n",
            "Requirement already satisfied: cycler>=0.10 in /usr/local/lib/python3.11/dist-packages (from matplotlib->matplotlib-venn==0.11.7) (0.12.1)\n",
            "Requirement already satisfied: fonttools>=4.22.0 in /usr/local/lib/python3.11/dist-packages (from matplotlib->matplotlib-venn==0.11.7) (4.57.0)\n",
            "Requirement already satisfied: kiwisolver>=1.0.1 in /usr/local/lib/python3.11/dist-packages (from matplotlib->matplotlib-venn==0.11.7) (1.4.8)\n",
            "Requirement already satisfied: packaging>=20.0 in /usr/local/lib/python3.11/dist-packages (from matplotlib->matplotlib-venn==0.11.7) (24.2)\n",
            "Requirement already satisfied: pillow>=6.2.0 in /usr/local/lib/python3.11/dist-packages (from matplotlib->matplotlib-venn==0.11.7) (11.2.1)\n",
            "Requirement already satisfied: pyparsing>=2.3.1 in /usr/local/lib/python3.11/dist-packages (from matplotlib->matplotlib-venn==0.11.7) (3.2.3)\n",
            "Requirement already satisfied: python-dateutil>=2.7 in /usr/local/lib/python3.11/dist-packages (from matplotlib->matplotlib-venn==0.11.7) (2.9.0.post0)\n",
            "Requirement already satisfied: six>=1.5 in /usr/local/lib/python3.11/dist-packages (from python-dateutil>=2.7->matplotlib->matplotlib-venn==0.11.7) (1.17.0)\n"
          ]
        }
      ],
      "source": [
        "# Restart the kernel after this cell runs\n",
        "!pip install numpy==1.24.3\n",
        "!pip install -U scikit-surprise\n",
        "!pip install pandas==1.5.3\n",
        "!pip install scikit-learn==1.2.2\n",
        "!pip install matplotlib==3.7.1\n",
        "!pip install seaborn==0.12.2\n",
        "!pip install matplotlib-venn==0.11.7\n",
        "\n",
        "import matplotlib.pyplot as plt\n",
        "import seaborn as sns\n",
        "import numpy as np\n",
        "# Import matplotlib after numpy\n",
        "from sklearn.metrics import pairwise_distances\n",
        "import matplotlib.pyplot as plt\n",
        "from collections import defaultdict\n",
        "# Import pandas after numpy\n",
        "import pandas as pd\n",
        "# Create Venn diagram to see overlap between recommendations\n",
        "from matplotlib_venn import venn2\n",
        "# Import sklearn components after numpy\n",
        "from sklearn.feature_extraction.text import TfidfVectorizer\n",
        "from sklearn.metrics.pairwise import cosine_similarity\n",
        "# Import scikit-surprise after numpy\n",
        "import surprise\n",
        "from surprise import Reader, Dataset, SVD\n",
        "from surprise.model_selection import train_test_split, cross_validate"
      ]
    },
    {
      "cell_type": "markdown",
      "source": [
        "Setelah melakukan import pustaka, kita siap melanjutkan ke langkah-langkah berikutnya dalam analisis data dan pengembangan model. Semua pustaka yang diperlukan telah berhasil dimuat tanpa error, dan kita siap untuk melakukan pemrosesan data lebih lanjut."
      ],
      "metadata": {
        "id": "tlVwjbToEaOY"
      },
      "id": "tlVwjbToEaOY"
    },
    {
      "cell_type": "markdown",
      "id": "661d890f",
      "metadata": {
        "id": "661d890f"
      },
      "source": [
        "## Data Assesing"
      ]
    },
    {
      "cell_type": "markdown",
      "source": [
        "Pada tahap ini, kita akan memuat dataset dari file CSV yang berisi data film dan rating menggunakan pustaka pandas. Dataset ini akan digunakan untuk analisis lebih lanjut dalam model rekomendasi.\n"
      ],
      "metadata": {
        "id": "F85Pkc57EnAI"
      },
      "id": "F85Pkc57EnAI"
    },
    {
      "cell_type": "code",
      "execution_count": null,
      "id": "ab910e13",
      "metadata": {
        "id": "ab910e13"
      },
      "outputs": [],
      "source": [
        "movies = pd.read_csv('movies.csv')\n",
        "ratings = pd.read_csv('ratings.csv')"
      ]
    },
    {
      "cell_type": "markdown",
      "source": [
        "Dataset \"movies.csv\" dan \"ratings.csv\" telah berhasil dimuat ke dalam DataFrame pandas. Data ini siap digunakan untuk proses analisis lebih lanjut, seperti pembersihan data atau pemodelan rekomendasi.\n"
      ],
      "metadata": {
        "id": "P1vjvbc6Expn"
      },
      "id": "P1vjvbc6Expn"
    },
    {
      "cell_type": "markdown",
      "id": "421d3426",
      "metadata": {
        "id": "421d3426"
      },
      "source": [
        "## Data Undestanding"
      ]
    },
    {
      "cell_type": "markdown",
      "source": [
        "### Analisis Data Awal"
      ],
      "metadata": {
        "id": "Al205ex3Fidf"
      },
      "id": "Al205ex3Fidf"
    },
    {
      "cell_type": "markdown",
      "source": [
        "**Data Frame `.head()` for movies**"
      ],
      "metadata": {
        "id": "raKqhpVpFVCX"
      },
      "id": "raKqhpVpFVCX"
    },
    {
      "cell_type": "markdown",
      "source": [
        "Pada tahap ini, kita akan menampilkan 5 data pertama dari dataset film menggunakan fungsi `head()`. Ini akan memberikan gambaran awal mengenai struktur dan konten data yang akan dianalisis lebih lanjut."
      ],
      "metadata": {
        "id": "n23MDNzBFEv4"
      },
      "id": "n23MDNzBFEv4"
    },
    {
      "cell_type": "code",
      "source": [
        "print(\"Tampilan 5 Data pertama Movies:\")\n",
        "movies.head()"
      ],
      "metadata": {
        "colab": {
          "base_uri": "https://localhost:8080/",
          "height": 224
        },
        "id": "73l3CgBAF64P",
        "outputId": "fb22b67b-66f0-4404-f1c5-e13e2e2050b4"
      },
      "id": "73l3CgBAF64P",
      "execution_count": null,
      "outputs": [
        {
          "output_type": "stream",
          "name": "stdout",
          "text": [
            "Tampilan 5 Data pertama Movies:\n"
          ]
        },
        {
          "output_type": "execute_result",
          "data": {
            "text/plain": [
              "   movieId                               title  \\\n",
              "0        1                    Toy Story (1995)   \n",
              "1        2                      Jumanji (1995)   \n",
              "2        3             Grumpier Old Men (1995)   \n",
              "3        4            Waiting to Exhale (1995)   \n",
              "4        5  Father of the Bride Part II (1995)   \n",
              "\n",
              "                                        genres  \n",
              "0  Adventure|Animation|Children|Comedy|Fantasy  \n",
              "1                   Adventure|Children|Fantasy  \n",
              "2                               Comedy|Romance  \n",
              "3                         Comedy|Drama|Romance  \n",
              "4                                       Comedy  "
            ],
            "text/html": [
              "\n",
              "  <div id=\"df-ae3441a3-43c3-45c5-bf0c-9ffcd1782226\" class=\"colab-df-container\">\n",
              "    <div>\n",
              "<style scoped>\n",
              "    .dataframe tbody tr th:only-of-type {\n",
              "        vertical-align: middle;\n",
              "    }\n",
              "\n",
              "    .dataframe tbody tr th {\n",
              "        vertical-align: top;\n",
              "    }\n",
              "\n",
              "    .dataframe thead th {\n",
              "        text-align: right;\n",
              "    }\n",
              "</style>\n",
              "<table border=\"1\" class=\"dataframe\">\n",
              "  <thead>\n",
              "    <tr style=\"text-align: right;\">\n",
              "      <th></th>\n",
              "      <th>movieId</th>\n",
              "      <th>title</th>\n",
              "      <th>genres</th>\n",
              "    </tr>\n",
              "  </thead>\n",
              "  <tbody>\n",
              "    <tr>\n",
              "      <th>0</th>\n",
              "      <td>1</td>\n",
              "      <td>Toy Story (1995)</td>\n",
              "      <td>Adventure|Animation|Children|Comedy|Fantasy</td>\n",
              "    </tr>\n",
              "    <tr>\n",
              "      <th>1</th>\n",
              "      <td>2</td>\n",
              "      <td>Jumanji (1995)</td>\n",
              "      <td>Adventure|Children|Fantasy</td>\n",
              "    </tr>\n",
              "    <tr>\n",
              "      <th>2</th>\n",
              "      <td>3</td>\n",
              "      <td>Grumpier Old Men (1995)</td>\n",
              "      <td>Comedy|Romance</td>\n",
              "    </tr>\n",
              "    <tr>\n",
              "      <th>3</th>\n",
              "      <td>4</td>\n",
              "      <td>Waiting to Exhale (1995)</td>\n",
              "      <td>Comedy|Drama|Romance</td>\n",
              "    </tr>\n",
              "    <tr>\n",
              "      <th>4</th>\n",
              "      <td>5</td>\n",
              "      <td>Father of the Bride Part II (1995)</td>\n",
              "      <td>Comedy</td>\n",
              "    </tr>\n",
              "  </tbody>\n",
              "</table>\n",
              "</div>\n",
              "    <div class=\"colab-df-buttons\">\n",
              "\n",
              "  <div class=\"colab-df-container\">\n",
              "    <button class=\"colab-df-convert\" onclick=\"convertToInteractive('df-ae3441a3-43c3-45c5-bf0c-9ffcd1782226')\"\n",
              "            title=\"Convert this dataframe to an interactive table.\"\n",
              "            style=\"display:none;\">\n",
              "\n",
              "  <svg xmlns=\"http://www.w3.org/2000/svg\" height=\"24px\" viewBox=\"0 -960 960 960\">\n",
              "    <path d=\"M120-120v-720h720v720H120Zm60-500h600v-160H180v160Zm220 220h160v-160H400v160Zm0 220h160v-160H400v160ZM180-400h160v-160H180v160Zm440 0h160v-160H620v160ZM180-180h160v-160H180v160Zm440 0h160v-160H620v160Z\"/>\n",
              "  </svg>\n",
              "    </button>\n",
              "\n",
              "  <style>\n",
              "    .colab-df-container {\n",
              "      display:flex;\n",
              "      gap: 12px;\n",
              "    }\n",
              "\n",
              "    .colab-df-convert {\n",
              "      background-color: #E8F0FE;\n",
              "      border: none;\n",
              "      border-radius: 50%;\n",
              "      cursor: pointer;\n",
              "      display: none;\n",
              "      fill: #1967D2;\n",
              "      height: 32px;\n",
              "      padding: 0 0 0 0;\n",
              "      width: 32px;\n",
              "    }\n",
              "\n",
              "    .colab-df-convert:hover {\n",
              "      background-color: #E2EBFA;\n",
              "      box-shadow: 0px 1px 2px rgba(60, 64, 67, 0.3), 0px 1px 3px 1px rgba(60, 64, 67, 0.15);\n",
              "      fill: #174EA6;\n",
              "    }\n",
              "\n",
              "    .colab-df-buttons div {\n",
              "      margin-bottom: 4px;\n",
              "    }\n",
              "\n",
              "    [theme=dark] .colab-df-convert {\n",
              "      background-color: #3B4455;\n",
              "      fill: #D2E3FC;\n",
              "    }\n",
              "\n",
              "    [theme=dark] .colab-df-convert:hover {\n",
              "      background-color: #434B5C;\n",
              "      box-shadow: 0px 1px 3px 1px rgba(0, 0, 0, 0.15);\n",
              "      filter: drop-shadow(0px 1px 2px rgba(0, 0, 0, 0.3));\n",
              "      fill: #FFFFFF;\n",
              "    }\n",
              "  </style>\n",
              "\n",
              "    <script>\n",
              "      const buttonEl =\n",
              "        document.querySelector('#df-ae3441a3-43c3-45c5-bf0c-9ffcd1782226 button.colab-df-convert');\n",
              "      buttonEl.style.display =\n",
              "        google.colab.kernel.accessAllowed ? 'block' : 'none';\n",
              "\n",
              "      async function convertToInteractive(key) {\n",
              "        const element = document.querySelector('#df-ae3441a3-43c3-45c5-bf0c-9ffcd1782226');\n",
              "        const dataTable =\n",
              "          await google.colab.kernel.invokeFunction('convertToInteractive',\n",
              "                                                    [key], {});\n",
              "        if (!dataTable) return;\n",
              "\n",
              "        const docLinkHtml = 'Like what you see? Visit the ' +\n",
              "          '<a target=\"_blank\" href=https://colab.research.google.com/notebooks/data_table.ipynb>data table notebook</a>'\n",
              "          + ' to learn more about interactive tables.';\n",
              "        element.innerHTML = '';\n",
              "        dataTable['output_type'] = 'display_data';\n",
              "        await google.colab.output.renderOutput(dataTable, element);\n",
              "        const docLink = document.createElement('div');\n",
              "        docLink.innerHTML = docLinkHtml;\n",
              "        element.appendChild(docLink);\n",
              "      }\n",
              "    </script>\n",
              "  </div>\n",
              "\n",
              "\n",
              "    <div id=\"df-c42bb895-f8ed-4435-91eb-dafbcdf2179c\">\n",
              "      <button class=\"colab-df-quickchart\" onclick=\"quickchart('df-c42bb895-f8ed-4435-91eb-dafbcdf2179c')\"\n",
              "                title=\"Suggest charts\"\n",
              "                style=\"display:none;\">\n",
              "\n",
              "<svg xmlns=\"http://www.w3.org/2000/svg\" height=\"24px\"viewBox=\"0 0 24 24\"\n",
              "     width=\"24px\">\n",
              "    <g>\n",
              "        <path d=\"M19 3H5c-1.1 0-2 .9-2 2v14c0 1.1.9 2 2 2h14c1.1 0 2-.9 2-2V5c0-1.1-.9-2-2-2zM9 17H7v-7h2v7zm4 0h-2V7h2v10zm4 0h-2v-4h2v4z\"/>\n",
              "    </g>\n",
              "</svg>\n",
              "      </button>\n",
              "\n",
              "<style>\n",
              "  .colab-df-quickchart {\n",
              "      --bg-color: #E8F0FE;\n",
              "      --fill-color: #1967D2;\n",
              "      --hover-bg-color: #E2EBFA;\n",
              "      --hover-fill-color: #174EA6;\n",
              "      --disabled-fill-color: #AAA;\n",
              "      --disabled-bg-color: #DDD;\n",
              "  }\n",
              "\n",
              "  [theme=dark] .colab-df-quickchart {\n",
              "      --bg-color: #3B4455;\n",
              "      --fill-color: #D2E3FC;\n",
              "      --hover-bg-color: #434B5C;\n",
              "      --hover-fill-color: #FFFFFF;\n",
              "      --disabled-bg-color: #3B4455;\n",
              "      --disabled-fill-color: #666;\n",
              "  }\n",
              "\n",
              "  .colab-df-quickchart {\n",
              "    background-color: var(--bg-color);\n",
              "    border: none;\n",
              "    border-radius: 50%;\n",
              "    cursor: pointer;\n",
              "    display: none;\n",
              "    fill: var(--fill-color);\n",
              "    height: 32px;\n",
              "    padding: 0;\n",
              "    width: 32px;\n",
              "  }\n",
              "\n",
              "  .colab-df-quickchart:hover {\n",
              "    background-color: var(--hover-bg-color);\n",
              "    box-shadow: 0 1px 2px rgba(60, 64, 67, 0.3), 0 1px 3px 1px rgba(60, 64, 67, 0.15);\n",
              "    fill: var(--button-hover-fill-color);\n",
              "  }\n",
              "\n",
              "  .colab-df-quickchart-complete:disabled,\n",
              "  .colab-df-quickchart-complete:disabled:hover {\n",
              "    background-color: var(--disabled-bg-color);\n",
              "    fill: var(--disabled-fill-color);\n",
              "    box-shadow: none;\n",
              "  }\n",
              "\n",
              "  .colab-df-spinner {\n",
              "    border: 2px solid var(--fill-color);\n",
              "    border-color: transparent;\n",
              "    border-bottom-color: var(--fill-color);\n",
              "    animation:\n",
              "      spin 1s steps(1) infinite;\n",
              "  }\n",
              "\n",
              "  @keyframes spin {\n",
              "    0% {\n",
              "      border-color: transparent;\n",
              "      border-bottom-color: var(--fill-color);\n",
              "      border-left-color: var(--fill-color);\n",
              "    }\n",
              "    20% {\n",
              "      border-color: transparent;\n",
              "      border-left-color: var(--fill-color);\n",
              "      border-top-color: var(--fill-color);\n",
              "    }\n",
              "    30% {\n",
              "      border-color: transparent;\n",
              "      border-left-color: var(--fill-color);\n",
              "      border-top-color: var(--fill-color);\n",
              "      border-right-color: var(--fill-color);\n",
              "    }\n",
              "    40% {\n",
              "      border-color: transparent;\n",
              "      border-right-color: var(--fill-color);\n",
              "      border-top-color: var(--fill-color);\n",
              "    }\n",
              "    60% {\n",
              "      border-color: transparent;\n",
              "      border-right-color: var(--fill-color);\n",
              "    }\n",
              "    80% {\n",
              "      border-color: transparent;\n",
              "      border-right-color: var(--fill-color);\n",
              "      border-bottom-color: var(--fill-color);\n",
              "    }\n",
              "    90% {\n",
              "      border-color: transparent;\n",
              "      border-bottom-color: var(--fill-color);\n",
              "    }\n",
              "  }\n",
              "</style>\n",
              "\n",
              "      <script>\n",
              "        async function quickchart(key) {\n",
              "          const quickchartButtonEl =\n",
              "            document.querySelector('#' + key + ' button');\n",
              "          quickchartButtonEl.disabled = true;  // To prevent multiple clicks.\n",
              "          quickchartButtonEl.classList.add('colab-df-spinner');\n",
              "          try {\n",
              "            const charts = await google.colab.kernel.invokeFunction(\n",
              "                'suggestCharts', [key], {});\n",
              "          } catch (error) {\n",
              "            console.error('Error during call to suggestCharts:', error);\n",
              "          }\n",
              "          quickchartButtonEl.classList.remove('colab-df-spinner');\n",
              "          quickchartButtonEl.classList.add('colab-df-quickchart-complete');\n",
              "        }\n",
              "        (() => {\n",
              "          let quickchartButtonEl =\n",
              "            document.querySelector('#df-c42bb895-f8ed-4435-91eb-dafbcdf2179c button');\n",
              "          quickchartButtonEl.style.display =\n",
              "            google.colab.kernel.accessAllowed ? 'block' : 'none';\n",
              "        })();\n",
              "      </script>\n",
              "    </div>\n",
              "\n",
              "    </div>\n",
              "  </div>\n"
            ],
            "application/vnd.google.colaboratory.intrinsic+json": {
              "type": "dataframe",
              "variable_name": "movies",
              "summary": "{\n  \"name\": \"movies\",\n  \"rows\": 9742,\n  \"fields\": [\n    {\n      \"column\": \"movieId\",\n      \"properties\": {\n        \"dtype\": \"number\",\n        \"std\": 52160,\n        \"min\": 1,\n        \"max\": 193609,\n        \"num_unique_values\": 9742,\n        \"samples\": [\n          45635,\n          1373,\n          7325\n        ],\n        \"semantic_type\": \"\",\n        \"description\": \"\"\n      }\n    },\n    {\n      \"column\": \"title\",\n      \"properties\": {\n        \"dtype\": \"string\",\n        \"num_unique_values\": 9737,\n        \"samples\": [\n          \"Teenage Mutant Ninja Turtles (2014)\",\n          \"America's Sweethearts (2001)\",\n          \"Cast Away (2000)\"\n        ],\n        \"semantic_type\": \"\",\n        \"description\": \"\"\n      }\n    },\n    {\n      \"column\": \"genres\",\n      \"properties\": {\n        \"dtype\": \"category\",\n        \"num_unique_values\": 951,\n        \"samples\": [\n          \"Crime|Mystery|Romance|Thriller\",\n          \"Action|Adventure|Comedy|Western\",\n          \"Crime|Drama|Musical\"\n        ],\n        \"semantic_type\": \"\",\n        \"description\": \"\"\n      }\n    }\n  ]\n}"
            }
          },
          "metadata": {},
          "execution_count": 3
        }
      ]
    },
    {
      "cell_type": "markdown",
      "source": [
        "Data pertama yang ditampilkan menunjukkan berbagai film dengan kolom \"movieId\", \"title\", dan \"genres\". Kolom \"genres\" berisi kategori genre yang terdiri dari beberapa nilai yang dipisahkan oleh tanda \"|\". Data ini dapat digunakan untuk analisis lebih lanjut dalam sistem rekomendasi.\n"
      ],
      "metadata": {
        "id": "ln1A6v-6HFee"
      },
      "id": "ln1A6v-6HFee"
    },
    {
      "cell_type": "markdown",
      "source": [
        "**Data Frame `.info()` for movies**"
      ],
      "metadata": {
        "id": "R16ROqsxHsju"
      },
      "id": "R16ROqsxHsju"
    },
    {
      "cell_type": "markdown",
      "source": [
        "Pada tahap ini, kita akan memeriksa informasi mengenai tipe data dan jumlah entri dalam dataset menggunakan fungsi `info()`. Ini bertujuan untuk memastikan bahwa setiap kolom memiliki tipe data yang sesuai dan tidak ada nilai yang hilang.\n"
      ],
      "metadata": {
        "id": "_HSZ3wRYHlzW"
      },
      "id": "_HSZ3wRYHlzW"
    },
    {
      "cell_type": "code",
      "execution_count": null,
      "id": "beb4bb1c",
      "metadata": {
        "colab": {
          "base_uri": "https://localhost:8080/"
        },
        "id": "beb4bb1c",
        "outputId": "f2263f00-7f16-4d9b-9aec-e8674544548c"
      },
      "outputs": [
        {
          "output_type": "stream",
          "name": "stdout",
          "text": [
            "Tampilan Tipe Data Movies :\n",
            "<class 'pandas.core.frame.DataFrame'>\n",
            "RangeIndex: 9742 entries, 0 to 9741\n",
            "Data columns (total 3 columns):\n",
            " #   Column   Non-Null Count  Dtype \n",
            "---  ------   --------------  ----- \n",
            " 0   movieId  9742 non-null   int64 \n",
            " 1   title    9742 non-null   object\n",
            " 2   genres   9742 non-null   object\n",
            "dtypes: int64(1), object(2)\n",
            "memory usage: 228.5+ KB\n"
          ]
        }
      ],
      "source": [
        "print(\"Tampilan Tipe Data Movies :\")\n",
        "movies.info()"
      ]
    },
    {
      "cell_type": "markdown",
      "source": [
        "Informasi tipe data pada dataset `movies` telah ditampilkan, menunjukkan bahwa dataset ini terdiri dari 9742 entri dan 3 kolom dengan tipe data yang sesuai. Berikut adalah 10 data pertama dari dataset film yang meliputi `movieId`, `title`, dan `genres`."
      ],
      "metadata": {
        "id": "I6JzemqeFHHX"
      },
      "id": "I6JzemqeFHHX"
    },
    {
      "cell_type": "markdown",
      "source": [
        "**Data Frame `.describe()` for movies**"
      ],
      "metadata": {
        "id": "tf22WF4WJ9P_"
      },
      "id": "tf22WF4WJ9P_"
    },
    {
      "cell_type": "markdown",
      "source": [
        "Pada tahap ini, kita akan menampilkan statistik deskriptif dari dataset \"movies\" menggunakan fungsi `describe()`. Statistik ini akan memberikan gambaran tentang distribusi nilai pada kolom \"movieId\", termasuk jumlah data, nilai rata-rata, standar deviasi, dan rentang nilai.\n"
      ],
      "metadata": {
        "id": "KuZj1T-4J7XW"
      },
      "id": "KuZj1T-4J7XW"
    },
    {
      "cell_type": "code",
      "source": [
        "print(\"Statistik Deskriptif Movies DataFrame:\")\n",
        "movies.describe()"
      ],
      "metadata": {
        "colab": {
          "base_uri": "https://localhost:8080/",
          "height": 318
        },
        "id": "BNQwPnnyJp1r",
        "outputId": "cb32e41a-15f7-4b35-9007-106a392e57aa"
      },
      "id": "BNQwPnnyJp1r",
      "execution_count": null,
      "outputs": [
        {
          "output_type": "stream",
          "name": "stdout",
          "text": [
            "Statistik Deskriptif Movies DataFrame:\n"
          ]
        },
        {
          "output_type": "execute_result",
          "data": {
            "text/plain": [
              "             movieId\n",
              "count    9742.000000\n",
              "mean    42200.353623\n",
              "std     52160.494854\n",
              "min         1.000000\n",
              "25%      3248.250000\n",
              "50%      7300.000000\n",
              "75%     76232.000000\n",
              "max    193609.000000"
            ],
            "text/html": [
              "\n",
              "  <div id=\"df-fb55a896-6daf-428e-81bb-d40913d630d8\" class=\"colab-df-container\">\n",
              "    <div>\n",
              "<style scoped>\n",
              "    .dataframe tbody tr th:only-of-type {\n",
              "        vertical-align: middle;\n",
              "    }\n",
              "\n",
              "    .dataframe tbody tr th {\n",
              "        vertical-align: top;\n",
              "    }\n",
              "\n",
              "    .dataframe thead th {\n",
              "        text-align: right;\n",
              "    }\n",
              "</style>\n",
              "<table border=\"1\" class=\"dataframe\">\n",
              "  <thead>\n",
              "    <tr style=\"text-align: right;\">\n",
              "      <th></th>\n",
              "      <th>movieId</th>\n",
              "    </tr>\n",
              "  </thead>\n",
              "  <tbody>\n",
              "    <tr>\n",
              "      <th>count</th>\n",
              "      <td>9742.000000</td>\n",
              "    </tr>\n",
              "    <tr>\n",
              "      <th>mean</th>\n",
              "      <td>42200.353623</td>\n",
              "    </tr>\n",
              "    <tr>\n",
              "      <th>std</th>\n",
              "      <td>52160.494854</td>\n",
              "    </tr>\n",
              "    <tr>\n",
              "      <th>min</th>\n",
              "      <td>1.000000</td>\n",
              "    </tr>\n",
              "    <tr>\n",
              "      <th>25%</th>\n",
              "      <td>3248.250000</td>\n",
              "    </tr>\n",
              "    <tr>\n",
              "      <th>50%</th>\n",
              "      <td>7300.000000</td>\n",
              "    </tr>\n",
              "    <tr>\n",
              "      <th>75%</th>\n",
              "      <td>76232.000000</td>\n",
              "    </tr>\n",
              "    <tr>\n",
              "      <th>max</th>\n",
              "      <td>193609.000000</td>\n",
              "    </tr>\n",
              "  </tbody>\n",
              "</table>\n",
              "</div>\n",
              "    <div class=\"colab-df-buttons\">\n",
              "\n",
              "  <div class=\"colab-df-container\">\n",
              "    <button class=\"colab-df-convert\" onclick=\"convertToInteractive('df-fb55a896-6daf-428e-81bb-d40913d630d8')\"\n",
              "            title=\"Convert this dataframe to an interactive table.\"\n",
              "            style=\"display:none;\">\n",
              "\n",
              "  <svg xmlns=\"http://www.w3.org/2000/svg\" height=\"24px\" viewBox=\"0 -960 960 960\">\n",
              "    <path d=\"M120-120v-720h720v720H120Zm60-500h600v-160H180v160Zm220 220h160v-160H400v160Zm0 220h160v-160H400v160ZM180-400h160v-160H180v160Zm440 0h160v-160H620v160ZM180-180h160v-160H180v160Zm440 0h160v-160H620v160Z\"/>\n",
              "  </svg>\n",
              "    </button>\n",
              "\n",
              "  <style>\n",
              "    .colab-df-container {\n",
              "      display:flex;\n",
              "      gap: 12px;\n",
              "    }\n",
              "\n",
              "    .colab-df-convert {\n",
              "      background-color: #E8F0FE;\n",
              "      border: none;\n",
              "      border-radius: 50%;\n",
              "      cursor: pointer;\n",
              "      display: none;\n",
              "      fill: #1967D2;\n",
              "      height: 32px;\n",
              "      padding: 0 0 0 0;\n",
              "      width: 32px;\n",
              "    }\n",
              "\n",
              "    .colab-df-convert:hover {\n",
              "      background-color: #E2EBFA;\n",
              "      box-shadow: 0px 1px 2px rgba(60, 64, 67, 0.3), 0px 1px 3px 1px rgba(60, 64, 67, 0.15);\n",
              "      fill: #174EA6;\n",
              "    }\n",
              "\n",
              "    .colab-df-buttons div {\n",
              "      margin-bottom: 4px;\n",
              "    }\n",
              "\n",
              "    [theme=dark] .colab-df-convert {\n",
              "      background-color: #3B4455;\n",
              "      fill: #D2E3FC;\n",
              "    }\n",
              "\n",
              "    [theme=dark] .colab-df-convert:hover {\n",
              "      background-color: #434B5C;\n",
              "      box-shadow: 0px 1px 3px 1px rgba(0, 0, 0, 0.15);\n",
              "      filter: drop-shadow(0px 1px 2px rgba(0, 0, 0, 0.3));\n",
              "      fill: #FFFFFF;\n",
              "    }\n",
              "  </style>\n",
              "\n",
              "    <script>\n",
              "      const buttonEl =\n",
              "        document.querySelector('#df-fb55a896-6daf-428e-81bb-d40913d630d8 button.colab-df-convert');\n",
              "      buttonEl.style.display =\n",
              "        google.colab.kernel.accessAllowed ? 'block' : 'none';\n",
              "\n",
              "      async function convertToInteractive(key) {\n",
              "        const element = document.querySelector('#df-fb55a896-6daf-428e-81bb-d40913d630d8');\n",
              "        const dataTable =\n",
              "          await google.colab.kernel.invokeFunction('convertToInteractive',\n",
              "                                                    [key], {});\n",
              "        if (!dataTable) return;\n",
              "\n",
              "        const docLinkHtml = 'Like what you see? Visit the ' +\n",
              "          '<a target=\"_blank\" href=https://colab.research.google.com/notebooks/data_table.ipynb>data table notebook</a>'\n",
              "          + ' to learn more about interactive tables.';\n",
              "        element.innerHTML = '';\n",
              "        dataTable['output_type'] = 'display_data';\n",
              "        await google.colab.output.renderOutput(dataTable, element);\n",
              "        const docLink = document.createElement('div');\n",
              "        docLink.innerHTML = docLinkHtml;\n",
              "        element.appendChild(docLink);\n",
              "      }\n",
              "    </script>\n",
              "  </div>\n",
              "\n",
              "\n",
              "    <div id=\"df-2778a3f1-fdc1-484d-9c91-7d81c4b6d063\">\n",
              "      <button class=\"colab-df-quickchart\" onclick=\"quickchart('df-2778a3f1-fdc1-484d-9c91-7d81c4b6d063')\"\n",
              "                title=\"Suggest charts\"\n",
              "                style=\"display:none;\">\n",
              "\n",
              "<svg xmlns=\"http://www.w3.org/2000/svg\" height=\"24px\"viewBox=\"0 0 24 24\"\n",
              "     width=\"24px\">\n",
              "    <g>\n",
              "        <path d=\"M19 3H5c-1.1 0-2 .9-2 2v14c0 1.1.9 2 2 2h14c1.1 0 2-.9 2-2V5c0-1.1-.9-2-2-2zM9 17H7v-7h2v7zm4 0h-2V7h2v10zm4 0h-2v-4h2v4z\"/>\n",
              "    </g>\n",
              "</svg>\n",
              "      </button>\n",
              "\n",
              "<style>\n",
              "  .colab-df-quickchart {\n",
              "      --bg-color: #E8F0FE;\n",
              "      --fill-color: #1967D2;\n",
              "      --hover-bg-color: #E2EBFA;\n",
              "      --hover-fill-color: #174EA6;\n",
              "      --disabled-fill-color: #AAA;\n",
              "      --disabled-bg-color: #DDD;\n",
              "  }\n",
              "\n",
              "  [theme=dark] .colab-df-quickchart {\n",
              "      --bg-color: #3B4455;\n",
              "      --fill-color: #D2E3FC;\n",
              "      --hover-bg-color: #434B5C;\n",
              "      --hover-fill-color: #FFFFFF;\n",
              "      --disabled-bg-color: #3B4455;\n",
              "      --disabled-fill-color: #666;\n",
              "  }\n",
              "\n",
              "  .colab-df-quickchart {\n",
              "    background-color: var(--bg-color);\n",
              "    border: none;\n",
              "    border-radius: 50%;\n",
              "    cursor: pointer;\n",
              "    display: none;\n",
              "    fill: var(--fill-color);\n",
              "    height: 32px;\n",
              "    padding: 0;\n",
              "    width: 32px;\n",
              "  }\n",
              "\n",
              "  .colab-df-quickchart:hover {\n",
              "    background-color: var(--hover-bg-color);\n",
              "    box-shadow: 0 1px 2px rgba(60, 64, 67, 0.3), 0 1px 3px 1px rgba(60, 64, 67, 0.15);\n",
              "    fill: var(--button-hover-fill-color);\n",
              "  }\n",
              "\n",
              "  .colab-df-quickchart-complete:disabled,\n",
              "  .colab-df-quickchart-complete:disabled:hover {\n",
              "    background-color: var(--disabled-bg-color);\n",
              "    fill: var(--disabled-fill-color);\n",
              "    box-shadow: none;\n",
              "  }\n",
              "\n",
              "  .colab-df-spinner {\n",
              "    border: 2px solid var(--fill-color);\n",
              "    border-color: transparent;\n",
              "    border-bottom-color: var(--fill-color);\n",
              "    animation:\n",
              "      spin 1s steps(1) infinite;\n",
              "  }\n",
              "\n",
              "  @keyframes spin {\n",
              "    0% {\n",
              "      border-color: transparent;\n",
              "      border-bottom-color: var(--fill-color);\n",
              "      border-left-color: var(--fill-color);\n",
              "    }\n",
              "    20% {\n",
              "      border-color: transparent;\n",
              "      border-left-color: var(--fill-color);\n",
              "      border-top-color: var(--fill-color);\n",
              "    }\n",
              "    30% {\n",
              "      border-color: transparent;\n",
              "      border-left-color: var(--fill-color);\n",
              "      border-top-color: var(--fill-color);\n",
              "      border-right-color: var(--fill-color);\n",
              "    }\n",
              "    40% {\n",
              "      border-color: transparent;\n",
              "      border-right-color: var(--fill-color);\n",
              "      border-top-color: var(--fill-color);\n",
              "    }\n",
              "    60% {\n",
              "      border-color: transparent;\n",
              "      border-right-color: var(--fill-color);\n",
              "    }\n",
              "    80% {\n",
              "      border-color: transparent;\n",
              "      border-right-color: var(--fill-color);\n",
              "      border-bottom-color: var(--fill-color);\n",
              "    }\n",
              "    90% {\n",
              "      border-color: transparent;\n",
              "      border-bottom-color: var(--fill-color);\n",
              "    }\n",
              "  }\n",
              "</style>\n",
              "\n",
              "      <script>\n",
              "        async function quickchart(key) {\n",
              "          const quickchartButtonEl =\n",
              "            document.querySelector('#' + key + ' button');\n",
              "          quickchartButtonEl.disabled = true;  // To prevent multiple clicks.\n",
              "          quickchartButtonEl.classList.add('colab-df-spinner');\n",
              "          try {\n",
              "            const charts = await google.colab.kernel.invokeFunction(\n",
              "                'suggestCharts', [key], {});\n",
              "          } catch (error) {\n",
              "            console.error('Error during call to suggestCharts:', error);\n",
              "          }\n",
              "          quickchartButtonEl.classList.remove('colab-df-spinner');\n",
              "          quickchartButtonEl.classList.add('colab-df-quickchart-complete');\n",
              "        }\n",
              "        (() => {\n",
              "          let quickchartButtonEl =\n",
              "            document.querySelector('#df-2778a3f1-fdc1-484d-9c91-7d81c4b6d063 button');\n",
              "          quickchartButtonEl.style.display =\n",
              "            google.colab.kernel.accessAllowed ? 'block' : 'none';\n",
              "        })();\n",
              "      </script>\n",
              "    </div>\n",
              "\n",
              "    </div>\n",
              "  </div>\n"
            ],
            "application/vnd.google.colaboratory.intrinsic+json": {
              "type": "dataframe",
              "summary": "{\n  \"name\": \"movies\",\n  \"rows\": 8,\n  \"fields\": [\n    {\n      \"column\": \"movieId\",\n      \"properties\": {\n        \"dtype\": \"number\",\n        \"std\": 64891.92071692891,\n        \"min\": 1.0,\n        \"max\": 193609.0,\n        \"num_unique_values\": 8,\n        \"samples\": [\n          42200.353623485935,\n          7300.0,\n          9742.0\n        ],\n        \"semantic_type\": \"\",\n        \"description\": \"\"\n      }\n    }\n  ]\n}"
            }
          },
          "metadata": {},
          "execution_count": 5
        }
      ]
    },
    {
      "cell_type": "markdown",
      "source": [
        "Hasil statistik deskriptif menunjukkan bahwa kolom \"movieId\" memiliki 9742 entri dengan nilai rata-rata sekitar 42200, standar deviasi 52160, dan rentang nilai antara 1 hingga 193609. Ini memberikan gambaran mengenai distribusi ID film dalam dataset.\n"
      ],
      "metadata": {
        "id": "yYfumUCOKAst"
      },
      "id": "yYfumUCOKAst"
    },
    {
      "cell_type": "markdown",
      "source": [
        "**Data Frame `.head()` for ratings**"
      ],
      "metadata": {
        "id": "iMqZnHHOFdKA"
      },
      "id": "iMqZnHHOFdKA"
    },
    {
      "cell_type": "markdown",
      "source": [
        "Pada tahap ini, kita akan menampilkan 5 data pertama dari dataset rating menggunakan fungsi `head()`. Ini akan memberikan gambaran mengenai struktur data rating yang berisi ID pengguna, ID film, rating, dan waktu yang diberikan.\n"
      ],
      "metadata": {
        "id": "VwMNMT8zFSCn"
      },
      "id": "VwMNMT8zFSCn"
    },
    {
      "cell_type": "code",
      "source": [
        "print(\"Tampilan 5 Data pertama Ratings:\")\n",
        "ratings.head()"
      ],
      "metadata": {
        "colab": {
          "base_uri": "https://localhost:8080/",
          "height": 224
        },
        "id": "nO6OTSOdF9Je",
        "outputId": "cb3c90a0-33ad-4583-e62a-c66e956eba7a"
      },
      "id": "nO6OTSOdF9Je",
      "execution_count": null,
      "outputs": [
        {
          "output_type": "stream",
          "name": "stdout",
          "text": [
            "Tampilan 5 Data pertama Ratings:\n"
          ]
        },
        {
          "output_type": "execute_result",
          "data": {
            "text/plain": [
              "   userId  movieId  rating  timestamp\n",
              "0       1        1     4.0  964982703\n",
              "1       1        3     4.0  964981247\n",
              "2       1        6     4.0  964982224\n",
              "3       1       47     5.0  964983815\n",
              "4       1       50     5.0  964982931"
            ],
            "text/html": [
              "\n",
              "  <div id=\"df-9e158b1b-04dd-4a28-8033-44e41740802c\" class=\"colab-df-container\">\n",
              "    <div>\n",
              "<style scoped>\n",
              "    .dataframe tbody tr th:only-of-type {\n",
              "        vertical-align: middle;\n",
              "    }\n",
              "\n",
              "    .dataframe tbody tr th {\n",
              "        vertical-align: top;\n",
              "    }\n",
              "\n",
              "    .dataframe thead th {\n",
              "        text-align: right;\n",
              "    }\n",
              "</style>\n",
              "<table border=\"1\" class=\"dataframe\">\n",
              "  <thead>\n",
              "    <tr style=\"text-align: right;\">\n",
              "      <th></th>\n",
              "      <th>userId</th>\n",
              "      <th>movieId</th>\n",
              "      <th>rating</th>\n",
              "      <th>timestamp</th>\n",
              "    </tr>\n",
              "  </thead>\n",
              "  <tbody>\n",
              "    <tr>\n",
              "      <th>0</th>\n",
              "      <td>1</td>\n",
              "      <td>1</td>\n",
              "      <td>4.0</td>\n",
              "      <td>964982703</td>\n",
              "    </tr>\n",
              "    <tr>\n",
              "      <th>1</th>\n",
              "      <td>1</td>\n",
              "      <td>3</td>\n",
              "      <td>4.0</td>\n",
              "      <td>964981247</td>\n",
              "    </tr>\n",
              "    <tr>\n",
              "      <th>2</th>\n",
              "      <td>1</td>\n",
              "      <td>6</td>\n",
              "      <td>4.0</td>\n",
              "      <td>964982224</td>\n",
              "    </tr>\n",
              "    <tr>\n",
              "      <th>3</th>\n",
              "      <td>1</td>\n",
              "      <td>47</td>\n",
              "      <td>5.0</td>\n",
              "      <td>964983815</td>\n",
              "    </tr>\n",
              "    <tr>\n",
              "      <th>4</th>\n",
              "      <td>1</td>\n",
              "      <td>50</td>\n",
              "      <td>5.0</td>\n",
              "      <td>964982931</td>\n",
              "    </tr>\n",
              "  </tbody>\n",
              "</table>\n",
              "</div>\n",
              "    <div class=\"colab-df-buttons\">\n",
              "\n",
              "  <div class=\"colab-df-container\">\n",
              "    <button class=\"colab-df-convert\" onclick=\"convertToInteractive('df-9e158b1b-04dd-4a28-8033-44e41740802c')\"\n",
              "            title=\"Convert this dataframe to an interactive table.\"\n",
              "            style=\"display:none;\">\n",
              "\n",
              "  <svg xmlns=\"http://www.w3.org/2000/svg\" height=\"24px\" viewBox=\"0 -960 960 960\">\n",
              "    <path d=\"M120-120v-720h720v720H120Zm60-500h600v-160H180v160Zm220 220h160v-160H400v160Zm0 220h160v-160H400v160ZM180-400h160v-160H180v160Zm440 0h160v-160H620v160ZM180-180h160v-160H180v160Zm440 0h160v-160H620v160Z\"/>\n",
              "  </svg>\n",
              "    </button>\n",
              "\n",
              "  <style>\n",
              "    .colab-df-container {\n",
              "      display:flex;\n",
              "      gap: 12px;\n",
              "    }\n",
              "\n",
              "    .colab-df-convert {\n",
              "      background-color: #E8F0FE;\n",
              "      border: none;\n",
              "      border-radius: 50%;\n",
              "      cursor: pointer;\n",
              "      display: none;\n",
              "      fill: #1967D2;\n",
              "      height: 32px;\n",
              "      padding: 0 0 0 0;\n",
              "      width: 32px;\n",
              "    }\n",
              "\n",
              "    .colab-df-convert:hover {\n",
              "      background-color: #E2EBFA;\n",
              "      box-shadow: 0px 1px 2px rgba(60, 64, 67, 0.3), 0px 1px 3px 1px rgba(60, 64, 67, 0.15);\n",
              "      fill: #174EA6;\n",
              "    }\n",
              "\n",
              "    .colab-df-buttons div {\n",
              "      margin-bottom: 4px;\n",
              "    }\n",
              "\n",
              "    [theme=dark] .colab-df-convert {\n",
              "      background-color: #3B4455;\n",
              "      fill: #D2E3FC;\n",
              "    }\n",
              "\n",
              "    [theme=dark] .colab-df-convert:hover {\n",
              "      background-color: #434B5C;\n",
              "      box-shadow: 0px 1px 3px 1px rgba(0, 0, 0, 0.15);\n",
              "      filter: drop-shadow(0px 1px 2px rgba(0, 0, 0, 0.3));\n",
              "      fill: #FFFFFF;\n",
              "    }\n",
              "  </style>\n",
              "\n",
              "    <script>\n",
              "      const buttonEl =\n",
              "        document.querySelector('#df-9e158b1b-04dd-4a28-8033-44e41740802c button.colab-df-convert');\n",
              "      buttonEl.style.display =\n",
              "        google.colab.kernel.accessAllowed ? 'block' : 'none';\n",
              "\n",
              "      async function convertToInteractive(key) {\n",
              "        const element = document.querySelector('#df-9e158b1b-04dd-4a28-8033-44e41740802c');\n",
              "        const dataTable =\n",
              "          await google.colab.kernel.invokeFunction('convertToInteractive',\n",
              "                                                    [key], {});\n",
              "        if (!dataTable) return;\n",
              "\n",
              "        const docLinkHtml = 'Like what you see? Visit the ' +\n",
              "          '<a target=\"_blank\" href=https://colab.research.google.com/notebooks/data_table.ipynb>data table notebook</a>'\n",
              "          + ' to learn more about interactive tables.';\n",
              "        element.innerHTML = '';\n",
              "        dataTable['output_type'] = 'display_data';\n",
              "        await google.colab.output.renderOutput(dataTable, element);\n",
              "        const docLink = document.createElement('div');\n",
              "        docLink.innerHTML = docLinkHtml;\n",
              "        element.appendChild(docLink);\n",
              "      }\n",
              "    </script>\n",
              "  </div>\n",
              "\n",
              "\n",
              "    <div id=\"df-dac5f283-3a21-4c0c-870f-ee5b4d79eeb3\">\n",
              "      <button class=\"colab-df-quickchart\" onclick=\"quickchart('df-dac5f283-3a21-4c0c-870f-ee5b4d79eeb3')\"\n",
              "                title=\"Suggest charts\"\n",
              "                style=\"display:none;\">\n",
              "\n",
              "<svg xmlns=\"http://www.w3.org/2000/svg\" height=\"24px\"viewBox=\"0 0 24 24\"\n",
              "     width=\"24px\">\n",
              "    <g>\n",
              "        <path d=\"M19 3H5c-1.1 0-2 .9-2 2v14c0 1.1.9 2 2 2h14c1.1 0 2-.9 2-2V5c0-1.1-.9-2-2-2zM9 17H7v-7h2v7zm4 0h-2V7h2v10zm4 0h-2v-4h2v4z\"/>\n",
              "    </g>\n",
              "</svg>\n",
              "      </button>\n",
              "\n",
              "<style>\n",
              "  .colab-df-quickchart {\n",
              "      --bg-color: #E8F0FE;\n",
              "      --fill-color: #1967D2;\n",
              "      --hover-bg-color: #E2EBFA;\n",
              "      --hover-fill-color: #174EA6;\n",
              "      --disabled-fill-color: #AAA;\n",
              "      --disabled-bg-color: #DDD;\n",
              "  }\n",
              "\n",
              "  [theme=dark] .colab-df-quickchart {\n",
              "      --bg-color: #3B4455;\n",
              "      --fill-color: #D2E3FC;\n",
              "      --hover-bg-color: #434B5C;\n",
              "      --hover-fill-color: #FFFFFF;\n",
              "      --disabled-bg-color: #3B4455;\n",
              "      --disabled-fill-color: #666;\n",
              "  }\n",
              "\n",
              "  .colab-df-quickchart {\n",
              "    background-color: var(--bg-color);\n",
              "    border: none;\n",
              "    border-radius: 50%;\n",
              "    cursor: pointer;\n",
              "    display: none;\n",
              "    fill: var(--fill-color);\n",
              "    height: 32px;\n",
              "    padding: 0;\n",
              "    width: 32px;\n",
              "  }\n",
              "\n",
              "  .colab-df-quickchart:hover {\n",
              "    background-color: var(--hover-bg-color);\n",
              "    box-shadow: 0 1px 2px rgba(60, 64, 67, 0.3), 0 1px 3px 1px rgba(60, 64, 67, 0.15);\n",
              "    fill: var(--button-hover-fill-color);\n",
              "  }\n",
              "\n",
              "  .colab-df-quickchart-complete:disabled,\n",
              "  .colab-df-quickchart-complete:disabled:hover {\n",
              "    background-color: var(--disabled-bg-color);\n",
              "    fill: var(--disabled-fill-color);\n",
              "    box-shadow: none;\n",
              "  }\n",
              "\n",
              "  .colab-df-spinner {\n",
              "    border: 2px solid var(--fill-color);\n",
              "    border-color: transparent;\n",
              "    border-bottom-color: var(--fill-color);\n",
              "    animation:\n",
              "      spin 1s steps(1) infinite;\n",
              "  }\n",
              "\n",
              "  @keyframes spin {\n",
              "    0% {\n",
              "      border-color: transparent;\n",
              "      border-bottom-color: var(--fill-color);\n",
              "      border-left-color: var(--fill-color);\n",
              "    }\n",
              "    20% {\n",
              "      border-color: transparent;\n",
              "      border-left-color: var(--fill-color);\n",
              "      border-top-color: var(--fill-color);\n",
              "    }\n",
              "    30% {\n",
              "      border-color: transparent;\n",
              "      border-left-color: var(--fill-color);\n",
              "      border-top-color: var(--fill-color);\n",
              "      border-right-color: var(--fill-color);\n",
              "    }\n",
              "    40% {\n",
              "      border-color: transparent;\n",
              "      border-right-color: var(--fill-color);\n",
              "      border-top-color: var(--fill-color);\n",
              "    }\n",
              "    60% {\n",
              "      border-color: transparent;\n",
              "      border-right-color: var(--fill-color);\n",
              "    }\n",
              "    80% {\n",
              "      border-color: transparent;\n",
              "      border-right-color: var(--fill-color);\n",
              "      border-bottom-color: var(--fill-color);\n",
              "    }\n",
              "    90% {\n",
              "      border-color: transparent;\n",
              "      border-bottom-color: var(--fill-color);\n",
              "    }\n",
              "  }\n",
              "</style>\n",
              "\n",
              "      <script>\n",
              "        async function quickchart(key) {\n",
              "          const quickchartButtonEl =\n",
              "            document.querySelector('#' + key + ' button');\n",
              "          quickchartButtonEl.disabled = true;  // To prevent multiple clicks.\n",
              "          quickchartButtonEl.classList.add('colab-df-spinner');\n",
              "          try {\n",
              "            const charts = await google.colab.kernel.invokeFunction(\n",
              "                'suggestCharts', [key], {});\n",
              "          } catch (error) {\n",
              "            console.error('Error during call to suggestCharts:', error);\n",
              "          }\n",
              "          quickchartButtonEl.classList.remove('colab-df-spinner');\n",
              "          quickchartButtonEl.classList.add('colab-df-quickchart-complete');\n",
              "        }\n",
              "        (() => {\n",
              "          let quickchartButtonEl =\n",
              "            document.querySelector('#df-dac5f283-3a21-4c0c-870f-ee5b4d79eeb3 button');\n",
              "          quickchartButtonEl.style.display =\n",
              "            google.colab.kernel.accessAllowed ? 'block' : 'none';\n",
              "        })();\n",
              "      </script>\n",
              "    </div>\n",
              "\n",
              "    </div>\n",
              "  </div>\n"
            ],
            "application/vnd.google.colaboratory.intrinsic+json": {
              "type": "dataframe",
              "variable_name": "ratings"
            }
          },
          "metadata": {},
          "execution_count": 6
        }
      ]
    },
    {
      "cell_type": "markdown",
      "source": [
        "Data pertama yang ditampilkan menunjukkan kolom \"userId\", \"movieId\", \"rating\", dan \"timestamp\". Kolom \"rating\" berisi nilai penilaian yang diberikan oleh pengguna terhadap film tertentu, sementara \"timestamp\" mencatat waktu pemberian rating tersebut.\n"
      ],
      "metadata": {
        "id": "9eADQqfsH9xG"
      },
      "id": "9eADQqfsH9xG"
    },
    {
      "cell_type": "markdown",
      "source": [
        "**Data Frame `.info()` for ratings**"
      ],
      "metadata": {
        "id": "8FzkBTqSHxcH"
      },
      "id": "8FzkBTqSHxcH"
    },
    {
      "cell_type": "markdown",
      "source": [
        "Pada tahap ini, kita akan memeriksa informasi mengenai tipe data dan jumlah entri dalam dataset rating menggunakan fungsi `info()`. Ini bertujuan untuk memastikan bahwa setiap kolom memiliki tipe data yang sesuai dan tidak ada nilai yang hilang.\n"
      ],
      "metadata": {
        "id": "HbSB5u6xKK-n"
      },
      "id": "HbSB5u6xKK-n"
    },
    {
      "cell_type": "code",
      "execution_count": null,
      "id": "528a0907",
      "metadata": {
        "colab": {
          "base_uri": "https://localhost:8080/"
        },
        "id": "528a0907",
        "outputId": "7e720288-1478-4987-93d1-ff7f1fe7a421"
      },
      "outputs": [
        {
          "output_type": "stream",
          "name": "stdout",
          "text": [
            "Tampilan Tipe Data Ratings :\n",
            "<class 'pandas.core.frame.DataFrame'>\n",
            "RangeIndex: 100836 entries, 0 to 100835\n",
            "Data columns (total 4 columns):\n",
            " #   Column     Non-Null Count   Dtype  \n",
            "---  ------     --------------   -----  \n",
            " 0   userId     100836 non-null  int64  \n",
            " 1   movieId    100836 non-null  int64  \n",
            " 2   rating     100836 non-null  float64\n",
            " 3   timestamp  100836 non-null  int64  \n",
            "dtypes: float64(1), int64(3)\n",
            "memory usage: 3.1 MB\n"
          ]
        }
      ],
      "source": [
        "print(\"Tampilan Tipe Data Ratings :\")\n",
        "ratings.info()"
      ]
    },
    {
      "cell_type": "markdown",
      "source": [
        "Hasil pengecekan menunjukkan bahwa dataset \"ratings\" terdiri dari 100836 entri dengan 4 kolom: \"userId\" (tipe data int64), \"movieId\" (tipe data int64), \"rating\" (tipe data float64), dan \"timestamp\" (tipe data int64). Semua kolom tidak memiliki nilai yang hilang.\n"
      ],
      "metadata": {
        "id": "hK_PkXnUKMUV"
      },
      "id": "hK_PkXnUKMUV"
    },
    {
      "cell_type": "markdown",
      "source": [
        "**Data Frame `.describe()` for ratings**"
      ],
      "metadata": {
        "id": "QmwNgCj2KOxF"
      },
      "id": "QmwNgCj2KOxF"
    },
    {
      "cell_type": "markdown",
      "source": [
        "Pada tahap ini, kita akan menampilkan statistik deskriptif dari dataset \"ratings\" yang telah digabungkan menggunakan fungsi `describe()`. Statistik ini akan memberikan gambaran tentang distribusi nilai pada kolom \"userId\", \"movieId\", \"rating\", dan \"timestamp\".\n"
      ],
      "metadata": {
        "id": "DxnxtYY_KV-V"
      },
      "id": "DxnxtYY_KV-V"
    },
    {
      "cell_type": "code",
      "execution_count": null,
      "id": "3e7bc119",
      "metadata": {
        "colab": {
          "base_uri": "https://localhost:8080/"
        },
        "id": "3e7bc119",
        "outputId": "a90ead38-7a0a-4d68-9be5-28c1f0a4cbd4"
      },
      "outputs": [
        {
          "output_type": "stream",
          "name": "stdout",
          "text": [
            "Statistik Deskriptif Ratings DataFrame:\n",
            "              userId        movieId         rating     timestamp\n",
            "count  100836.000000  100836.000000  100836.000000  1.008360e+05\n",
            "mean      326.127564   19435.295718       3.501557  1.205946e+09\n",
            "std       182.618491   35530.987199       1.042529  2.162610e+08\n",
            "min         1.000000       1.000000       0.500000  8.281246e+08\n",
            "25%       177.000000    1199.000000       3.000000  1.019124e+09\n",
            "50%       325.000000    2991.000000       3.500000  1.186087e+09\n",
            "75%       477.000000    8122.000000       4.000000  1.435994e+09\n",
            "max       610.000000  193609.000000       5.000000  1.537799e+09\n"
          ]
        }
      ],
      "source": [
        "print(\"Statistik Deskriptif Ratings DataFrame:\")\n",
        "print(ratings.describe())"
      ]
    },
    {
      "cell_type": "markdown",
      "source": [
        "Hasil statistik deskriptif menunjukkan bahwa dataset \"ratings\" memiliki 100836 entri dengan berbagai distribusi nilai untuk masing-masing kolom. Kolom \"rating\" memiliki rata-rata 3.50 dengan rentang nilai dari 0.5 hingga 5, sedangkan \"movieId\" dan \"userId\" memiliki nilai distribusi yang lebih tinggi, masing-masing dengan rentang nilai dari 1 hingga 193609 dan 1 hingga 610.\n"
      ],
      "metadata": {
        "id": "RyViW3clKXon"
      },
      "id": "RyViW3clKXon"
    },
    {
      "cell_type": "markdown",
      "source": [
        "### Memeriksa Data Terdapat Null, Duplikat, Outlier"
      ],
      "metadata": {
        "id": "wf1KbGbZLL6B"
      },
      "id": "wf1KbGbZLL6B"
    },
    {
      "cell_type": "markdown",
      "id": "e22287c9",
      "metadata": {
        "id": "e22287c9"
      },
      "source": [
        "#### Memeriksa Data Null"
      ]
    },
    {
      "cell_type": "markdown",
      "source": [
        "**Data Frame `.isnull()` for movies**"
      ],
      "metadata": {
        "id": "iJIKw6MKLdOl"
      },
      "id": "iJIKw6MKLdOl"
    },
    {
      "cell_type": "markdown",
      "source": [
        "Pada tahap ini, kita akan memeriksa jumlah data null pada dataset \"movies\" menggunakan fungsi `isnull()` dan `sum()`. Ini bertujuan untuk memastikan bahwa tidak ada nilai yang hilang pada kolom-kolom dalam dataset yang dapat mempengaruhi analisis lebih lanjut.\n"
      ],
      "metadata": {
        "id": "G-FDjcjdMPwF"
      },
      "id": "G-FDjcjdMPwF"
    },
    {
      "cell_type": "code",
      "source": [
        "print(\"Jumlah Data Null Movies DataFrame:\")\n",
        "print(movies.isnull().sum())"
      ],
      "metadata": {
        "colab": {
          "base_uri": "https://localhost:8080/"
        },
        "id": "NXZ5bYo4L6AN",
        "outputId": "3dde774f-632b-4089-ee23-d5069d0d6409"
      },
      "id": "NXZ5bYo4L6AN",
      "execution_count": null,
      "outputs": [
        {
          "output_type": "stream",
          "name": "stdout",
          "text": [
            "Jumlah Data Null Movies DataFrame:\n",
            "movieId    0\n",
            "title      0\n",
            "genres     0\n",
            "dtype: int64\n"
          ]
        }
      ]
    },
    {
      "cell_type": "markdown",
      "source": [
        "Hasil pengecekan menunjukkan bahwa tidak ada data null pada kolom \"movieId\", \"title\", dan \"genres\" dalam dataset \"movies\". Semua data pada kolom-kolom tersebut lengkap dan siap digunakan untuk analisis lebih lanjut.\n"
      ],
      "metadata": {
        "id": "IV9S4TSLMQ21"
      },
      "id": "IV9S4TSLMQ21"
    },
    {
      "cell_type": "markdown",
      "source": [
        "**Data Frame `.isnull()` for ratings**"
      ],
      "metadata": {
        "id": "kdXUA2QwLk0V"
      },
      "id": "kdXUA2QwLk0V"
    },
    {
      "cell_type": "markdown",
      "source": [
        "Pada tahap ini, kita akan memeriksa jumlah data null dalam dataset \"ratings\" menggunakan fungsi `isnull()` dan `sum()`. Ini bertujuan untuk memastikan bahwa tidak ada nilai yang hilang pada kolom-kolom dalam dataset yang dapat mempengaruhi analisis lebih lanjut.\n"
      ],
      "metadata": {
        "id": "uhBYilFiMSKN"
      },
      "id": "uhBYilFiMSKN"
    },
    {
      "cell_type": "code",
      "execution_count": null,
      "id": "287ba374",
      "metadata": {
        "colab": {
          "base_uri": "https://localhost:8080/"
        },
        "id": "287ba374",
        "outputId": "ed6cb58a-a6ba-4d31-fee9-8671dcb831c6"
      },
      "outputs": [
        {
          "output_type": "stream",
          "name": "stdout",
          "text": [
            "Jumlah Data Null Ratings DataFrame:\n",
            "userId       0\n",
            "movieId      0\n",
            "rating       0\n",
            "timestamp    0\n",
            "dtype: int64\n"
          ]
        }
      ],
      "source": [
        "print(\"Jumlah Data Null Ratings DataFrame:\")\n",
        "print(ratings.isnull().sum())"
      ]
    },
    {
      "cell_type": "markdown",
      "source": [
        "Hasil pengecekan menunjukkan bahwa tidak ada data null pada kolom \"userId\", \"movieId\", \"rating\", dan \"timestamp\" dalam dataset \"ratings\". Semua data pada kolom-kolom tersebut lengkap dan siap digunakan untuk analisis lebih lanjut.\n"
      ],
      "metadata": {
        "id": "Vis-L5HQMTJV"
      },
      "id": "Vis-L5HQMTJV"
    },
    {
      "cell_type": "markdown",
      "id": "6a876efc",
      "metadata": {
        "id": "6a876efc"
      },
      "source": [
        "#### Memeriksa Data Duplikat"
      ]
    },
    {
      "cell_type": "markdown",
      "source": [
        "**Data Frame `.duplicated()` for movies**"
      ],
      "metadata": {
        "id": "anhCurJ5Le5N"
      },
      "id": "anhCurJ5Le5N"
    },
    {
      "cell_type": "markdown",
      "source": [
        "Pada tahap ini, kita akan memeriksa jumlah data duplikat dalam dataset \"movies\" menggunakan fungsi `duplicated()` dan `sum()`. Langkah ini penting untuk memastikan bahwa tidak ada entri ganda yang dapat mempengaruhi analisis data lebih lanjut.\n"
      ],
      "metadata": {
        "id": "1YCI2YZuMZvt"
      },
      "id": "1YCI2YZuMZvt"
    },
    {
      "cell_type": "code",
      "source": [
        "print(\"Jumlah Data Duplikat Movies DataFrame:\")\n",
        "print(movies.duplicated().sum())"
      ],
      "metadata": {
        "colab": {
          "base_uri": "https://localhost:8080/"
        },
        "id": "UTLLoVYLL3GF",
        "outputId": "8da3e11a-00f7-44af-e06d-79c0962b53ea"
      },
      "id": "UTLLoVYLL3GF",
      "execution_count": null,
      "outputs": [
        {
          "output_type": "stream",
          "name": "stdout",
          "text": [
            "Jumlah Data Duplikat Movies DataFrame:\n",
            "0\n"
          ]
        }
      ]
    },
    {
      "cell_type": "markdown",
      "source": [
        "Hasil pengecekan menunjukkan bahwa tidak ada data duplikat dalam dataset \"movies\". Semua entri dalam dataset ini unik dan siap digunakan untuk analisis lebih lanjut.\n"
      ],
      "metadata": {
        "id": "iS-mHtKIMbbF"
      },
      "id": "iS-mHtKIMbbF"
    },
    {
      "cell_type": "markdown",
      "source": [
        "**Data Frame `.duplicated()` for ratings**"
      ],
      "metadata": {
        "id": "_kQIPTB3Lqv1"
      },
      "id": "_kQIPTB3Lqv1"
    },
    {
      "cell_type": "markdown",
      "source": [
        "Pada tahap ini, kita akan memeriksa jumlah data duplikat dalam dataset \"ratings\" menggunakan fungsi `duplicated()` dan `sum()`. Langkah ini penting untuk memastikan bahwa tidak ada entri ganda yang dapat mempengaruhi analisis data lebih lanjut.\n"
      ],
      "metadata": {
        "id": "_qOAufB8MgxV"
      },
      "id": "_qOAufB8MgxV"
    },
    {
      "cell_type": "code",
      "execution_count": null,
      "id": "22eb0a17",
      "metadata": {
        "colab": {
          "base_uri": "https://localhost:8080/"
        },
        "id": "22eb0a17",
        "outputId": "b71bf587-6ebb-4ae0-ae57-9c6b590de738"
      },
      "outputs": [
        {
          "output_type": "stream",
          "name": "stdout",
          "text": [
            "Jumlah Data Duplikat Ratings DataFrame:\n",
            "0\n"
          ]
        }
      ],
      "source": [
        "print(\"Jumlah Data Duplikat Ratings DataFrame:\")\n",
        "print(ratings.duplicated().sum())"
      ]
    },
    {
      "cell_type": "markdown",
      "source": [
        "Hasil pengecekan menunjukkan bahwa tidak ada data duplikat dalam dataset \"ratings\". Semua entri dalam dataset ini unik dan siap digunakan untuk analisis lebih lanjut.\n"
      ],
      "metadata": {
        "id": "Bg7WMar9Mhxl"
      },
      "id": "Bg7WMar9Mhxl"
    },
    {
      "cell_type": "markdown",
      "id": "b1151220",
      "metadata": {
        "id": "b1151220"
      },
      "source": [
        "#### Memeriksa Data Outliers"
      ]
    },
    {
      "cell_type": "markdown",
      "source": [
        "Pada tahap ini, kita akan memeriksa jumlah data outlier dalam dataset \"ratings\" berdasarkan kriteria tertentu, seperti rating yang lebih besar dari 5, lebih kecil dari 0, atau sama dengan 0, serta timestamp yang lebih besar dari nilai tertentu. Ini bertujuan untuk memastikan bahwa data yang digunakan dalam analisis bebas dari nilai-nilai yang tidak valid.\n"
      ],
      "metadata": {
        "id": "sDec3bMmNa7d"
      },
      "id": "sDec3bMmNa7d"
    },
    {
      "cell_type": "code",
      "execution_count": null,
      "id": "e5f3a943",
      "metadata": {
        "colab": {
          "base_uri": "https://localhost:8080/"
        },
        "id": "e5f3a943",
        "outputId": "548ff598-c0a3-4289-92bb-70267b12ccf6"
      },
      "outputs": [
        {
          "output_type": "stream",
          "name": "stdout",
          "text": [
            "Jumlah Data Outlier ratings DataFrame:\n",
            "0\n",
            "Jumlah Data Outlier ratings DataFrame:\n",
            "0\n",
            "Jumlah Data Outlier ratings DataFrame:\n",
            "0\n",
            "Jumlah Data Outlier ratings DataFrame:\n",
            "0\n",
            "Jumlah Data Outlier pada Timestamp:\n",
            "0\n"
          ]
        }
      ],
      "source": [
        "print(\"Jumlah Data Outlier ratings DataFrame:\")\n",
        "print((ratings['rating'] > 5).sum())\n",
        "print(\"Jumlah Data Outlier ratings DataFrame:\")\n",
        "print((ratings['rating'] < 0).sum())\n",
        "print(\"Jumlah Data Outlier ratings DataFrame:\")\n",
        "print((ratings['rating'] == 0).sum())\n",
        "print(\"Jumlah Data Outlier ratings DataFrame:\")\n",
        "print((ratings['rating'] > 5).sum() + (ratings['rating'] < 0).sum() + (ratings['rating'] == 0).sum())\n",
        "print(\"Jumlah Data Outlier pada Timestamp:\")\n",
        "print((ratings['timestamp'] > 2147483647).sum())"
      ]
    },
    {
      "cell_type": "markdown",
      "source": [
        "Hasil pengecekan menunjukkan bahwa tidak ada data outlier pada kolom \"rating\" yang memiliki nilai lebih besar dari 5, lebih kecil dari 0, atau sama dengan 0. Selain itu, tidak ditemukan outlier pada kolom \"timestamp\" dengan nilai lebih besar dari 2147483647. Semua data dalam dataset \"ratings\" valid untuk analisis lebih lanjut.\n"
      ],
      "metadata": {
        "id": "_D1J78E1NcQF"
      },
      "id": "_D1J78E1NcQF"
    },
    {
      "cell_type": "markdown",
      "id": "0c6fc964",
      "metadata": {
        "id": "0c6fc964"
      },
      "source": [
        "### Exploratory Data Analysis"
      ]
    },
    {
      "cell_type": "markdown",
      "source": [
        "####**Distribusi Rating**"
      ],
      "metadata": {
        "id": "5MeEVJjiOR0c"
      },
      "id": "5MeEVJjiOR0c"
    },
    {
      "cell_type": "markdown",
      "source": [
        "Pada tahap ini, kita akan melakukan analisis eksplorasi data untuk menampilkan distribusi rating menggunakan histogram dan plot kernel density estimate (KDE). Ini akan memberikan gambaran mengenai frekuensi pemberian rating pada dataset \"ratings\".\n"
      ],
      "metadata": {
        "id": "7N8aFEBnOUL8"
      },
      "id": "7N8aFEBnOUL8"
    },
    {
      "cell_type": "code",
      "execution_count": null,
      "id": "5619b4c2",
      "metadata": {
        "colab": {
          "base_uri": "https://localhost:8080/",
          "height": 772
        },
        "id": "5619b4c2",
        "outputId": "5a2b5717-2c4e-48bd-cc01-3fc3d73ef808"
      },
      "outputs": [
        {
          "output_type": "display_data",
          "data": {
            "text/plain": [
              "<Figure size 1000x600 with 1 Axes>"
            ],
            "image/png": "[encoded data removed]"
          },
          "metadata": {}
        },
        {
          "output_type": "stream",
          "name": "stdout",
          "text": [
            "Frekuensi Rating:\n",
            "4.0    26818\n",
            "3.0    20047\n",
            "5.0    13211\n",
            "3.5    13136\n",
            "4.5     8551\n",
            "2.0     7551\n",
            "2.5     5550\n",
            "1.0     2811\n",
            "1.5     1791\n",
            "0.5     1370\n",
            "Name: rating, dtype: int64\n"
          ]
        }
      ],
      "source": [
        "# Exploratory Data Analysis\n",
        "# 1. Distribution of Ratings\n",
        "plt.figure(figsize=(10, 6))\n",
        "sns.histplot(ratings['rating'], bins=10, kde=True)\n",
        "plt.title('Distribution of Ratings')\n",
        "plt.xlabel('Rating')\n",
        "plt.ylabel('Frequency')\n",
        "plt.show()\n",
        "\n",
        "print(\"Frekuensi Rating:\")\n",
        "print(ratings['rating'].value_counts())\n"
      ]
    },
    {
      "cell_type": "markdown",
      "source": [
        "Grafik distribusi rating menunjukkan bahwa rating 4.0 memiliki frekuensi tertinggi, diikuti oleh rating 3.0 dan 5.0. Frekuensi rating lainnya, seperti 1.0 dan 0.5, terlihat jauh lebih rendah. Berikut adalah rincian frekuensi rating dalam dataset:\n",
        "\n",
        "**Frekuensi Rating:**\n",
        "- 4.0: 26,818\n",
        "- 3.0: 20,047\n",
        "- 5.0: 13,211\n",
        "- 3.5: 13,136\n",
        "- 4.5: 8,551\n",
        "- 2.0: 7,551\n",
        "- 2.5: 5,550\n",
        "- 1.0: 2,811\n",
        "- 1.5: 1,791\n",
        "- 0.5: 1,370\n"
      ],
      "metadata": {
        "id": "Ta8WwBdeOjmJ"
      },
      "id": "Ta8WwBdeOjmJ"
    },
    {
      "cell_type": "markdown",
      "source": [
        "#### **Top 10 Movies by Average Rating**"
      ],
      "metadata": {
        "id": "IyfWNINmPd1z"
      },
      "id": "IyfWNINmPd1z"
    },
    {
      "cell_type": "markdown",
      "source": [
        "Pada tahap ini, kita akan menghitung dan menampilkan 10 film teratas berdasarkan rating rata-rata. Proses ini melibatkan penggabungan dataset \"ratings\" dan \"movies\" untuk mendapatkan judul film, kemudian mengelompokkan berdasarkan judul dan menghitung rata-rata rating untuk setiap film.\n"
      ],
      "metadata": {
        "id": "SeKPzwcHP0JL"
      },
      "id": "SeKPzwcHP0JL"
    },
    {
      "cell_type": "code",
      "execution_count": null,
      "id": "c2f3a514",
      "metadata": {
        "colab": {
          "base_uri": "https://localhost:8080/",
          "height": 790
        },
        "id": "c2f3a514",
        "outputId": "49672938-a7f1-455f-e2a0-706446691fb6"
      },
      "outputs": [
        {
          "output_type": "display_data",
          "data": {
            "text/plain": [
              "<Figure size 1000x600 with 1 Axes>"
            ],
            "image/png": "[encoded data removed]"
          },
          "metadata": {}
        },
        {
          "output_type": "stream",
          "name": "stdout",
          "text": [
            "Top 10 Movies by Average Rating:\n",
            "title\n",
            "'Salem's Lot (2004)                     5.0\n",
            "12 Angry Men (1997)                     5.0\n",
            "12 Chairs (1976)                        5.0\n",
            "20 Million Miles to Earth (1957)        5.0\n",
            "61* (2001)                              5.0\n",
            "7 Faces of Dr. Lao (1964)               5.0\n",
            "9/11 (2002)                             5.0\n",
            "A Detective Story (2003)                5.0\n",
            "A Flintstones Christmas Carol (1994)    5.0\n",
            "A Perfect Day (2015)                    5.0\n",
            "Name: rating, dtype: float64\n"
          ]
        }
      ],
      "source": [
        "#2. Top 10 Movies by Average Rating\n",
        "# Merge ratings with movies to get the movie titles\n",
        "merged_ratings = pd.merge(ratings, movies, on='movieId')\n",
        "\n",
        "# Now you can group by title\n",
        "top_10_movies = merged_ratings.groupby('title')['rating'].mean().nlargest(10)\n",
        "\n",
        "plt.figure(figsize=(10, 6))\n",
        "top_10_movies.plot(kind='barh')\n",
        "plt.title('Top 10 Movies by Average Rating')\n",
        "plt.xlabel('Average Rating')\n",
        "plt.ylabel('Movie Title')\n",
        "plt.show()\n",
        "\n",
        "print(\"Top 10 Movies by Average Rating:\")\n",
        "print(top_10_movies)"
      ]
    },
    {
      "cell_type": "markdown",
      "source": [
        "Grafik yang ditampilkan menunjukkan 10 film teratas berdasarkan rating rata-rata. Film dengan rating tertinggi adalah *A Perfect Day (2015)* diikuti oleh *A Flintstones Christmas Carol (1994)* dan *A Detective Story (2003)*. Data ini memberikan wawasan tentang film-film yang paling dihargai berdasarkan rating dari pengguna.\n",
        "\n",
        "**Top 10 Movies by Average Rating:**\n",
        "1. A Perfect Day (2015)\n",
        "2. A Flintstones Christmas Carol (1994)\n",
        "3. A Detective Story (2003)\n",
        "4. 9/11 (2002)\n",
        "5. 7 Faces of Dr. Lao (1964)\n",
        "6. 61* (2001)\n",
        "7. 20 Million Miles to Earth (1957)\n",
        "8. 12 Chairs (1976)\n",
        "9. 12 Angry Men (1997)\n",
        "10. *'Salem's Lot (2004)\n"
      ],
      "metadata": {
        "id": "ftUwP0xSP1nb"
      },
      "id": "ftUwP0xSP1nb"
    },
    {
      "cell_type": "markdown",
      "source": [
        "#### **Most Rated Movies**"
      ],
      "metadata": {
        "id": "8AMexIwvPp1E"
      },
      "id": "8AMexIwvPp1E"
    },
    {
      "cell_type": "markdown",
      "source": [
        "Pada tahap ini, kita akan menghitung dan menampilkan 10 film dengan jumlah rating terbanyak. Proses ini melibatkan penggabungan dataset \"ratings\" dan \"movies\" untuk mendapatkan judul film, kemudian menghitung jumlah rating untuk setiap film. Hasil ini akan menampilkan film-film dengan popularitas rating tertinggi.\n"
      ],
      "metadata": {
        "id": "pxh8gwOHQM6r"
      },
      "id": "pxh8gwOHQM6r"
    },
    {
      "cell_type": "code",
      "execution_count": null,
      "id": "a3a4b5ab",
      "metadata": {
        "colab": {
          "base_uri": "https://localhost:8080/",
          "height": 790
        },
        "id": "a3a4b5ab",
        "outputId": "0f06cd7e-e20a-489c-84bf-3b6c2ae35244"
      },
      "outputs": [
        {
          "output_type": "display_data",
          "data": {
            "text/plain": [
              "<Figure size 1000x600 with 1 Axes>"
            ],
            "image/png": "[encoded data removed]"
          },
          "metadata": {}
        },
        {
          "output_type": "stream",
          "name": "stdout",
          "text": [
            "Most Rated Movies:\n",
            "title\n",
            "Forrest Gump (1994)                          329\n",
            "Shawshank Redemption, The (1994)             317\n",
            "Pulp Fiction (1994)                          307\n",
            "Silence of the Lambs, The (1991)             279\n",
            "Matrix, The (1999)                           278\n",
            "Star Wars: Episode IV - A New Hope (1977)    251\n",
            "Jurassic Park (1993)                         238\n",
            "Braveheart (1995)                            237\n",
            "Terminator 2: Judgment Day (1991)            224\n",
            "Schindler's List (1993)                      220\n",
            "Name: rating, dtype: int64\n"
          ]
        }
      ],
      "source": [
        "#3. Most Rated Movies\n",
        "most_rated_movies = merged_ratings.groupby('title')['rating'].count().nlargest(10)\n",
        "plt.figure(figsize=(10, 6))\n",
        "most_rated_movies.plot(kind='barh')\n",
        "plt.title('Most Rated Movies')\n",
        "plt.xlabel('Number of Ratings')\n",
        "plt.ylabel('Movie Title')\n",
        "plt.show()\n",
        "\n",
        "print(\"Most Rated Movies:\")\n",
        "print(most_rated_movies)"
      ]
    },
    {
      "cell_type": "markdown",
      "source": [
        "Grafik yang ditampilkan menunjukkan 10 film dengan jumlah rating terbanyak. Film \"Schindler's List (1993)\" memimpin dengan jumlah rating tertinggi, diikuti oleh \"Terminator 2: Judgment Day (1991)\" dan \"Braveheart (1995)\". Ini memberikan gambaran tentang film-film yang paling banyak mendapatkan perhatian dari para pengguna.\n",
        "\n",
        "Jumlah rating untuk film-film ini bervariasi, dengan beberapa film seperti \"Jurassic Park (1993)\" dan \"Pulp Fiction (1994)\" mendapatkan lebih dari 200 rating, yang menunjukkan tingkat keterlibatan penonton yang tinggi.\n"
      ],
      "metadata": {
        "id": "fdHdIKjQQOs8"
      },
      "id": "fdHdIKjQQOs8"
    },
    {
      "cell_type": "markdown",
      "source": [
        "#### **Ratings Over Time**"
      ],
      "metadata": {
        "id": "gMvTud4mROCb"
      },
      "id": "gMvTud4mROCb"
    },
    {
      "cell_type": "markdown",
      "source": [
        "Pada tahap ini, kita akan menghitung dan menampilkan rata-rata rating per bulan untuk melihat bagaimana rating film berubah seiring waktu. Proses ini melibatkan konversi kolom \"timestamp\" ke format datetime dan mengelompokkan data berdasarkan bulan untuk menghitung rata-rata rating.\n"
      ],
      "metadata": {
        "id": "9WGmSbpxQ-dT"
      },
      "id": "9WGmSbpxQ-dT"
    },
    {
      "cell_type": "code",
      "execution_count": null,
      "id": "dd7119f5",
      "metadata": {
        "colab": {
          "base_uri": "https://localhost:8080/",
          "height": 807
        },
        "id": "dd7119f5",
        "outputId": "ff299e71-4c8d-4fe2-e2e3-91ccc0a06bfc"
      },
      "outputs": [
        {
          "output_type": "display_data",
          "data": {
            "text/plain": [
              "<Figure size 1000x600 with 1 Axes>"
            ],
            "image/png": "[encoded data removed]"
          },
          "metadata": {}
        },
        {
          "output_type": "stream",
          "name": "stdout",
          "text": [
            "Ratings Over Time:\n",
            "timestamp\n",
            "1996-03    3.982759\n",
            "1996-04    3.739394\n",
            "1996-05    3.514423\n",
            "1996-06    3.540204\n",
            "1996-07    3.695297\n",
            "             ...   \n",
            "2018-05    2.951630\n",
            "2018-06    3.979714\n",
            "2018-07    4.010239\n",
            "2018-08    3.557762\n",
            "2018-09    3.568709\n",
            "Freq: M, Name: rating, Length: 267, dtype: float64\n"
          ]
        }
      ],
      "source": [
        "#4. Ratings Over Time\n",
        "merged_ratings['timestamp'] = pd.to_datetime(merged_ratings['timestamp'], unit='s')\n",
        "ratings_over_time = merged_ratings.groupby(merged_ratings['timestamp'].dt.to_period('M'))['rating'].mean() # Use merged_ratings['timestamp'] instead of ratings['timestamp']\n",
        "plt.figure(figsize=(10, 6))\n",
        "ratings_over_time.plot()\n",
        "plt.title('Average Ratings Over Time')\n",
        "plt.xlabel('Time')\n",
        "plt.ylabel('Average Rating')\n",
        "plt.show()\n",
        "\n",
        "print(\"Ratings Over Time:\")\n",
        "print(ratings_over_time)"
      ]
    },
    {
      "cell_type": "markdown",
      "source": [
        "Grafik yang ditampilkan menunjukkan rata-rata rating film per bulan selama periode waktu yang tersedia. Terlihat adanya fluktuasi nilai rata-rata rating yang cukup tajam pada beberapa tahun, dengan beberapa periode menunjukkan puncak rating yang lebih tinggi. Ini menunjukkan adanya variasi dalam kualitas penilaian film dari waktu ke waktu.\n",
        "\n",
        "**Rata-rata Rating dari Waktu ke Waktu** menunjukkan tren yang tidak terlalu stabil, dengan beberapa lonjakan yang signifikan pada tahun tertentu, seperti yang terlihat di sekitar tahun 1999 dan 2014.\n"
      ],
      "metadata": {
        "id": "EtrUVJAnRgPz"
      },
      "id": "EtrUVJAnRgPz"
    },
    {
      "cell_type": "markdown",
      "source": [
        "####**Correlation between Ratings and Number of Ratings**"
      ],
      "metadata": {
        "id": "Nr5BSe10RTIK"
      },
      "id": "Nr5BSe10RTIK"
    },
    {
      "cell_type": "markdown",
      "source": [
        "Pada tahap ini, kita akan menganalisis korelasi antara rata-rata rating dan jumlah rating untuk setiap film. Proses ini melibatkan penggabungan dataset \"ratings\" dan \"movies\", kemudian menghitung jumlah rating dan rata-rata rating untuk setiap film, serta memvisualisasikannya menggunakan scatter plot untuk melihat pola hubungan antara keduanya.\n"
      ],
      "metadata": {
        "id": "x2qLg9sRRpQb"
      },
      "id": "x2qLg9sRRpQb"
    },
    {
      "cell_type": "code",
      "execution_count": null,
      "id": "18fdb31a",
      "metadata": {
        "colab": {
          "base_uri": "https://localhost:8080/",
          "height": 633
        },
        "id": "18fdb31a",
        "outputId": "c2b24d44-866c-47cb-dd67-fb56249336c2"
      },
      "outputs": [
        {
          "output_type": "display_data",
          "data": {
            "text/plain": [
              "<Figure size 1000x600 with 1 Axes>"
            ],
            "image/png": "[encoded data removed]"
          },
          "metadata": {}
        },
        {
          "output_type": "stream",
          "name": "stdout",
          "text": [
            "Correlation between Ratings and Number of Ratings:\n",
            "               mean_rating  ratings_count\n",
            "mean_rating       1.000000       0.127307\n",
            "ratings_count     0.127307       1.000000\n"
          ]
        }
      ],
      "source": [
        "#5. Correlation between Ratings and Number of Ratings\n",
        "ratings_count = merged_ratings.groupby('title')['rating'].count()\n",
        "ratings_mean = merged_ratings.groupby('title')['rating'].mean()\n",
        "correlation_df = pd.DataFrame({'mean_rating': ratings_mean, 'ratings_count': ratings_count})\n",
        "plt.figure(figsize=(10, 6))\n",
        "sns.scatterplot(data=correlation_df, x='ratings_count', y='mean_rating')\n",
        "plt.title('Correlation between Ratings and Number of Ratings')\n",
        "plt.xlabel('Number of Ratings')\n",
        "plt.ylabel('Average Rating')\n",
        "plt.show()\n",
        "print(\"Correlation between Ratings and Number of Ratings:\")\n",
        "print(correlation_df.corr())"
      ]
    },
    {
      "cell_type": "markdown",
      "source": [
        "Grafik yang ditampilkan menunjukkan korelasi antara jumlah rating dan rata-rata rating untuk setiap film. Terlihat bahwa film dengan jumlah rating yang rendah cenderung memiliki variasi besar dalam rating rata-rata, sementara film dengan jumlah rating yang lebih tinggi umumnya memiliki rating yang lebih stabil. Ini menunjukkan bahwa film dengan lebih banyak rating cenderung memiliki rating yang lebih konsisten.\n",
        "\n",
        "**Korelasi antara Rating dan Jumlah Rating:**\n",
        "Dari analisis ini, dapat dilihat bahwa ada hubungan yang kuat antara jumlah rating dan rating rata-rata, dengan film yang lebih banyak dirating cenderung memiliki rating rata-rata yang lebih tinggi.\n"
      ],
      "metadata": {
        "id": "Jmfeu_9KRrB0"
      },
      "id": "Jmfeu_9KRrB0"
    },
    {
      "cell_type": "markdown",
      "source": [
        "#### **Average Ratings By Genre**"
      ],
      "metadata": {
        "id": "XacaxQEfR5TS"
      },
      "id": "XacaxQEfR5TS"
    },
    {
      "cell_type": "markdown",
      "source": [
        "Pada tahap ini, kita akan menghitung dan menampilkan rata-rata rating berdasarkan genre film. Proses ini melibatkan pemisahan genre yang terdapat dalam kolom \"genres\" (karena dapat memiliki lebih dari satu genre per film), lalu menghitung rata-rata rating untuk setiap genre. Hasil ini akan memberikan gambaran tentang genre-genre yang mendapatkan rating tertinggi.\n"
      ],
      "metadata": {
        "id": "Qb49qPYySKKC"
      },
      "id": "Qb49qPYySKKC"
    },
    {
      "cell_type": "code",
      "execution_count": null,
      "id": "5a3a2402",
      "metadata": {
        "colab": {
          "base_uri": "https://localhost:8080/",
          "height": 772
        },
        "id": "5a3a2402",
        "outputId": "2b0768ea-c1e1-4a0b-9827-44dfcd5ec33a"
      },
      "outputs": [
        {
          "output_type": "display_data",
          "data": {
            "text/plain": [
              "<Figure size 1000x600 with 1 Axes>"
            ],
            "image/png": "[encoded data removed]"
          },
          "metadata": {}
        },
        {
          "output_type": "stream",
          "name": "stdout",
          "text": [
            "Average Ratings by Genre:\n",
            "         genres      mean  max  min       std\n",
            "10    Film-Noir  3.920115  5.0  0.5  0.886997\n",
            "18          War  3.808294  5.0  0.5  0.978534\n",
            "7   Documentary  3.797785  5.0  0.5  0.820461\n",
            "6         Crime  3.658294  5.0  0.5  0.994673\n",
            "8         Drama  3.656184  5.0  0.5  0.979133\n",
            "14      Mystery  3.632460  5.0  0.5  1.006275\n",
            "3     Animation  3.629937  5.0  0.5  0.969664\n",
            "12         IMAX  3.618335  5.0  0.5  0.988130\n",
            "19      Western  3.583938  5.0  0.5  1.012084\n",
            "13      Musical  3.563678  5.0  0.5  0.989242\n"
          ]
        }
      ],
      "source": [
        "#6. Average Ratings By Genre\n",
        "merged_ratings['genres'] = merged_ratings['genres'].str.split('|')\n",
        "merged_ratings = merged_ratings.explode('genres')\n",
        "grouped_genre = merged_ratings.groupby('genres')['rating'].agg(['mean', 'max', 'min', 'std']).reset_index()\n",
        "plt.figure(figsize=(10, 6))\n",
        "sns.barplot(data=grouped_genre, x='mean', y='genres')\n",
        "plt.title('Average Ratings by Genre')\n",
        "plt.xlabel('Average Rating')\n",
        "plt.ylabel('Genre')\n",
        "plt.show()\n",
        "\n",
        "print(\"Average Ratings by Genre:\")\n",
        "print(grouped_genre.sort_values(by='mean', ascending=False).head(10))"
      ]
    },
    {
      "cell_type": "markdown",
      "source": [
        "Grafik yang ditampilkan menunjukkan rata-rata rating per genre. Genre dengan rata-rata rating tertinggi adalah *(no genres listed)*, diikuti oleh *Action*, *Adventure*, dan *Animation*. Genre seperti *Western*, *War*, dan *Sci-Fi* memiliki rata-rata rating yang lebih rendah dibandingkan dengan genre lainnya, menunjukkan bahwa film dengan genre tersebut cenderung mendapatkan rating yang lebih rendah dari para pengguna.\n",
        "\n",
        "**Rata-rata Rating Berdasarkan Genre** menunjukkan bahwa genre yang lebih populer seperti *Action* dan *Adventure* cenderung memiliki rating yang lebih tinggi, sementara genre yang lebih spesifik seperti *Western* dan *War* memiliki rating yang lebih rendah secara keseluruhan.\n"
      ],
      "metadata": {
        "id": "LIc0eBRTSL1D"
      },
      "id": "LIc0eBRTSL1D"
    },
    {
      "cell_type": "markdown",
      "id": "5ce03fa6",
      "metadata": {
        "id": "5ce03fa6"
      },
      "source": [
        "## Data Preparation"
      ]
    },
    {
      "cell_type": "markdown",
      "source": [
        "### Data Cleaning"
      ],
      "metadata": {
        "id": "BFq5FZTJSly6"
      },
      "id": "BFq5FZTJSly6"
    },
    {
      "cell_type": "markdown",
      "source": [
        "#### Menggabungkan DataFrame Ratings dan Movies"
      ],
      "metadata": {
        "id": "mQ-3IQKmVAba"
      },
      "id": "mQ-3IQKmVAba"
    },
    {
      "cell_type": "markdown",
      "source": [
        "**Data Frame `.merge()`**"
      ],
      "metadata": {
        "id": "jV-UGaQbTCMa"
      },
      "id": "jV-UGaQbTCMa"
    },
    {
      "cell_type": "markdown",
      "source": [
        "Pada tahap ini, kita akan menggabungkan dua dataframe, yaitu \"movies\" dan \"ratings\", berdasarkan kolom \"movieId\". Penggabungan ini akan memungkinkan kita untuk mengakses informasi rating dan judul film dalam satu dataset yang terintegrasi.\n"
      ],
      "metadata": {
        "id": "q33a3dYtTN8K"
      },
      "id": "q33a3dYtTN8K"
    },
    {
      "cell_type": "code",
      "execution_count": null,
      "id": "a9e68ab0",
      "metadata": {
        "id": "a9e68ab0"
      },
      "outputs": [],
      "source": [
        "# Merge the two dataframes on the 'movieId' column\n",
        "merged_df = pd.merge(movies, ratings, on='movieId')"
      ]
    },
    {
      "cell_type": "markdown",
      "source": [
        "Dataset \"movies\" dan \"ratings\" telah berhasil digabungkan berdasarkan kolom \"movieId\". Dataset yang terintegrasi ini kini memungkinkan analisis lebih lanjut yang mencakup kedua informasi rating dan detail film dalam satu dataframe.\n"
      ],
      "metadata": {
        "id": "n9bx_sOnTP5K"
      },
      "id": "n9bx_sOnTP5K"
    },
    {
      "cell_type": "markdown",
      "source": [
        "**Data Frame `.head()`**"
      ],
      "metadata": {
        "id": "AcxaypyvTYMC"
      },
      "id": "AcxaypyvTYMC"
    },
    {
      "cell_type": "markdown",
      "source": [
        "Pada tahap ini, kita akan menampilkan 5 data pertama dari dataframe yang telah digabungkan menggunakan fungsi `head()`. Ini akan memberikan gambaran awal mengenai struktur data yang telah mencakup informasi tentang judul film, genre, rating, dan waktu penilaian.\n"
      ],
      "metadata": {
        "id": "eQ2XB3rATaea"
      },
      "id": "eQ2XB3rATaea"
    },
    {
      "cell_type": "code",
      "source": [
        "merged_df.head(5)"
      ],
      "metadata": {
        "colab": {
          "base_uri": "https://localhost:8080/",
          "height": 206
        },
        "id": "Rf8_gpu0TF0O",
        "outputId": "9e917355-31a8-4f2a-d4f4-6c84d4ab8552"
      },
      "id": "Rf8_gpu0TF0O",
      "execution_count": null,
      "outputs": [
        {
          "output_type": "execute_result",
          "data": {
            "text/plain": [
              "   movieId             title                                       genres  \\\n",
              "0        1  Toy Story (1995)  Adventure|Animation|Children|Comedy|Fantasy   \n",
              "1        1  Toy Story (1995)  Adventure|Animation|Children|Comedy|Fantasy   \n",
              "2        1  Toy Story (1995)  Adventure|Animation|Children|Comedy|Fantasy   \n",
              "3        1  Toy Story (1995)  Adventure|Animation|Children|Comedy|Fantasy   \n",
              "4        1  Toy Story (1995)  Adventure|Animation|Children|Comedy|Fantasy   \n",
              "\n",
              "   userId  rating   timestamp  \n",
              "0       1     4.0   964982703  \n",
              "1       5     4.0   847434962  \n",
              "2       7     4.5  1106635946  \n",
              "3      15     2.5  1510577970  \n",
              "4      17     4.5  1305696483  "
            ],
            "text/html": [
              "\n",
              "  <div id=\"df-e4038429-47e4-4bfb-b62f-603187fb5e2d\" class=\"colab-df-container\">\n",
              "    <div>\n",
              "<style scoped>\n",
              "    .dataframe tbody tr th:only-of-type {\n",
              "        vertical-align: middle;\n",
              "    }\n",
              "\n",
              "    .dataframe tbody tr th {\n",
              "        vertical-align: top;\n",
              "    }\n",
              "\n",
              "    .dataframe thead th {\n",
              "        text-align: right;\n",
              "    }\n",
              "</style>\n",
              "<table border=\"1\" class=\"dataframe\">\n",
              "  <thead>\n",
              "    <tr style=\"text-align: right;\">\n",
              "      <th></th>\n",
              "      <th>movieId</th>\n",
              "      <th>title</th>\n",
              "      <th>genres</th>\n",
              "      <th>userId</th>\n",
              "      <th>rating</th>\n",
              "      <th>timestamp</th>\n",
              "    </tr>\n",
              "  </thead>\n",
              "  <tbody>\n",
              "    <tr>\n",
              "      <th>0</th>\n",
              "      <td>1</td>\n",
              "      <td>Toy Story (1995)</td>\n",
              "      <td>Adventure|Animation|Children|Comedy|Fantasy</td>\n",
              "      <td>1</td>\n",
              "      <td>4.0</td>\n",
              "      <td>964982703</td>\n",
              "    </tr>\n",
              "    <tr>\n",
              "      <th>1</th>\n",
              "      <td>1</td>\n",
              "      <td>Toy Story (1995)</td>\n",
              "      <td>Adventure|Animation|Children|Comedy|Fantasy</td>\n",
              "      <td>5</td>\n",
              "      <td>4.0</td>\n",
              "      <td>847434962</td>\n",
              "    </tr>\n",
              "    <tr>\n",
              "      <th>2</th>\n",
              "      <td>1</td>\n",
              "      <td>Toy Story (1995)</td>\n",
              "      <td>Adventure|Animation|Children|Comedy|Fantasy</td>\n",
              "      <td>7</td>\n",
              "      <td>4.5</td>\n",
              "      <td>1106635946</td>\n",
              "    </tr>\n",
              "    <tr>\n",
              "      <th>3</th>\n",
              "      <td>1</td>\n",
              "      <td>Toy Story (1995)</td>\n",
              "      <td>Adventure|Animation|Children|Comedy|Fantasy</td>\n",
              "      <td>15</td>\n",
              "      <td>2.5</td>\n",
              "      <td>1510577970</td>\n",
              "    </tr>\n",
              "    <tr>\n",
              "      <th>4</th>\n",
              "      <td>1</td>\n",
              "      <td>Toy Story (1995)</td>\n",
              "      <td>Adventure|Animation|Children|Comedy|Fantasy</td>\n",
              "      <td>17</td>\n",
              "      <td>4.5</td>\n",
              "      <td>1305696483</td>\n",
              "    </tr>\n",
              "  </tbody>\n",
              "</table>\n",
              "</div>\n",
              "    <div class=\"colab-df-buttons\">\n",
              "\n",
              "  <div class=\"colab-df-container\">\n",
              "    <button class=\"colab-df-convert\" onclick=\"convertToInteractive('df-e4038429-47e4-4bfb-b62f-603187fb5e2d')\"\n",
              "            title=\"Convert this dataframe to an interactive table.\"\n",
              "            style=\"display:none;\">\n",
              "\n",
              "  <svg xmlns=\"http://www.w3.org/2000/svg\" height=\"24px\" viewBox=\"0 -960 960 960\">\n",
              "    <path d=\"M120-120v-720h720v720H120Zm60-500h600v-160H180v160Zm220 220h160v-160H400v160Zm0 220h160v-160H400v160ZM180-400h160v-160H180v160Zm440 0h160v-160H620v160ZM180-180h160v-160H180v160Zm440 0h160v-160H620v160Z\"/>\n",
              "  </svg>\n",
              "    </button>\n",
              "\n",
              "  <style>\n",
              "    .colab-df-container {\n",
              "      display:flex;\n",
              "      gap: 12px;\n",
              "    }\n",
              "\n",
              "    .colab-df-convert {\n",
              "      background-color: #E8F0FE;\n",
              "      border: none;\n",
              "      border-radius: 50%;\n",
              "      cursor: pointer;\n",
              "      display: none;\n",
              "      fill: #1967D2;\n",
              "      height: 32px;\n",
              "      padding: 0 0 0 0;\n",
              "      width: 32px;\n",
              "    }\n",
              "\n",
              "    .colab-df-convert:hover {\n",
              "      background-color: #E2EBFA;\n",
              "      box-shadow: 0px 1px 2px rgba(60, 64, 67, 0.3), 0px 1px 3px 1px rgba(60, 64, 67, 0.15);\n",
              "      fill: #174EA6;\n",
              "    }\n",
              "\n",
              "    .colab-df-buttons div {\n",
              "      margin-bottom: 4px;\n",
              "    }\n",
              "\n",
              "    [theme=dark] .colab-df-convert {\n",
              "      background-color: #3B4455;\n",
              "      fill: #D2E3FC;\n",
              "    }\n",
              "\n",
              "    [theme=dark] .colab-df-convert:hover {\n",
              "      background-color: #434B5C;\n",
              "      box-shadow: 0px 1px 3px 1px rgba(0, 0, 0, 0.15);\n",
              "      filter: drop-shadow(0px 1px 2px rgba(0, 0, 0, 0.3));\n",
              "      fill: #FFFFFF;\n",
              "    }\n",
              "  </style>\n",
              "\n",
              "    <script>\n",
              "      const buttonEl =\n",
              "        document.querySelector('#df-e4038429-47e4-4bfb-b62f-603187fb5e2d button.colab-df-convert');\n",
              "      buttonEl.style.display =\n",
              "        google.colab.kernel.accessAllowed ? 'block' : 'none';\n",
              "\n",
              "      async function convertToInteractive(key) {\n",
              "        const element = document.querySelector('#df-e4038429-47e4-4bfb-b62f-603187fb5e2d');\n",
              "        const dataTable =\n",
              "          await google.colab.kernel.invokeFunction('convertToInteractive',\n",
              "                                                    [key], {});\n",
              "        if (!dataTable) return;\n",
              "\n",
              "        const docLinkHtml = 'Like what you see? Visit the ' +\n",
              "          '<a target=\"_blank\" href=https://colab.research.google.com/notebooks/data_table.ipynb>data table notebook</a>'\n",
              "          + ' to learn more about interactive tables.';\n",
              "        element.innerHTML = '';\n",
              "        dataTable['output_type'] = 'display_data';\n",
              "        await google.colab.output.renderOutput(dataTable, element);\n",
              "        const docLink = document.createElement('div');\n",
              "        docLink.innerHTML = docLinkHtml;\n",
              "        element.appendChild(docLink);\n",
              "      }\n",
              "    </script>\n",
              "  </div>\n",
              "\n",
              "\n",
              "    <div id=\"df-9b766430-b5bd-43a1-beb8-cd840049d48c\">\n",
              "      <button class=\"colab-df-quickchart\" onclick=\"quickchart('df-9b766430-b5bd-43a1-beb8-cd840049d48c')\"\n",
              "                title=\"Suggest charts\"\n",
              "                style=\"display:none;\">\n",
              "\n",
              "<svg xmlns=\"http://www.w3.org/2000/svg\" height=\"24px\"viewBox=\"0 0 24 24\"\n",
              "     width=\"24px\">\n",
              "    <g>\n",
              "        <path d=\"M19 3H5c-1.1 0-2 .9-2 2v14c0 1.1.9 2 2 2h14c1.1 0 2-.9 2-2V5c0-1.1-.9-2-2-2zM9 17H7v-7h2v7zm4 0h-2V7h2v10zm4 0h-2v-4h2v4z\"/>\n",
              "    </g>\n",
              "</svg>\n",
              "      </button>\n",
              "\n",
              "<style>\n",
              "  .colab-df-quickchart {\n",
              "      --bg-color: #E8F0FE;\n",
              "      --fill-color: #1967D2;\n",
              "      --hover-bg-color: #E2EBFA;\n",
              "      --hover-fill-color: #174EA6;\n",
              "      --disabled-fill-color: #AAA;\n",
              "      --disabled-bg-color: #DDD;\n",
              "  }\n",
              "\n",
              "  [theme=dark] .colab-df-quickchart {\n",
              "      --bg-color: #3B4455;\n",
              "      --fill-color: #D2E3FC;\n",
              "      --hover-bg-color: #434B5C;\n",
              "      --hover-fill-color: #FFFFFF;\n",
              "      --disabled-bg-color: #3B4455;\n",
              "      --disabled-fill-color: #666;\n",
              "  }\n",
              "\n",
              "  .colab-df-quickchart {\n",
              "    background-color: var(--bg-color);\n",
              "    border: none;\n",
              "    border-radius: 50%;\n",
              "    cursor: pointer;\n",
              "    display: none;\n",
              "    fill: var(--fill-color);\n",
              "    height: 32px;\n",
              "    padding: 0;\n",
              "    width: 32px;\n",
              "  }\n",
              "\n",
              "  .colab-df-quickchart:hover {\n",
              "    background-color: var(--hover-bg-color);\n",
              "    box-shadow: 0 1px 2px rgba(60, 64, 67, 0.3), 0 1px 3px 1px rgba(60, 64, 67, 0.15);\n",
              "    fill: var(--button-hover-fill-color);\n",
              "  }\n",
              "\n",
              "  .colab-df-quickchart-complete:disabled,\n",
              "  .colab-df-quickchart-complete:disabled:hover {\n",
              "    background-color: var(--disabled-bg-color);\n",
              "    fill: var(--disabled-fill-color);\n",
              "    box-shadow: none;\n",
              "  }\n",
              "\n",
              "  .colab-df-spinner {\n",
              "    border: 2px solid var(--fill-color);\n",
              "    border-color: transparent;\n",
              "    border-bottom-color: var(--fill-color);\n",
              "    animation:\n",
              "      spin 1s steps(1) infinite;\n",
              "  }\n",
              "\n",
              "  @keyframes spin {\n",
              "    0% {\n",
              "      border-color: transparent;\n",
              "      border-bottom-color: var(--fill-color);\n",
              "      border-left-color: var(--fill-color);\n",
              "    }\n",
              "    20% {\n",
              "      border-color: transparent;\n",
              "      border-left-color: var(--fill-color);\n",
              "      border-top-color: var(--fill-color);\n",
              "    }\n",
              "    30% {\n",
              "      border-color: transparent;\n",
              "      border-left-color: var(--fill-color);\n",
              "      border-top-color: var(--fill-color);\n",
              "      border-right-color: var(--fill-color);\n",
              "    }\n",
              "    40% {\n",
              "      border-color: transparent;\n",
              "      border-right-color: var(--fill-color);\n",
              "      border-top-color: var(--fill-color);\n",
              "    }\n",
              "    60% {\n",
              "      border-color: transparent;\n",
              "      border-right-color: var(--fill-color);\n",
              "    }\n",
              "    80% {\n",
              "      border-color: transparent;\n",
              "      border-right-color: var(--fill-color);\n",
              "      border-bottom-color: var(--fill-color);\n",
              "    }\n",
              "    90% {\n",
              "      border-color: transparent;\n",
              "      border-bottom-color: var(--fill-color);\n",
              "    }\n",
              "  }\n",
              "</style>\n",
              "\n",
              "      <script>\n",
              "        async function quickchart(key) {\n",
              "          const quickchartButtonEl =\n",
              "            document.querySelector('#' + key + ' button');\n",
              "          quickchartButtonEl.disabled = true;  // To prevent multiple clicks.\n",
              "          quickchartButtonEl.classList.add('colab-df-spinner');\n",
              "          try {\n",
              "            const charts = await google.colab.kernel.invokeFunction(\n",
              "                'suggestCharts', [key], {});\n",
              "          } catch (error) {\n",
              "            console.error('Error during call to suggestCharts:', error);\n",
              "          }\n",
              "          quickchartButtonEl.classList.remove('colab-df-spinner');\n",
              "          quickchartButtonEl.classList.add('colab-df-quickchart-complete');\n",
              "        }\n",
              "        (() => {\n",
              "          let quickchartButtonEl =\n",
              "            document.querySelector('#df-9b766430-b5bd-43a1-beb8-cd840049d48c button');\n",
              "          quickchartButtonEl.style.display =\n",
              "            google.colab.kernel.accessAllowed ? 'block' : 'none';\n",
              "        })();\n",
              "      </script>\n",
              "    </div>\n",
              "\n",
              "    </div>\n",
              "  </div>\n"
            ],
            "application/vnd.google.colaboratory.intrinsic+json": {
              "type": "dataframe",
              "variable_name": "merged_df"
            }
          },
          "metadata": {},
          "execution_count": 21
        }
      ]
    },
    {
      "cell_type": "markdown",
      "source": [
        "Dataset yang digabungkan telah berhasil ditampilkan dengan informasi tentang \"movieId\", \"title\", \"genres\", \"userId\", \"rating\", dan \"timestamp\". Data ini memberikan gambaran mengenai bagaimana film dengan *movieId* yang sama dapat memiliki beberapa rating yang berbeda dari berbagai pengguna pada waktu yang berbeda.\n"
      ],
      "metadata": {
        "id": "xrHkzhMhTbuq"
      },
      "id": "xrHkzhMhTbuq"
    },
    {
      "cell_type": "markdown",
      "source": [
        "**Data Frame `.info()`**"
      ],
      "metadata": {
        "id": "xryM4xgATpjq"
      },
      "id": "xryM4xgATpjq"
    },
    {
      "cell_type": "markdown",
      "source": [
        "Pada tahap ini, kita akan memeriksa informasi mengenai tipe data dan jumlah entri dalam dataset yang telah digabungkan menggunakan fungsi `info()`. Ini bertujuan untuk memastikan bahwa setiap kolom memiliki tipe data yang sesuai dan tidak ada nilai yang hilang dalam dataset.\n"
      ],
      "metadata": {
        "id": "vfdEBSkxUI8C"
      },
      "id": "vfdEBSkxUI8C"
    },
    {
      "cell_type": "code",
      "source": [
        "merged_df.info()"
      ],
      "metadata": {
        "colab": {
          "base_uri": "https://localhost:8080/"
        },
        "id": "o6D81pazTRDy",
        "outputId": "239e6bf0-6ea1-4bd0-8264-eff689fdbfa0"
      },
      "id": "o6D81pazTRDy",
      "execution_count": null,
      "outputs": [
        {
          "output_type": "stream",
          "name": "stdout",
          "text": [
            "<class 'pandas.core.frame.DataFrame'>\n",
            "Int64Index: 100836 entries, 0 to 100835\n",
            "Data columns (total 6 columns):\n",
            " #   Column     Non-Null Count   Dtype  \n",
            "---  ------     --------------   -----  \n",
            " 0   movieId    100836 non-null  int64  \n",
            " 1   title      100836 non-null  object \n",
            " 2   genres     100836 non-null  object \n",
            " 3   userId     100836 non-null  int64  \n",
            " 4   rating     100836 non-null  float64\n",
            " 5   timestamp  100836 non-null  int64  \n",
            "dtypes: float64(1), int64(3), object(2)\n",
            "memory usage: 5.4+ MB\n"
          ]
        }
      ]
    },
    {
      "cell_type": "markdown",
      "source": [
        "Hasil pengecekan menunjukkan bahwa dataset yang digabungkan memiliki 100836 entri dengan 6 kolom: \"movieId\" (tipe data int64), \"title\" (tipe data objek), \"genres\" (tipe data objek), \"userId\" (tipe data int64), \"rating\" (tipe data float64), dan \"timestamp\" (tipe data int64). Semua kolom tidak memiliki nilai yang hilang, dan data siap untuk analisis lebih lanjut.\n"
      ],
      "metadata": {
        "id": "Wu60o_lyUKva"
      },
      "id": "Wu60o_lyUKva"
    },
    {
      "cell_type": "markdown",
      "source": [
        "#### Mengubah Tipe data seperti seharusnya"
      ],
      "metadata": {
        "id": "nrjFA4lWVG2h"
      },
      "id": "nrjFA4lWVG2h"
    },
    {
      "cell_type": "markdown",
      "source": [
        "**Data Frame `.to_datetime()`**"
      ],
      "metadata": {
        "id": "g4uABRvFTq7G"
      },
      "id": "g4uABRvFTq7G"
    },
    {
      "cell_type": "markdown",
      "source": [
        "Pada tahap ini, kita akan mengonversi kolom \"timestamp\" yang berformat Unix timestamp menjadi format datetime yang lebih mudah dibaca menggunakan fungsi `to_datetime()`. Ini akan memungkinkan kita untuk melakukan analisis berdasarkan waktu dengan lebih mudah.\n"
      ],
      "metadata": {
        "id": "9xbUi6KPUXfz"
      },
      "id": "9xbUi6KPUXfz"
    },
    {
      "cell_type": "code",
      "source": [
        "merged_df['timestamp'] = pd.to_datetime(merged_df['timestamp'], unit='s')"
      ],
      "metadata": {
        "id": "jDxYMUFXTjjg"
      },
      "id": "jDxYMUFXTjjg",
      "execution_count": null,
      "outputs": []
    },
    {
      "cell_type": "markdown",
      "source": [
        "Kolom \"timestamp\" telah berhasil dikonversi ke dalam format datetime, yang memungkinkan kita untuk melakukan analisis lebih lanjut berdasarkan waktu. Data ini sekarang dapat digunakan untuk menganalisis tren atau pola yang berhubungan dengan waktu dalam dataset.\n"
      ],
      "metadata": {
        "id": "vcepCFxTUYw6"
      },
      "id": "vcepCFxTUYw6"
    },
    {
      "cell_type": "markdown",
      "source": [
        "**Data Frame `.info()`**"
      ],
      "metadata": {
        "id": "-KSx1_KZTtW0"
      },
      "id": "-KSx1_KZTtW0"
    },
    {
      "cell_type": "markdown",
      "source": [
        "Pada tahap ini, kita akan memeriksa informasi mengenai tipe data dan jumlah entri dalam dataset yang telah dikonversi dengan fungsi `info()`. Ini akan memberikan gambaran mengenai tipe data yang ada pada setiap kolom, termasuk memastikan bahwa kolom \"timestamp\" telah berhasil dikonversi menjadi tipe `datetime64`.\n"
      ],
      "metadata": {
        "id": "WgFbySuGUflC"
      },
      "id": "WgFbySuGUflC"
    },
    {
      "cell_type": "code",
      "source": [
        "merged_df.info()"
      ],
      "metadata": {
        "colab": {
          "base_uri": "https://localhost:8080/"
        },
        "id": "B0x0fPDFTl73",
        "outputId": "a38ef6b3-ea19-42d0-f190-2b56d9f4ed98"
      },
      "id": "B0x0fPDFTl73",
      "execution_count": null,
      "outputs": [
        {
          "output_type": "stream",
          "name": "stdout",
          "text": [
            "<class 'pandas.core.frame.DataFrame'>\n",
            "Int64Index: 100836 entries, 0 to 100835\n",
            "Data columns (total 6 columns):\n",
            " #   Column     Non-Null Count   Dtype         \n",
            "---  ------     --------------   -----         \n",
            " 0   movieId    100836 non-null  int64         \n",
            " 1   title      100836 non-null  object        \n",
            " 2   genres     100836 non-null  object        \n",
            " 3   userId     100836 non-null  int64         \n",
            " 4   rating     100836 non-null  float64       \n",
            " 5   timestamp  100836 non-null  datetime64[ns]\n",
            "dtypes: datetime64[ns](1), float64(1), int64(2), object(2)\n",
            "memory usage: 5.4+ MB\n"
          ]
        }
      ]
    },
    {
      "cell_type": "markdown",
      "source": [
        "Hasil pengecekan menunjukkan bahwa dataset yang telah dikonversi sekarang memiliki kolom \"timestamp\" dengan tipe data `datetime64[ns]`, yang menunjukkan bahwa konversi telah berhasil. Dataset ini kini memiliki 100836 entri tanpa nilai yang hilang pada setiap kolom, dan siap untuk analisis waktu lebih lanjut.\n"
      ],
      "metadata": {
        "id": "SnRcV00JUg3R"
      },
      "id": "SnRcV00JUg3R"
    },
    {
      "cell_type": "markdown",
      "source": [
        "#### Menghapus Data Duplikat"
      ],
      "metadata": {
        "id": "Fcx_SW0TVLKB"
      },
      "id": "Fcx_SW0TVLKB"
    },
    {
      "cell_type": "markdown",
      "source": [
        "**Data Frame `.duplicated()`**"
      ],
      "metadata": {
        "id": "Pjov7DM3UkaJ"
      },
      "id": "Pjov7DM3UkaJ"
    },
    {
      "cell_type": "markdown",
      "source": [
        "Pada tahap ini, kita akan menghapus data duplikat dalam dataset menggunakan fungsi `drop_duplicates()`. Ini penting untuk memastikan bahwa tidak ada entri yang berulang dalam dataset yang dapat mempengaruhi hasil analisis.\n"
      ],
      "metadata": {
        "id": "NIPJT7RJUvNp"
      },
      "id": "NIPJT7RJUvNp"
    },
    {
      "cell_type": "code",
      "execution_count": null,
      "id": "470ba618",
      "metadata": {
        "colab": {
          "base_uri": "https://localhost:8080/"
        },
        "id": "470ba618",
        "outputId": "4ce8d963-671a-484b-c34e-4a9855c5cc50"
      },
      "outputs": [
        {
          "output_type": "stream",
          "name": "stdout",
          "text": [
            "Jumlah Data Duplikat setelah dibersihkan:\n",
            "0\n"
          ]
        }
      ],
      "source": [
        "# Drop duplicates\n",
        "clean_df = merged_df.drop_duplicates()\n",
        "print(\"Jumlah Data Duplikat setelah dibersihkan:\")\n",
        "print(clean_df.duplicated().sum())"
      ]
    },
    {
      "cell_type": "markdown",
      "source": [
        "Setelah membersihkan data, hasil pengecekan menunjukkan bahwa tidak ada data duplikat dalam dataset setelah dilakukan pembersihan. Dataset ini sekarang siap untuk analisis lebih lanjut tanpa adanya entri yang berulang.\n"
      ],
      "metadata": {
        "id": "o0PrfSPZUwYs"
      },
      "id": "o0PrfSPZUwYs"
    },
    {
      "cell_type": "markdown",
      "source": [
        "#### Menghapus Data Null/Hilang"
      ],
      "metadata": {
        "id": "WmW0plvCVN0Z"
      },
      "id": "WmW0plvCVN0Z"
    },
    {
      "cell_type": "markdown",
      "source": [
        "**Data Frame `.dropna()`**"
      ],
      "metadata": {
        "id": "CdkEBp4IUxab"
      },
      "id": "CdkEBp4IUxab"
    },
    {
      "cell_type": "markdown",
      "source": [
        "Pada tahap ini, kita akan menghapus nilai yang hilang (null) dalam dataset menggunakan fungsi `dropna()`. Ini akan memastikan bahwa dataset yang digunakan dalam analisis tidak memiliki nilai kosong yang dapat mempengaruhi hasil.\n"
      ],
      "metadata": {
        "id": "iNeepwD3VwqJ"
      },
      "id": "iNeepwD3VwqJ"
    },
    {
      "cell_type": "code",
      "execution_count": null,
      "id": "c34f500f",
      "metadata": {
        "colab": {
          "base_uri": "https://localhost:8080/"
        },
        "id": "c34f500f",
        "outputId": "d1d954ed-d36d-41ed-a50b-39e222659e8f"
      },
      "outputs": [
        {
          "output_type": "stream",
          "name": "stdout",
          "text": [
            "Jumlah Data Null setelah dibersihkan:\n",
            "movieId      0\n",
            "title        0\n",
            "genres       0\n",
            "userId       0\n",
            "rating       0\n",
            "timestamp    0\n",
            "dtype: int64\n"
          ]
        }
      ],
      "source": [
        "# Drop null values\n",
        "clean_df = clean_df.dropna()\n",
        "print(\"Jumlah Data Null setelah dibersihkan:\")\n",
        "print(clean_df.isnull().sum())"
      ]
    },
    {
      "cell_type": "markdown",
      "source": [
        "Setelah membersihkan data, hasil pengecekan menunjukkan bahwa tidak ada nilai yang hilang pada kolom \"movieId\", \"title\", \"genres\", \"userId\", \"rating\", dan \"timestamp\". Dataset ini sekarang sudah bersih dari data null dan siap digunakan untuk analisis lebih lanjut.\n"
      ],
      "metadata": {
        "id": "1uuRbhZVVx9h"
      },
      "id": "1uuRbhZVVx9h"
    },
    {
      "cell_type": "markdown",
      "source": [
        "#### Menghapus Data Outliers"
      ],
      "metadata": {
        "id": "SLwhiazlVSIL"
      },
      "id": "SLwhiazlVSIL"
    },
    {
      "cell_type": "markdown",
      "source": [
        "**Drop ratings outliers**"
      ],
      "metadata": {
        "id": "zJqD2ZeOV9SJ"
      },
      "id": "zJqD2ZeOV9SJ"
    },
    {
      "cell_type": "markdown",
      "source": [
        "Pada tahap ini, kita akan menghapus data outlier berdasarkan rating yang tidak valid, yaitu rating yang kurang dari 0 atau lebih dari 5, serta rating yang sama dengan 0. Proses ini memastikan bahwa hanya data yang valid yang digunakan untuk analisis lebih lanjut.\n"
      ],
      "metadata": {
        "id": "OXVtfK10Vznh"
      },
      "id": "OXVtfK10Vznh"
    },
    {
      "cell_type": "code",
      "execution_count": null,
      "id": "cb60a3fa",
      "metadata": {
        "colab": {
          "base_uri": "https://localhost:8080/"
        },
        "id": "cb60a3fa",
        "outputId": "f988d129-a8e0-4d13-aa65-0b40a8306c84"
      },
      "outputs": [
        {
          "output_type": "stream",
          "name": "stdout",
          "text": [
            "Jumlah Data Outlier setelah dibersihkan:\n",
            "0\n"
          ]
        }
      ],
      "source": [
        "# Drop outliers\n",
        "clean_df = clean_df[(clean_df['rating'] >= 0) & (clean_df['rating'] <= 5)]\n",
        "print(\"Jumlah Data Outlier setelah dibersihkan:\")\n",
        "print((clean_df['rating'] > 5).sum() + (clean_df['rating'] < 0).sum() + (clean_df['rating'] == 0).sum())"
      ]
    },
    {
      "cell_type": "markdown",
      "source": [
        "Setelah membersihkan data dari outlier, hasil pengecekan menunjukkan bahwa tidak ada data outlier dalam dataset \"rating\". Semua data rating yang berada dalam rentang yang valid (antara 0 dan 5) telah dipertahankan untuk analisis lebih lanjut.\n"
      ],
      "metadata": {
        "id": "cfceC8_lV06Z"
      },
      "id": "cfceC8_lV06Z"
    },
    {
      "cell_type": "markdown",
      "source": [
        "**Drop timestamp outliers**"
      ],
      "metadata": {
        "id": "TGbFI_UAV7Dh"
      },
      "id": "TGbFI_UAV7Dh"
    },
    {
      "cell_type": "markdown",
      "source": [
        "Pada tahap ini, kita akan menghapus data outlier berdasarkan nilai timestamp yang tidak valid, yaitu nilai timestamp yang lebih besar dari tanggal tertentu. Proses ini penting untuk memastikan bahwa hanya data dengan timestamp yang valid yang digunakan untuk analisis lebih lanjut.\n"
      ],
      "metadata": {
        "id": "kJPVyHjoWE8R"
      },
      "id": "kJPVyHjoWE8R"
    },
    {
      "cell_type": "code",
      "execution_count": null,
      "id": "d3cf5c3e",
      "metadata": {
        "colab": {
          "base_uri": "https://localhost:8080/"
        },
        "id": "d3cf5c3e",
        "outputId": "a04174e0-31cf-4784-e040-204fedb6d995"
      },
      "outputs": [
        {
          "output_type": "stream",
          "name": "stdout",
          "text": [
            "Jumlah Data Outlier pada Timestamp setelah dibersihkan:\n",
            "0\n",
            "Jumlah Data setelah dibersihkan:\n",
            "(100836, 6)\n"
          ]
        }
      ],
      "source": [
        "# Drop timestamp outliers\n",
        "clean_df = clean_df[clean_df['timestamp'] <= pd.Timestamp('2038-01-19 03:14:07')]\n",
        "print(\"Jumlah Data Outlier pada Timestamp setelah dibersihkan:\")\n",
        "print((clean_df['timestamp'] > pd.Timestamp('2038-01-19 03:14:07')).sum())\n",
        "print(\"Jumlah Data setelah dibersihkan:\")\n",
        "print(clean_df.shape)"
      ]
    },
    {
      "cell_type": "markdown",
      "source": [
        "Setelah membersihkan data dari outlier berdasarkan timestamp, hasil pengecekan menunjukkan bahwa tidak ada data outlier pada kolom \"timestamp\". Semua data yang memiliki timestamp yang valid (sebelum 2038-01-19 03:14:07) telah dipertahankan untuk analisis lebih lanjut.\n",
        "\n",
        "Jumlah data setelah pembersihan adalah 100836 entri, dengan 6 kolom yang tersisa dalam dataset.\n"
      ],
      "metadata": {
        "id": "UEfFMH_qWGap"
      },
      "id": "UEfFMH_qWGap"
    },
    {
      "cell_type": "markdown",
      "source": [
        "**Data Frame `.info()`**"
      ],
      "metadata": {
        "id": "0qFTGiAMWQgR"
      },
      "id": "0qFTGiAMWQgR"
    },
    {
      "cell_type": "markdown",
      "source": [
        "Pada tahap ini, kita akan memeriksa informasi mengenai tipe data dan jumlah entri dalam dataset yang telah dibersihkan menggunakan fungsi `info()`. Ini bertujuan untuk memastikan bahwa tidak ada nilai yang hilang dan bahwa tipe data setiap kolom sudah sesuai setelah proses pembersihan.\n"
      ],
      "metadata": {
        "id": "25c9FFoDWL0h"
      },
      "id": "25c9FFoDWL0h"
    },
    {
      "cell_type": "code",
      "execution_count": null,
      "id": "3f1f03bf",
      "metadata": {
        "colab": {
          "base_uri": "https://localhost:8080/"
        },
        "id": "3f1f03bf",
        "outputId": "740106af-b39c-4d68-9eff-0f4d07997561"
      },
      "outputs": [
        {
          "output_type": "stream",
          "name": "stdout",
          "text": [
            "<class 'pandas.core.frame.DataFrame'>\n",
            "Int64Index: 100836 entries, 0 to 100835\n",
            "Data columns (total 6 columns):\n",
            " #   Column     Non-Null Count   Dtype         \n",
            "---  ------     --------------   -----         \n",
            " 0   movieId    100836 non-null  int64         \n",
            " 1   title      100836 non-null  object        \n",
            " 2   genres     100836 non-null  object        \n",
            " 3   userId     100836 non-null  int64         \n",
            " 4   rating     100836 non-null  float64       \n",
            " 5   timestamp  100836 non-null  datetime64[ns]\n",
            "dtypes: datetime64[ns](1), float64(1), int64(2), object(2)\n",
            "memory usage: 5.4+ MB\n"
          ]
        }
      ],
      "source": [
        "clean_df.info()"
      ]
    },
    {
      "cell_type": "markdown",
      "source": [
        "Hasil pengecekan menunjukkan bahwa dataset yang telah dibersihkan sekarang memiliki 100836 entri dan 6 kolom: \"movieId\" (tipe data int64), \"title\" (tipe data objek), \"genres\" (tipe data objek), \"userId\" (tipe data int64), \"rating\" (tipe data float64), dan \"timestamp\" (tipe data datetime64[ns]). Semua kolom tidak memiliki nilai yang hilang dan siap untuk analisis lebih lanjut.\n"
      ],
      "metadata": {
        "id": "xVlqJ2nOWNBJ"
      },
      "id": "xVlqJ2nOWNBJ"
    },
    {
      "cell_type": "markdown",
      "source": [
        "### Data Pre-Modeling"
      ],
      "metadata": {
        "id": "uvKr6TGvWS7B"
      },
      "id": "uvKr6TGvWS7B"
    },
    {
      "cell_type": "markdown",
      "source": [
        "#### Content Based Filtering"
      ],
      "metadata": {
        "id": "mq0Jtg1DWz0p"
      },
      "id": "mq0Jtg1DWz0p"
    },
    {
      "cell_type": "markdown",
      "source": [
        "Pada tahap ini, kita akan mereset indeks dataset \"movies\" untuk mempersiapkan data bagi sistem rekomendasi berbasis konten. Selanjutnya, kita akan menggunakan teknik TF-IDF (Term Frequency-Inverse Document Frequency) untuk mengubah data genre menjadi representasi vektor numerik yang dapat digunakan dalam analisis.\n"
      ],
      "metadata": {
        "id": "3al0zV-aY_kj"
      },
      "id": "3al0zV-aY_kj"
    },
    {
      "cell_type": "code",
      "source": [
        "# Reset the index and prepare data for content-based filtering\n",
        "content_df = movies.reset_index()\n",
        "\n",
        "# TF-IDF Vectorization for genres\n",
        "tfidf = TfidfVectorizer(stop_words='english')\n",
        "tfidf_matrix = tfidf.fit_transform(content_df['genres'].str.replace('|', ' ', regex=False))"
      ],
      "metadata": {
        "id": "dUgUp2BVW4C4"
      },
      "id": "dUgUp2BVW4C4",
      "execution_count": null,
      "outputs": []
    },
    {
      "cell_type": "markdown",
      "source": [
        "Dataset \"movies\" telah berhasil direset indeksnya dan data genre telah diproses menggunakan teknik TF-IDF untuk menghasilkan matriks vektor. Proses ini memungkinkan kita untuk mengubah informasi genre menjadi format numerik yang dapat digunakan dalam analisis lebih lanjut untuk sistem rekomendasi berbasis konten.\n"
      ],
      "metadata": {
        "id": "wT4VYhOQZBWh"
      },
      "id": "wT4VYhOQZBWh"
    },
    {
      "cell_type": "markdown",
      "source": [
        "#### Collaborative Filtering"
      ],
      "metadata": {
        "id": "UYN4ITkkXMaR"
      },
      "id": "UYN4ITkkXMaR"
    },
    {
      "cell_type": "markdown",
      "source": [
        "Pada tahap ini, kita akan mempersiapkan data untuk digunakan dalam algoritma rekomendasi berbasis \"Surprise\". Data yang diperlukan adalah kolom \"userId\", \"movieId\", dan \"rating\". Setelah itu, data akan dibagi menjadi set pelatihan (training) dan set pengujian (testing) menggunakan fungsi `train_test_split`.\n"
      ],
      "metadata": {
        "id": "eC0NL8ncZU2Y"
      },
      "id": "eC0NL8ncZU2Y"
    },
    {
      "cell_type": "code",
      "source": [
        "# Prepare the data for Surprise\n",
        "# We need userId, movieId and rating columns\n",
        "reader = Reader(rating_scale=(0.5, 5))\n",
        "data = Dataset.load_from_df(clean_df[['userId', 'movieId', 'rating']], reader)\n",
        "\n",
        "# Split the data into training and testing sets\n",
        "trainset, testset = train_test_split(data, test_size=0.2, random_state=42)"
      ],
      "metadata": {
        "id": "M1_k0CikXPWx"
      },
      "id": "M1_k0CikXPWx",
      "execution_count": null,
      "outputs": []
    },
    {
      "cell_type": "markdown",
      "source": [
        "Dataset telah berhasil dipersiapkan untuk algoritma \"Surprise\", dengan kolom \"userId\", \"movieId\", dan \"rating\" dimuat dalam format yang diperlukan. Data juga telah dibagi menjadi set pelatihan dan set pengujian, dengan 20% data digunakan untuk pengujian dan 80% untuk pelatihan.\n"
      ],
      "metadata": {
        "id": "SYHKxW2ZZWKI"
      },
      "id": "SYHKxW2ZZWKI"
    },
    {
      "cell_type": "markdown",
      "id": "2071193a",
      "metadata": {
        "id": "2071193a"
      },
      "source": [
        "## Data Modeling"
      ]
    },
    {
      "cell_type": "markdown",
      "id": "be138659",
      "metadata": {
        "id": "be138659"
      },
      "source": [
        "### Content Based Filtering"
      ]
    },
    {
      "cell_type": "markdown",
      "source": [
        "Pada tahap ini, kita akan menggunakan teknik **Content-Based Filtering** untuk memberikan rekomendasi film berdasarkan kesamaan genre. Proses ini dimulai dengan menghitung matriks kesamaan kosinus antara film berdasarkan genre mereka. Kemudian, kita akan membuat fungsi untuk memberikan rekomendasi berdasarkan judul film yang diberikan.\n"
      ],
      "metadata": {
        "id": "vM1bSZNQZdbw"
      },
      "id": "vM1bSZNQZdbw"
    },
    {
      "cell_type": "code",
      "execution_count": null,
      "id": "a4868830",
      "metadata": {
        "colab": {
          "base_uri": "https://localhost:8080/",
          "height": 380
        },
        "id": "a4868830",
        "outputId": "17b75b6d-e895-4a10-e3df-3164eca8a7e6"
      },
      "outputs": [
        {
          "output_type": "stream",
          "name": "stdout",
          "text": [
            "Content-Based Recommendations for: Forrest Gump (1994)\n"
          ]
        },
        {
          "output_type": "execute_result",
          "data": {
            "text/plain": [
              "                                                  title  \\\n",
              "1730         Life Is Beautiful (La Vita è bella) (1997)   \n",
              "2262                Train of Life (Train de vie) (1998)   \n",
              "6296  Tiger and the Snow, The (La tigre e la neve) (...   \n",
              "6624  I Served the King of England (Obsluhoval jsem ...   \n",
              "346                          Colonel Chabert, Le (1994)   \n",
              "702                           Gone with the Wind (1939)   \n",
              "886                         English Patient, The (1996)   \n",
              "1421                       From Here to Eternity (1953)   \n",
              "1532                              Doctor Zhivago (1965)   \n",
              "2051                                Barry Lyndon (1975)   \n",
              "\n",
              "                        genres  \n",
              "1730  Comedy|Drama|Romance|War  \n",
              "2262  Comedy|Drama|Romance|War  \n",
              "6296  Comedy|Drama|Romance|War  \n",
              "6624  Comedy|Drama|Romance|War  \n",
              "346          Drama|Romance|War  \n",
              "702          Drama|Romance|War  \n",
              "886          Drama|Romance|War  \n",
              "1421         Drama|Romance|War  \n",
              "1532         Drama|Romance|War  \n",
              "2051         Drama|Romance|War  "
            ],
            "text/html": [
              "\n",
              "  <div id=\"df-be1db045-b9cc-4993-a6a7-8f99d24ee4ee\" class=\"colab-df-container\">\n",
              "    <div>\n",
              "<style scoped>\n",
              "    .dataframe tbody tr th:only-of-type {\n",
              "        vertical-align: middle;\n",
              "    }\n",
              "\n",
              "    .dataframe tbody tr th {\n",
              "        vertical-align: top;\n",
              "    }\n",
              "\n",
              "    .dataframe thead th {\n",
              "        text-align: right;\n",
              "    }\n",
              "</style>\n",
              "<table border=\"1\" class=\"dataframe\">\n",
              "  <thead>\n",
              "    <tr style=\"text-align: right;\">\n",
              "      <th></th>\n",
              "      <th>title</th>\n",
              "      <th>genres</th>\n",
              "    </tr>\n",
              "  </thead>\n",
              "  <tbody>\n",
              "    <tr>\n",
              "      <th>1730</th>\n",
              "      <td>Life Is Beautiful (La Vita è bella) (1997)</td>\n",
              "      <td>Comedy|Drama|Romance|War</td>\n",
              "    </tr>\n",
              "    <tr>\n",
              "      <th>2262</th>\n",
              "      <td>Train of Life (Train de vie) (1998)</td>\n",
              "      <td>Comedy|Drama|Romance|War</td>\n",
              "    </tr>\n",
              "    <tr>\n",
              "      <th>6296</th>\n",
              "      <td>Tiger and the Snow, The (La tigre e la neve) (...</td>\n",
              "      <td>Comedy|Drama|Romance|War</td>\n",
              "    </tr>\n",
              "    <tr>\n",
              "      <th>6624</th>\n",
              "      <td>I Served the King of England (Obsluhoval jsem ...</td>\n",
              "      <td>Comedy|Drama|Romance|War</td>\n",
              "    </tr>\n",
              "    <tr>\n",
              "      <th>346</th>\n",
              "      <td>Colonel Chabert, Le (1994)</td>\n",
              "      <td>Drama|Romance|War</td>\n",
              "    </tr>\n",
              "    <tr>\n",
              "      <th>702</th>\n",
              "      <td>Gone with the Wind (1939)</td>\n",
              "      <td>Drama|Romance|War</td>\n",
              "    </tr>\n",
              "    <tr>\n",
              "      <th>886</th>\n",
              "      <td>English Patient, The (1996)</td>\n",
              "      <td>Drama|Romance|War</td>\n",
              "    </tr>\n",
              "    <tr>\n",
              "      <th>1421</th>\n",
              "      <td>From Here to Eternity (1953)</td>\n",
              "      <td>Drama|Romance|War</td>\n",
              "    </tr>\n",
              "    <tr>\n",
              "      <th>1532</th>\n",
              "      <td>Doctor Zhivago (1965)</td>\n",
              "      <td>Drama|Romance|War</td>\n",
              "    </tr>\n",
              "    <tr>\n",
              "      <th>2051</th>\n",
              "      <td>Barry Lyndon (1975)</td>\n",
              "      <td>Drama|Romance|War</td>\n",
              "    </tr>\n",
              "  </tbody>\n",
              "</table>\n",
              "</div>\n",
              "    <div class=\"colab-df-buttons\">\n",
              "\n",
              "  <div class=\"colab-df-container\">\n",
              "    <button class=\"colab-df-convert\" onclick=\"convertToInteractive('df-be1db045-b9cc-4993-a6a7-8f99d24ee4ee')\"\n",
              "            title=\"Convert this dataframe to an interactive table.\"\n",
              "            style=\"display:none;\">\n",
              "\n",
              "  <svg xmlns=\"http://www.w3.org/2000/svg\" height=\"24px\" viewBox=\"0 -960 960 960\">\n",
              "    <path d=\"M120-120v-720h720v720H120Zm60-500h600v-160H180v160Zm220 220h160v-160H400v160Zm0 220h160v-160H400v160ZM180-400h160v-160H180v160Zm440 0h160v-160H620v160ZM180-180h160v-160H180v160Zm440 0h160v-160H620v160Z\"/>\n",
              "  </svg>\n",
              "    </button>\n",
              "\n",
              "  <style>\n",
              "    .colab-df-container {\n",
              "      display:flex;\n",
              "      gap: 12px;\n",
              "    }\n",
              "\n",
              "    .colab-df-convert {\n",
              "      background-color: #E8F0FE;\n",
              "      border: none;\n",
              "      border-radius: 50%;\n",
              "      cursor: pointer;\n",
              "      display: none;\n",
              "      fill: #1967D2;\n",
              "      height: 32px;\n",
              "      padding: 0 0 0 0;\n",
              "      width: 32px;\n",
              "    }\n",
              "\n",
              "    .colab-df-convert:hover {\n",
              "      background-color: #E2EBFA;\n",
              "      box-shadow: 0px 1px 2px rgba(60, 64, 67, 0.3), 0px 1px 3px 1px rgba(60, 64, 67, 0.15);\n",
              "      fill: #174EA6;\n",
              "    }\n",
              "\n",
              "    .colab-df-buttons div {\n",
              "      margin-bottom: 4px;\n",
              "    }\n",
              "\n",
              "    [theme=dark] .colab-df-convert {\n",
              "      background-color: #3B4455;\n",
              "      fill: #D2E3FC;\n",
              "    }\n",
              "\n",
              "    [theme=dark] .colab-df-convert:hover {\n",
              "      background-color: #434B5C;\n",
              "      box-shadow: 0px 1px 3px 1px rgba(0, 0, 0, 0.15);\n",
              "      filter: drop-shadow(0px 1px 2px rgba(0, 0, 0, 0.3));\n",
              "      fill: #FFFFFF;\n",
              "    }\n",
              "  </style>\n",
              "\n",
              "    <script>\n",
              "      const buttonEl =\n",
              "        document.querySelector('#df-be1db045-b9cc-4993-a6a7-8f99d24ee4ee button.colab-df-convert');\n",
              "      buttonEl.style.display =\n",
              "        google.colab.kernel.accessAllowed ? 'block' : 'none';\n",
              "\n",
              "      async function convertToInteractive(key) {\n",
              "        const element = document.querySelector('#df-be1db045-b9cc-4993-a6a7-8f99d24ee4ee');\n",
              "        const dataTable =\n",
              "          await google.colab.kernel.invokeFunction('convertToInteractive',\n",
              "                                                    [key], {});\n",
              "        if (!dataTable) return;\n",
              "\n",
              "        const docLinkHtml = 'Like what you see? Visit the ' +\n",
              "          '<a target=\"_blank\" href=https://colab.research.google.com/notebooks/data_table.ipynb>data table notebook</a>'\n",
              "          + ' to learn more about interactive tables.';\n",
              "        element.innerHTML = '';\n",
              "        dataTable['output_type'] = 'display_data';\n",
              "        await google.colab.output.renderOutput(dataTable, element);\n",
              "        const docLink = document.createElement('div');\n",
              "        docLink.innerHTML = docLinkHtml;\n",
              "        element.appendChild(docLink);\n",
              "      }\n",
              "    </script>\n",
              "  </div>\n",
              "\n",
              "\n",
              "    <div id=\"df-fd1c0c3d-e0d1-424b-87b8-e0206ba7e67b\">\n",
              "      <button class=\"colab-df-quickchart\" onclick=\"quickchart('df-fd1c0c3d-e0d1-424b-87b8-e0206ba7e67b')\"\n",
              "                title=\"Suggest charts\"\n",
              "                style=\"display:none;\">\n",
              "\n",
              "<svg xmlns=\"http://www.w3.org/2000/svg\" height=\"24px\"viewBox=\"0 0 24 24\"\n",
              "     width=\"24px\">\n",
              "    <g>\n",
              "        <path d=\"M19 3H5c-1.1 0-2 .9-2 2v14c0 1.1.9 2 2 2h14c1.1 0 2-.9 2-2V5c0-1.1-.9-2-2-2zM9 17H7v-7h2v7zm4 0h-2V7h2v10zm4 0h-2v-4h2v4z\"/>\n",
              "    </g>\n",
              "</svg>\n",
              "      </button>\n",
              "\n",
              "<style>\n",
              "  .colab-df-quickchart {\n",
              "      --bg-color: #E8F0FE;\n",
              "      --fill-color: #1967D2;\n",
              "      --hover-bg-color: #E2EBFA;\n",
              "      --hover-fill-color: #174EA6;\n",
              "      --disabled-fill-color: #AAA;\n",
              "      --disabled-bg-color: #DDD;\n",
              "  }\n",
              "\n",
              "  [theme=dark] .colab-df-quickchart {\n",
              "      --bg-color: #3B4455;\n",
              "      --fill-color: #D2E3FC;\n",
              "      --hover-bg-color: #434B5C;\n",
              "      --hover-fill-color: #FFFFFF;\n",
              "      --disabled-bg-color: #3B4455;\n",
              "      --disabled-fill-color: #666;\n",
              "  }\n",
              "\n",
              "  .colab-df-quickchart {\n",
              "    background-color: var(--bg-color);\n",
              "    border: none;\n",
              "    border-radius: 50%;\n",
              "    cursor: pointer;\n",
              "    display: none;\n",
              "    fill: var(--fill-color);\n",
              "    height: 32px;\n",
              "    padding: 0;\n",
              "    width: 32px;\n",
              "  }\n",
              "\n",
              "  .colab-df-quickchart:hover {\n",
              "    background-color: var(--hover-bg-color);\n",
              "    box-shadow: 0 1px 2px rgba(60, 64, 67, 0.3), 0 1px 3px 1px rgba(60, 64, 67, 0.15);\n",
              "    fill: var(--button-hover-fill-color);\n",
              "  }\n",
              "\n",
              "  .colab-df-quickchart-complete:disabled,\n",
              "  .colab-df-quickchart-complete:disabled:hover {\n",
              "    background-color: var(--disabled-bg-color);\n",
              "    fill: var(--disabled-fill-color);\n",
              "    box-shadow: none;\n",
              "  }\n",
              "\n",
              "  .colab-df-spinner {\n",
              "    border: 2px solid var(--fill-color);\n",
              "    border-color: transparent;\n",
              "    border-bottom-color: var(--fill-color);\n",
              "    animation:\n",
              "      spin 1s steps(1) infinite;\n",
              "  }\n",
              "\n",
              "  @keyframes spin {\n",
              "    0% {\n",
              "      border-color: transparent;\n",
              "      border-bottom-color: var(--fill-color);\n",
              "      border-left-color: var(--fill-color);\n",
              "    }\n",
              "    20% {\n",
              "      border-color: transparent;\n",
              "      border-left-color: var(--fill-color);\n",
              "      border-top-color: var(--fill-color);\n",
              "    }\n",
              "    30% {\n",
              "      border-color: transparent;\n",
              "      border-left-color: var(--fill-color);\n",
              "      border-top-color: var(--fill-color);\n",
              "      border-right-color: var(--fill-color);\n",
              "    }\n",
              "    40% {\n",
              "      border-color: transparent;\n",
              "      border-right-color: var(--fill-color);\n",
              "      border-top-color: var(--fill-color);\n",
              "    }\n",
              "    60% {\n",
              "      border-color: transparent;\n",
              "      border-right-color: var(--fill-color);\n",
              "    }\n",
              "    80% {\n",
              "      border-color: transparent;\n",
              "      border-right-color: var(--fill-color);\n",
              "      border-bottom-color: var(--fill-color);\n",
              "    }\n",
              "    90% {\n",
              "      border-color: transparent;\n",
              "      border-bottom-color: var(--fill-color);\n",
              "    }\n",
              "  }\n",
              "</style>\n",
              "\n",
              "      <script>\n",
              "        async function quickchart(key) {\n",
              "          const quickchartButtonEl =\n",
              "            document.querySelector('#' + key + ' button');\n",
              "          quickchartButtonEl.disabled = true;  // To prevent multiple clicks.\n",
              "          quickchartButtonEl.classList.add('colab-df-spinner');\n",
              "          try {\n",
              "            const charts = await google.colab.kernel.invokeFunction(\n",
              "                'suggestCharts', [key], {});\n",
              "          } catch (error) {\n",
              "            console.error('Error during call to suggestCharts:', error);\n",
              "          }\n",
              "          quickchartButtonEl.classList.remove('colab-df-spinner');\n",
              "          quickchartButtonEl.classList.add('colab-df-quickchart-complete');\n",
              "        }\n",
              "        (() => {\n",
              "          let quickchartButtonEl =\n",
              "            document.querySelector('#df-fd1c0c3d-e0d1-424b-87b8-e0206ba7e67b button');\n",
              "          quickchartButtonEl.style.display =\n",
              "            google.colab.kernel.accessAllowed ? 'block' : 'none';\n",
              "        })();\n",
              "      </script>\n",
              "    </div>\n",
              "\n",
              "  <div id=\"id_9636b0c1-e03a-4f3e-93f1-a218cd495e2f\">\n",
              "    <style>\n",
              "      .colab-df-generate {\n",
              "        background-color: #E8F0FE;\n",
              "        border: none;\n",
              "        border-radius: 50%;\n",
              "        cursor: pointer;\n",
              "        display: none;\n",
              "        fill: #1967D2;\n",
              "        height: 32px;\n",
              "        padding: 0 0 0 0;\n",
              "        width: 32px;\n",
              "      }\n",
              "\n",
              "      .colab-df-generate:hover {\n",
              "        background-color: #E2EBFA;\n",
              "        box-shadow: 0px 1px 2px rgba(60, 64, 67, 0.3), 0px 1px 3px 1px rgba(60, 64, 67, 0.15);\n",
              "        fill: #174EA6;\n",
              "      }\n",
              "\n",
              "      [theme=dark] .colab-df-generate {\n",
              "        background-color: #3B4455;\n",
              "        fill: #D2E3FC;\n",
              "      }\n",
              "\n",
              "      [theme=dark] .colab-df-generate:hover {\n",
              "        background-color: #434B5C;\n",
              "        box-shadow: 0px 1px 3px 1px rgba(0, 0, 0, 0.15);\n",
              "        filter: drop-shadow(0px 1px 2px rgba(0, 0, 0, 0.3));\n",
              "        fill: #FFFFFF;\n",
              "      }\n",
              "    </style>\n",
              "    <button class=\"colab-df-generate\" onclick=\"generateWithVariable('content_recommendations')\"\n",
              "            title=\"Generate code using this dataframe.\"\n",
              "            style=\"display:none;\">\n",
              "\n",
              "  <svg xmlns=\"http://www.w3.org/2000/svg\" height=\"24px\"viewBox=\"0 0 24 24\"\n",
              "       width=\"24px\">\n",
              "    <path d=\"M7,19H8.4L18.45,9,17,7.55,7,17.6ZM5,21V16.75L18.45,3.32a2,2,0,0,1,2.83,0l1.4,1.43a1.91,1.91,0,0,1,.58,1.4,1.91,1.91,0,0,1-.58,1.4L9.25,21ZM18.45,9,17,7.55Zm-12,3A5.31,5.31,0,0,0,4.9,8.1,5.31,5.31,0,0,0,1,6.5,5.31,5.31,0,0,0,4.9,4.9,5.31,5.31,0,0,0,6.5,1,5.31,5.31,0,0,0,8.1,4.9,5.31,5.31,0,0,0,12,6.5,5.46,5.46,0,0,0,6.5,12Z\"/>\n",
              "  </svg>\n",
              "    </button>\n",
              "    <script>\n",
              "      (() => {\n",
              "      const buttonEl =\n",
              "        document.querySelector('#id_9636b0c1-e03a-4f3e-93f1-a218cd495e2f button.colab-df-generate');\n",
              "      buttonEl.style.display =\n",
              "        google.colab.kernel.accessAllowed ? 'block' : 'none';\n",
              "\n",
              "      buttonEl.onclick = () => {\n",
              "        google.colab.notebook.generateWithVariable('content_recommendations');\n",
              "      }\n",
              "      })();\n",
              "    </script>\n",
              "  </div>\n",
              "\n",
              "    </div>\n",
              "  </div>\n"
            ],
            "application/vnd.google.colaboratory.intrinsic+json": {
              "type": "dataframe",
              "variable_name": "content_recommendations",
              "summary": "{\n  \"name\": \"content_recommendations\",\n  \"rows\": 10,\n  \"fields\": [\n    {\n      \"column\": \"title\",\n      \"properties\": {\n        \"dtype\": \"string\",\n        \"num_unique_values\": 10,\n        \"samples\": [\n          \"Doctor Zhivago (1965)\",\n          \"Train of Life (Train de vie) (1998)\",\n          \"Gone with the Wind (1939)\"\n        ],\n        \"semantic_type\": \"\",\n        \"description\": \"\"\n      }\n    },\n    {\n      \"column\": \"genres\",\n      \"properties\": {\n        \"dtype\": \"category\",\n        \"num_unique_values\": 2,\n        \"samples\": [\n          \"Drama|Romance|War\",\n          \"Comedy|Drama|Romance|War\"\n        ],\n        \"semantic_type\": \"\",\n        \"description\": \"\"\n      }\n    }\n  ]\n}"
            }
          },
          "metadata": {},
          "execution_count": 32
        }
      ],
      "source": [
        "## Content-Based Filtering\n",
        "\n",
        "# Compute the cosine similarity matrix\n",
        "cosine_sim = cosine_similarity(tfidf_matrix, tfidf_matrix)\n",
        "\n",
        "# Create a mapping from movie title to index\n",
        "indices = pd.Series(content_df.index, index=content_df['title']).drop_duplicates() ## Due to avoid bias data doesnt matter cause alr checked\n",
        "\n",
        "# Function to get movie recommendations based on the similarity score\n",
        "def get_content_based_recommendations(title, cosine_sim=cosine_sim, df=content_df, indices=indices):\n",
        "    # Get the index of the movie that matches the title\n",
        "    try:\n",
        "        idx = indices[title]\n",
        "\n",
        "        # Get the pairwise similarity scores of all movies with that movie\n",
        "        sim_scores = list(enumerate(cosine_sim[idx]))\n",
        "\n",
        "        # Sort the movies based on the similarity scores\n",
        "        sim_scores = sorted(sim_scores, key=lambda x: x[1], reverse=True)\n",
        "\n",
        "        # Get the scores of the 10 most similar movies (excluding the movie itself)\n",
        "        sim_scores = sim_scores[1:11]\n",
        "\n",
        "        # Get the movie indices\n",
        "        movie_indices = [i[0] for i in sim_scores]\n",
        "\n",
        "        # Return the top 10 most similar movies\n",
        "        return df[['title', 'genres']].iloc[movie_indices]\n",
        "    except KeyError:\n",
        "        return pd.DataFrame({\"title\": [\"Movie not found in database\"], \"genres\": [\"\"]})\n",
        "\n",
        "# Test the content-based recommendation system\n",
        "# Let's recommend movies similar to a popular one\n",
        "popular_movie = most_rated_movies.index[0]\n",
        "print(f\"Content-Based Recommendations for: {popular_movie}\")\n",
        "content_recommendations = get_content_based_recommendations(popular_movie)\n",
        "content_recommendations"
      ]
    },
    {
      "cell_type": "markdown",
      "source": [
        "Sistem rekomendasi berbasis konten berhasil memberikan rekomendasi film berdasarkan kesamaan genre dengan film `\"Forrest Gump (1994)\"`. Misalnya, film `\"Life Is Beautiful (La Vita è bella) (1997)\"` dan `\"Train of Life (Train de vie) (1998)\"` adalah beberapa rekomendasi yang memiliki genre serupa seperti Comedy, Drama, Romance, dan War. Sistem ini juga merekomendasikan film-film klasik seperti `\"Gone with the Wind (1939)\"` dan `\"Doctor Zhivago (1965)\"`, yang memiliki elemen genre yang mirip dan dapat menjadi pilihan menarik bagi pengguna yang menyukai `Forrest Gump`.\n"
      ],
      "metadata": {
        "id": "CGEzwhLIsYq5"
      },
      "id": "CGEzwhLIsYq5"
    },
    {
      "cell_type": "markdown",
      "id": "46123710",
      "metadata": {
        "id": "46123710"
      },
      "source": [
        "### Collaborative Filtering"
      ]
    },
    {
      "cell_type": "markdown",
      "source": [
        "Pada tahap ini, kita akan melatih algoritma Collaborative Filtering menggunakan teknik SVD (Singular Value Decomposition) untuk memprediksi rating yang akan diberikan oleh pengguna pada film yang belum mereka rating. Proses ini melibatkan pembuatan fungsi untuk memberikan rekomendasi berdasarkan kesamaan yang ditemukan melalui matrix faktor SVD.\n"
      ],
      "metadata": {
        "id": "x4Mtdttlsxip"
      },
      "id": "x4Mtdttlsxip"
    },
    {
      "cell_type": "code",
      "execution_count": null,
      "id": "5cd04efd",
      "metadata": {
        "colab": {
          "base_uri": "https://localhost:8080/",
          "height": 380
        },
        "id": "5cd04efd",
        "outputId": "bec252dd-142b-46f1-9280-468d7cbd279b"
      },
      "outputs": [
        {
          "output_type": "stream",
          "name": "stdout",
          "text": [
            "Collaborative Filtering Recommendations for User 484:\n"
          ]
        },
        {
          "output_type": "execute_result",
          "data": {
            "text/plain": [
              "                                               title  estimated_rating\n",
              "0                                     Amadeus (1984)          4.822173\n",
              "1               Bridge on the River Kwai, The (1957)          4.779827\n",
              "2          Star Wars: Episode IV - A New Hope (1977)          4.755138\n",
              "3                                   In Bruges (2008)          4.722780\n",
              "4                          This Is Spinal Tap (1984)          4.719475\n",
              "5  Star Wars: Episode V - The Empire Strikes Back...          4.714520\n",
              "6             Monty Python and the Holy Grail (1975)          4.695395\n",
              "7  Dr. Strangelove or: How I Learned to Stop Worr...          4.670601\n",
              "8                         Usual Suspects, The (1995)          4.666281\n",
              "9                         Maltese Falcon, The (1941)          4.664523"
            ],
            "text/html": [
              "\n",
              "  <div id=\"df-3c590061-ba47-447e-9339-fd9286b0a86a\" class=\"colab-df-container\">\n",
              "    <div>\n",
              "<style scoped>\n",
              "    .dataframe tbody tr th:only-of-type {\n",
              "        vertical-align: middle;\n",
              "    }\n",
              "\n",
              "    .dataframe tbody tr th {\n",
              "        vertical-align: top;\n",
              "    }\n",
              "\n",
              "    .dataframe thead th {\n",
              "        text-align: right;\n",
              "    }\n",
              "</style>\n",
              "<table border=\"1\" class=\"dataframe\">\n",
              "  <thead>\n",
              "    <tr style=\"text-align: right;\">\n",
              "      <th></th>\n",
              "      <th>title</th>\n",
              "      <th>estimated_rating</th>\n",
              "    </tr>\n",
              "  </thead>\n",
              "  <tbody>\n",
              "    <tr>\n",
              "      <th>0</th>\n",
              "      <td>Amadeus (1984)</td>\n",
              "      <td>4.822173</td>\n",
              "    </tr>\n",
              "    <tr>\n",
              "      <th>1</th>\n",
              "      <td>Bridge on the River Kwai, The (1957)</td>\n",
              "      <td>4.779827</td>\n",
              "    </tr>\n",
              "    <tr>\n",
              "      <th>2</th>\n",
              "      <td>Star Wars: Episode IV - A New Hope (1977)</td>\n",
              "      <td>4.755138</td>\n",
              "    </tr>\n",
              "    <tr>\n",
              "      <th>3</th>\n",
              "      <td>In Bruges (2008)</td>\n",
              "      <td>4.722780</td>\n",
              "    </tr>\n",
              "    <tr>\n",
              "      <th>4</th>\n",
              "      <td>This Is Spinal Tap (1984)</td>\n",
              "      <td>4.719475</td>\n",
              "    </tr>\n",
              "    <tr>\n",
              "      <th>5</th>\n",
              "      <td>Star Wars: Episode V - The Empire Strikes Back...</td>\n",
              "      <td>4.714520</td>\n",
              "    </tr>\n",
              "    <tr>\n",
              "      <th>6</th>\n",
              "      <td>Monty Python and the Holy Grail (1975)</td>\n",
              "      <td>4.695395</td>\n",
              "    </tr>\n",
              "    <tr>\n",
              "      <th>7</th>\n",
              "      <td>Dr. Strangelove or: How I Learned to Stop Worr...</td>\n",
              "      <td>4.670601</td>\n",
              "    </tr>\n",
              "    <tr>\n",
              "      <th>8</th>\n",
              "      <td>Usual Suspects, The (1995)</td>\n",
              "      <td>4.666281</td>\n",
              "    </tr>\n",
              "    <tr>\n",
              "      <th>9</th>\n",
              "      <td>Maltese Falcon, The (1941)</td>\n",
              "      <td>4.664523</td>\n",
              "    </tr>\n",
              "  </tbody>\n",
              "</table>\n",
              "</div>\n",
              "    <div class=\"colab-df-buttons\">\n",
              "\n",
              "  <div class=\"colab-df-container\">\n",
              "    <button class=\"colab-df-convert\" onclick=\"convertToInteractive('df-3c590061-ba47-447e-9339-fd9286b0a86a')\"\n",
              "            title=\"Convert this dataframe to an interactive table.\"\n",
              "            style=\"display:none;\">\n",
              "\n",
              "  <svg xmlns=\"http://www.w3.org/2000/svg\" height=\"24px\" viewBox=\"0 -960 960 960\">\n",
              "    <path d=\"M120-120v-720h720v720H120Zm60-500h600v-160H180v160Zm220 220h160v-160H400v160Zm0 220h160v-160H400v160ZM180-400h160v-160H180v160Zm440 0h160v-160H620v160ZM180-180h160v-160H180v160Zm440 0h160v-160H620v160Z\"/>\n",
              "  </svg>\n",
              "    </button>\n",
              "\n",
              "  <style>\n",
              "    .colab-df-container {\n",
              "      display:flex;\n",
              "      gap: 12px;\n",
              "    }\n",
              "\n",
              "    .colab-df-convert {\n",
              "      background-color: #E8F0FE;\n",
              "      border: none;\n",
              "      border-radius: 50%;\n",
              "      cursor: pointer;\n",
              "      display: none;\n",
              "      fill: #1967D2;\n",
              "      height: 32px;\n",
              "      padding: 0 0 0 0;\n",
              "      width: 32px;\n",
              "    }\n",
              "\n",
              "    .colab-df-convert:hover {\n",
              "      background-color: #E2EBFA;\n",
              "      box-shadow: 0px 1px 2px rgba(60, 64, 67, 0.3), 0px 1px 3px 1px rgba(60, 64, 67, 0.15);\n",
              "      fill: #174EA6;\n",
              "    }\n",
              "\n",
              "    .colab-df-buttons div {\n",
              "      margin-bottom: 4px;\n",
              "    }\n",
              "\n",
              "    [theme=dark] .colab-df-convert {\n",
              "      background-color: #3B4455;\n",
              "      fill: #D2E3FC;\n",
              "    }\n",
              "\n",
              "    [theme=dark] .colab-df-convert:hover {\n",
              "      background-color: #434B5C;\n",
              "      box-shadow: 0px 1px 3px 1px rgba(0, 0, 0, 0.15);\n",
              "      filter: drop-shadow(0px 1px 2px rgba(0, 0, 0, 0.3));\n",
              "      fill: #FFFFFF;\n",
              "    }\n",
              "  </style>\n",
              "\n",
              "    <script>\n",
              "      const buttonEl =\n",
              "        document.querySelector('#df-3c590061-ba47-447e-9339-fd9286b0a86a button.colab-df-convert');\n",
              "      buttonEl.style.display =\n",
              "        google.colab.kernel.accessAllowed ? 'block' : 'none';\n",
              "\n",
              "      async function convertToInteractive(key) {\n",
              "        const element = document.querySelector('#df-3c590061-ba47-447e-9339-fd9286b0a86a');\n",
              "        const dataTable =\n",
              "          await google.colab.kernel.invokeFunction('convertToInteractive',\n",
              "                                                    [key], {});\n",
              "        if (!dataTable) return;\n",
              "\n",
              "        const docLinkHtml = 'Like what you see? Visit the ' +\n",
              "          '<a target=\"_blank\" href=https://colab.research.google.com/notebooks/data_table.ipynb>data table notebook</a>'\n",
              "          + ' to learn more about interactive tables.';\n",
              "        element.innerHTML = '';\n",
              "        dataTable['output_type'] = 'display_data';\n",
              "        await google.colab.output.renderOutput(dataTable, element);\n",
              "        const docLink = document.createElement('div');\n",
              "        docLink.innerHTML = docLinkHtml;\n",
              "        element.appendChild(docLink);\n",
              "      }\n",
              "    </script>\n",
              "  </div>\n",
              "\n",
              "\n",
              "    <div id=\"df-adff2eb1-af91-4bde-b84e-85e837151e3d\">\n",
              "      <button class=\"colab-df-quickchart\" onclick=\"quickchart('df-adff2eb1-af91-4bde-b84e-85e837151e3d')\"\n",
              "                title=\"Suggest charts\"\n",
              "                style=\"display:none;\">\n",
              "\n",
              "<svg xmlns=\"http://www.w3.org/2000/svg\" height=\"24px\"viewBox=\"0 0 24 24\"\n",
              "     width=\"24px\">\n",
              "    <g>\n",
              "        <path d=\"M19 3H5c-1.1 0-2 .9-2 2v14c0 1.1.9 2 2 2h14c1.1 0 2-.9 2-2V5c0-1.1-.9-2-2-2zM9 17H7v-7h2v7zm4 0h-2V7h2v10zm4 0h-2v-4h2v4z\"/>\n",
              "    </g>\n",
              "</svg>\n",
              "      </button>\n",
              "\n",
              "<style>\n",
              "  .colab-df-quickchart {\n",
              "      --bg-color: #E8F0FE;\n",
              "      --fill-color: #1967D2;\n",
              "      --hover-bg-color: #E2EBFA;\n",
              "      --hover-fill-color: #174EA6;\n",
              "      --disabled-fill-color: #AAA;\n",
              "      --disabled-bg-color: #DDD;\n",
              "  }\n",
              "\n",
              "  [theme=dark] .colab-df-quickchart {\n",
              "      --bg-color: #3B4455;\n",
              "      --fill-color: #D2E3FC;\n",
              "      --hover-bg-color: #434B5C;\n",
              "      --hover-fill-color: #FFFFFF;\n",
              "      --disabled-bg-color: #3B4455;\n",
              "      --disabled-fill-color: #666;\n",
              "  }\n",
              "\n",
              "  .colab-df-quickchart {\n",
              "    background-color: var(--bg-color);\n",
              "    border: none;\n",
              "    border-radius: 50%;\n",
              "    cursor: pointer;\n",
              "    display: none;\n",
              "    fill: var(--fill-color);\n",
              "    height: 32px;\n",
              "    padding: 0;\n",
              "    width: 32px;\n",
              "  }\n",
              "\n",
              "  .colab-df-quickchart:hover {\n",
              "    background-color: var(--hover-bg-color);\n",
              "    box-shadow: 0 1px 2px rgba(60, 64, 67, 0.3), 0 1px 3px 1px rgba(60, 64, 67, 0.15);\n",
              "    fill: var(--button-hover-fill-color);\n",
              "  }\n",
              "\n",
              "  .colab-df-quickchart-complete:disabled,\n",
              "  .colab-df-quickchart-complete:disabled:hover {\n",
              "    background-color: var(--disabled-bg-color);\n",
              "    fill: var(--disabled-fill-color);\n",
              "    box-shadow: none;\n",
              "  }\n",
              "\n",
              "  .colab-df-spinner {\n",
              "    border: 2px solid var(--fill-color);\n",
              "    border-color: transparent;\n",
              "    border-bottom-color: var(--fill-color);\n",
              "    animation:\n",
              "      spin 1s steps(1) infinite;\n",
              "  }\n",
              "\n",
              "  @keyframes spin {\n",
              "    0% {\n",
              "      border-color: transparent;\n",
              "      border-bottom-color: var(--fill-color);\n",
              "      border-left-color: var(--fill-color);\n",
              "    }\n",
              "    20% {\n",
              "      border-color: transparent;\n",
              "      border-left-color: var(--fill-color);\n",
              "      border-top-color: var(--fill-color);\n",
              "    }\n",
              "    30% {\n",
              "      border-color: transparent;\n",
              "      border-left-color: var(--fill-color);\n",
              "      border-top-color: var(--fill-color);\n",
              "      border-right-color: var(--fill-color);\n",
              "    }\n",
              "    40% {\n",
              "      border-color: transparent;\n",
              "      border-right-color: var(--fill-color);\n",
              "      border-top-color: var(--fill-color);\n",
              "    }\n",
              "    60% {\n",
              "      border-color: transparent;\n",
              "      border-right-color: var(--fill-color);\n",
              "    }\n",
              "    80% {\n",
              "      border-color: transparent;\n",
              "      border-right-color: var(--fill-color);\n",
              "      border-bottom-color: var(--fill-color);\n",
              "    }\n",
              "    90% {\n",
              "      border-color: transparent;\n",
              "      border-bottom-color: var(--fill-color);\n",
              "    }\n",
              "  }\n",
              "</style>\n",
              "\n",
              "      <script>\n",
              "        async function quickchart(key) {\n",
              "          const quickchartButtonEl =\n",
              "            document.querySelector('#' + key + ' button');\n",
              "          quickchartButtonEl.disabled = true;  // To prevent multiple clicks.\n",
              "          quickchartButtonEl.classList.add('colab-df-spinner');\n",
              "          try {\n",
              "            const charts = await google.colab.kernel.invokeFunction(\n",
              "                'suggestCharts', [key], {});\n",
              "          } catch (error) {\n",
              "            console.error('Error during call to suggestCharts:', error);\n",
              "          }\n",
              "          quickchartButtonEl.classList.remove('colab-df-spinner');\n",
              "          quickchartButtonEl.classList.add('colab-df-quickchart-complete');\n",
              "        }\n",
              "        (() => {\n",
              "          let quickchartButtonEl =\n",
              "            document.querySelector('#df-adff2eb1-af91-4bde-b84e-85e837151e3d button');\n",
              "          quickchartButtonEl.style.display =\n",
              "            google.colab.kernel.accessAllowed ? 'block' : 'none';\n",
              "        })();\n",
              "      </script>\n",
              "    </div>\n",
              "\n",
              "  <div id=\"id_6b000429-d4d4-4dbf-841b-e76117bd7680\">\n",
              "    <style>\n",
              "      .colab-df-generate {\n",
              "        background-color: #E8F0FE;\n",
              "        border: none;\n",
              "        border-radius: 50%;\n",
              "        cursor: pointer;\n",
              "        display: none;\n",
              "        fill: #1967D2;\n",
              "        height: 32px;\n",
              "        padding: 0 0 0 0;\n",
              "        width: 32px;\n",
              "      }\n",
              "\n",
              "      .colab-df-generate:hover {\n",
              "        background-color: #E2EBFA;\n",
              "        box-shadow: 0px 1px 2px rgba(60, 64, 67, 0.3), 0px 1px 3px 1px rgba(60, 64, 67, 0.15);\n",
              "        fill: #174EA6;\n",
              "      }\n",
              "\n",
              "      [theme=dark] .colab-df-generate {\n",
              "        background-color: #3B4455;\n",
              "        fill: #D2E3FC;\n",
              "      }\n",
              "\n",
              "      [theme=dark] .colab-df-generate:hover {\n",
              "        background-color: #434B5C;\n",
              "        box-shadow: 0px 1px 3px 1px rgba(0, 0, 0, 0.15);\n",
              "        filter: drop-shadow(0px 1px 2px rgba(0, 0, 0, 0.3));\n",
              "        fill: #FFFFFF;\n",
              "      }\n",
              "    </style>\n",
              "    <button class=\"colab-df-generate\" onclick=\"generateWithVariable('collab_recommendations')\"\n",
              "            title=\"Generate code using this dataframe.\"\n",
              "            style=\"display:none;\">\n",
              "\n",
              "  <svg xmlns=\"http://www.w3.org/2000/svg\" height=\"24px\"viewBox=\"0 0 24 24\"\n",
              "       width=\"24px\">\n",
              "    <path d=\"M7,19H8.4L18.45,9,17,7.55,7,17.6ZM5,21V16.75L18.45,3.32a2,2,0,0,1,2.83,0l1.4,1.43a1.91,1.91,0,0,1,.58,1.4,1.91,1.91,0,0,1-.58,1.4L9.25,21ZM18.45,9,17,7.55Zm-12,3A5.31,5.31,0,0,0,4.9,8.1,5.31,5.31,0,0,0,1,6.5,5.31,5.31,0,0,0,4.9,4.9,5.31,5.31,0,0,0,6.5,1,5.31,5.31,0,0,0,8.1,4.9,5.31,5.31,0,0,0,12,6.5,5.46,5.46,0,0,0,6.5,12Z\"/>\n",
              "  </svg>\n",
              "    </button>\n",
              "    <script>\n",
              "      (() => {\n",
              "      const buttonEl =\n",
              "        document.querySelector('#id_6b000429-d4d4-4dbf-841b-e76117bd7680 button.colab-df-generate');\n",
              "      buttonEl.style.display =\n",
              "        google.colab.kernel.accessAllowed ? 'block' : 'none';\n",
              "\n",
              "      buttonEl.onclick = () => {\n",
              "        google.colab.notebook.generateWithVariable('collab_recommendations');\n",
              "      }\n",
              "      })();\n",
              "    </script>\n",
              "  </div>\n",
              "\n",
              "    </div>\n",
              "  </div>\n"
            ],
            "application/vnd.google.colaboratory.intrinsic+json": {
              "type": "dataframe",
              "variable_name": "collab_recommendations",
              "summary": "{\n  \"name\": \"collab_recommendations\",\n  \"rows\": 10,\n  \"fields\": [\n    {\n      \"column\": \"title\",\n      \"properties\": {\n        \"dtype\": \"string\",\n        \"num_unique_values\": 10,\n        \"samples\": [\n          \"Usual Suspects, The (1995)\",\n          \"Bridge on the River Kwai, The (1957)\",\n          \"Star Wars: Episode V - The Empire Strikes Back (1980)\"\n        ],\n        \"semantic_type\": \"\",\n        \"description\": \"\"\n      }\n    },\n    {\n      \"column\": \"estimated_rating\",\n      \"properties\": {\n        \"dtype\": \"number\",\n        \"std\": 0.05194982228034442,\n        \"min\": 4.664523126693465,\n        \"max\": 4.822173255483716,\n        \"num_unique_values\": 10,\n        \"samples\": [\n          4.666280502670454,\n          4.7798272660844345,\n          4.714519745403418\n        ],\n        \"semantic_type\": \"\",\n        \"description\": \"\"\n      }\n    }\n  ]\n}"
            }
          },
          "metadata": {},
          "execution_count": 33
        }
      ],
      "source": [
        "## Collaborative Filtering\n",
        "# Train the SVD algorithm (matrix factorization)\n",
        "svd = SVD()\n",
        "svd.fit(trainset)\n",
        "\n",
        "# Function to get recommendations for a specific user\n",
        "def get_collaborative_recommendations(user_id, n_recommendations=10):\n",
        "    # Get a list of movies the user hasn't rated yet\n",
        "    user_ratings = clean_df[clean_df['userId'] == user_id]['movieId'].unique()\n",
        "    all_movies = clean_df['movieId'].unique()\n",
        "    movies_to_recommend = np.setdiff1d(all_movies, user_ratings)\n",
        "\n",
        "    # Predict ratings for all unrated movies\n",
        "    predictions = []\n",
        "    for movie_id in movies_to_recommend:\n",
        "        predictions.append((movie_id, svd.predict(user_id, movie_id).est))\n",
        "\n",
        "    # Sort predictions by estimated rating\n",
        "    predictions.sort(key=lambda x: x[1], reverse=True)\n",
        "\n",
        "    # Get the top N recommendations\n",
        "    top_recommendations = predictions[:n_recommendations]\n",
        "\n",
        "    # Convert movie IDs to titles\n",
        "    recommended_movies = []\n",
        "    for movie_id, estimated_rating in top_recommendations:\n",
        "        movie_title = clean_df[clean_df['movieId'] == movie_id]['title'].values[0]\n",
        "        recommended_movies.append((movie_title, estimated_rating))\n",
        "\n",
        "    return pd.DataFrame(recommended_movies, columns=['title', 'estimated_rating'])\n",
        "\n",
        "# Test the collaborative filtering recommender system\n",
        "# Select a random user\n",
        "sample_user = clean_df['userId'].sample(1).iloc[0]\n",
        "print(f\"Collaborative Filtering Recommendations for User {sample_user}:\")\n",
        "collab_recommendations = get_collaborative_recommendations(sample_user)\n",
        "collab_recommendations"
      ]
    },
    {
      "cell_type": "markdown",
      "source": [
        "Sistem rekomendasi berbasis Collaborative Filtering berhasil memberikan rekomendasi film untuk pengguna dengan ID 484. Berdasarkan model yang dilatih, beberapa film yang direkomendasikan, seperti \"Amadeus (1984)\" dan \"Bridge on the River Kwai (1957)\", mendapatkan rating estimasi lebih dari 4.7, menunjukkan relevansi tinggi dari rekomendasi yang diberikan. Ini menunjukkan bahwa sistem dapat memberikan saran film yang sesuai dengan preferensi pengguna berdasarkan pola rating yang ada dalam dataset.\n"
      ],
      "metadata": {
        "id": "Dex5ZsEVs4mI"
      },
      "id": "Dex5ZsEVs4mI"
    },
    {
      "cell_type": "markdown",
      "id": "6a53b0bd",
      "metadata": {
        "id": "6a53b0bd"
      },
      "source": [
        "## Data Evaluation"
      ]
    },
    {
      "cell_type": "markdown",
      "id": "97e608ff",
      "metadata": {
        "id": "97e608ff"
      },
      "source": [
        "### 1. Content-Based Filtering Evaluation"
      ]
    },
    {
      "cell_type": "markdown",
      "source": [
        "Pada tahap ini, kita akan melakukan evaluasi terhadap sistem rekomendasi berbasis konten dengan mengukur dua metrik utama: **coverage** dan **diversity**. **Coverage** mengukur proporsi item yang dapat direkomendasikan, sementara **diversity** mengukur perbedaan rata-rata antara rekomendasi yang diberikan, yang penting untuk memastikan bahwa rekomendasi yang dihasilkan beragam.\n"
      ],
      "metadata": {
        "id": "M2ue3AJYtGfp"
      },
      "id": "M2ue3AJYtGfp"
    },
    {
      "cell_type": "code",
      "execution_count": null,
      "id": "38d887fb",
      "metadata": {
        "colab": {
          "base_uri": "https://localhost:8080/"
        },
        "id": "38d887fb",
        "outputId": "67f4fa2b-c2d4-4598-ac1d-36152dc37b23"
      },
      "outputs": [
        {
          "output_type": "stream",
          "name": "stdout",
          "text": [
            "Content-Based Coverage: 1.0000\n",
            "Content-Based Diversity: 0.0135\n"
          ]
        }
      ],
      "source": [
        "# 1. Content-Based Filtering Evaluation\n",
        "\n",
        "# For content-based, one approach is to evaluate coverage and diversity\n",
        "# Coverage: proportion of items that can be recommended\n",
        "def calculate_coverage(similarity_matrix, n_recommendations=10):\n",
        "    covered_items = np.sum(np.sum(np.argsort(-similarity_matrix, axis=1)[:, :n_recommendations+1] > 0, axis=1) > 0)\n",
        "    return covered_items / similarity_matrix.shape[0]\n",
        "\n",
        "content_coverage = calculate_coverage(cosine_sim)\n",
        "print(f\"Content-Based Coverage: {content_coverage:.4f}\")\n",
        "\n",
        "# Diversity: average dissimilarity between recommendations\n",
        "def calculate_diversity(similarity_matrix, n_recommendations=10):\n",
        "    top_n_indices = np.argsort(-similarity_matrix, axis=1)[:, :n_recommendations+1]\n",
        "    diversity_sum = 0\n",
        "    count = 0\n",
        "\n",
        "    for i in range(similarity_matrix.shape[0]):\n",
        "        item_diversity = 0\n",
        "        for j in range(n_recommendations):\n",
        "            for k in range(j+1, n_recommendations):\n",
        "                if j != k:\n",
        "                    idx1 = top_n_indices[i, j]\n",
        "                    idx2 = top_n_indices[i, k]\n",
        "                    item_diversity += 1 - similarity_matrix[idx1, idx2]\n",
        "                    count += 1\n",
        "        diversity_sum += item_diversity\n",
        "\n",
        "    return diversity_sum / count if count > 0 else 0\n",
        "\n",
        "content_diversity = calculate_diversity(cosine_sim)\n",
        "print(f\"Content-Based Diversity: {content_diversity:.4f}\")"
      ]
    },
    {
      "cell_type": "markdown",
      "source": [
        "Hasil evaluasi menunjukkan bahwa sistem rekomendasi berbasis konten memiliki **coverage** sebesar 1.0000, yang berarti bahwa semua item dalam dataset dapat direkomendasikan. Namun, **diversity** sistem ini sangat rendah dengan nilai 0.0135, yang menunjukkan bahwa rekomendasi yang diberikan cenderung mirip satu sama lain. Ini berarti bahwa meskipun sistem mencakup seluruh item dalam dataset, keberagaman rekomendasinya masih perlu ditingkatkan.\n"
      ],
      "metadata": {
        "id": "mvU2OAJftI1w"
      },
      "id": "mvU2OAJftI1w"
    },
    {
      "cell_type": "markdown",
      "id": "83b6bf68",
      "metadata": {
        "id": "83b6bf68"
      },
      "source": [
        "### 2. Collaborative Filtering Evaluation"
      ]
    },
    {
      "cell_type": "markdown",
      "source": [
        "Pada tahap ini, kita akan mengevaluasi kinerja model Collaborative Filtering dengan mengukur tiga metrik utama: **RMSE (Root Mean Square Error)**, **MAE (Mean Absolute Error)**, dan **Precision@10**. RMSE dan MAE digunakan untuk mengukur seberapa baik model dalam memprediksi rating yang diberikan oleh pengguna, sedangkan Precision@10 mengukur relevansi 10 rekomendasi teratas yang diberikan.\n"
      ],
      "metadata": {
        "id": "pzsMywOmtXwA"
      },
      "id": "pzsMywOmtXwA"
    },
    {
      "cell_type": "code",
      "execution_count": null,
      "id": "f23d80d9",
      "metadata": {
        "colab": {
          "base_uri": "https://localhost:8080/",
          "height": 753
        },
        "id": "f23d80d9",
        "outputId": "126e739b-131a-409f-d62d-096d1c7bad60"
      },
      "outputs": [
        {
          "output_type": "stream",
          "name": "stdout",
          "text": [
            "RMSE: 0.8718\n",
            "RMSE: 0.8718226291065518\n",
            "Evaluating RMSE, MAE of algorithm SVD on 5 split(s).\n",
            "\n",
            "                  Fold 1  Fold 2  Fold 3  Fold 4  Fold 5  Mean    Std     \n",
            "RMSE (testset)    0.8723  0.8797  0.8677  0.8680  0.8802  0.8736  0.0055  \n",
            "MAE (testset)     0.6712  0.6755  0.6651  0.6680  0.6747  0.6709  0.0040  \n",
            "Fit time          1.71    1.54    1.54    1.54    1.48    1.56    0.08    \n",
            "Test time         0.10    0.10    0.14    0.25    0.10    0.14    0.06    \n",
            "Average RMSE: 0.8736066270775307\n",
            "Average MAE: 0.6708912667438491\n",
            "Collaborative Filtering Precision@10: 0.6314\n"
          ]
        },
        {
          "output_type": "display_data",
          "data": {
            "text/plain": [
              "<Figure size 1000x600 with 1 Axes>"
            ],
            "image/png": "[encoded data removed]"
          },
          "metadata": {}
        }
      ],
      "source": [
        "# 2. Collaborative Filtering Evaluation\n",
        "# We've already calculated RMSE and MAE with cross-validation\n",
        "\n",
        "# Evaluate the model\n",
        "predictions = svd.test(testset)\n",
        "accuracy = surprise.accuracy.rmse(predictions)\n",
        "print(f\"RMSE: {accuracy}\")\n",
        "\n",
        "# Cross-validation to ensure model robustness\n",
        "cv_results = cross_validate(svd, data, measures=['RMSE', 'MAE'], cv=5, verbose=True)\n",
        "print(f\"Average RMSE: {cv_results['test_rmse'].mean()}\")\n",
        "print(f\"Average MAE: {cv_results['test_mae'].mean()}\")\n",
        "\n",
        "\n",
        "# Precision@K: measure how many recommended items are relevant\n",
        "def precision_at_k(predictions, k=10, threshold=3.5):\n",
        "    user_est_true = defaultdict(list)\n",
        "    for uid, _, true_r, est, _ in predictions:\n",
        "        user_est_true[uid].append((est, true_r))\n",
        "\n",
        "    precisions = dict()\n",
        "    for uid, user_ratings in user_est_true.items():\n",
        "        # Sort user ratings by estimated value\n",
        "        user_ratings.sort(key=lambda x: x[0], reverse=True)\n",
        "\n",
        "        # Number of relevant recommended items\n",
        "        n_rel = sum((true_r >= threshold) for (_, true_r) in user_ratings[:k])\n",
        "\n",
        "        # Precision@K\n",
        "        precisions[uid] = n_rel / k\n",
        "\n",
        "    return sum(prec for prec in precisions.values()) / len(precisions)\n",
        "\n",
        "\n",
        "precision = precision_at_k(predictions, k=10, threshold=3.5)\n",
        "print(f\"Collaborative Filtering Precision@10: {precision:.4f}\")\n",
        "\n",
        "# Visualize the results\n",
        "metrics = ['RMSE', 'MAE', 'Precision@10']\n",
        "values = [cv_results['test_rmse'].mean(), cv_results['test_mae'].mean(), precision]\n",
        "\n",
        "plt.figure(figsize=(10, 6))\n",
        "sns.barplot(x=metrics, y=values)\n",
        "plt.title('Collaborative Filtering Metrics')\n",
        "plt.ylim(0, 1.5)\n",
        "for i, v in enumerate(values):\n",
        "    plt.text(i, v + 0.05, f\"{v:.4f}\", ha='center')\n",
        "plt.show()\n"
      ]
    },
    {
      "cell_type": "markdown",
      "source": [
        "Hasil evaluasi menunjukkan bahwa model Collaborative Filtering menggunakan SVD memiliki **RMSE** sebesar 0.8736, **MAE** sebesar 0.6709, dan **Precision@10** sebesar 0.6314. Metrik ini memberikan gambaran tentang seberapa baik model dalam memprediksi rating dan relevansi rekomendasi yang diberikan kepada pengguna. Hasil ini menunjukkan bahwa model cukup baik dalam memprediksi rating dan memberikan rekomendasi yang relevan, meskipun masih ada ruang untuk perbaikan.\n"
      ],
      "metadata": {
        "id": "WCsPYPsFtaGI"
      },
      "id": "WCsPYPsFtaGI"
    },
    {
      "cell_type": "markdown",
      "id": "f131c601",
      "metadata": {
        "id": "f131c601"
      },
      "source": [
        "### Compare Recommendation from both methods for a sample movie"
      ]
    },
    {
      "cell_type": "markdown",
      "source": [
        "Pada tahap ini, kita akan membandingkan rekomendasi yang dihasilkan oleh metode **Content-Based Filtering** dan **Collaborative Filtering** untuk film tertentu. Kita akan melihat rekomendasi yang diberikan oleh masing-masing metode, serta mengukur seberapa banyak tumpang tindih antara kedua metode tersebut dengan menggunakan diagram Venn.\n"
      ],
      "metadata": {
        "id": "uifxY7Rctp4Q"
      },
      "id": "uifxY7Rctp4Q"
    },
    {
      "cell_type": "code",
      "execution_count": null,
      "id": "ced1c9fd",
      "metadata": {
        "colab": {
          "base_uri": "https://localhost:8080/",
          "height": 667
        },
        "id": "ced1c9fd",
        "outputId": "e43be04f-a18b-43c3-ac83-2d3d38fe3537"
      },
      "outputs": [
        {
          "output_type": "stream",
          "name": "stdout",
          "text": [
            "Comparing recommendations for: Forrest Gump (1994)\n",
            "\n",
            "Content-Based Recommendations:\n",
            "['Life Is Beautiful (La Vita è bella) (1997)'\n",
            " 'Train of Life (Train de vie) (1998)'\n",
            " 'Tiger and the Snow, The (La tigre e la neve) (2005)'\n",
            " 'I Served the King of England (Obsluhoval jsem anglického krále) (2006)'\n",
            " 'Colonel Chabert, Le (1994)' 'Gone with the Wind (1939)'\n",
            " 'English Patient, The (1996)' 'From Here to Eternity (1953)'\n",
            " 'Doctor Zhivago (1965)' 'Barry Lyndon (1975)']\n",
            "\n",
            "Collaborative Filtering Recommendations for User 1 who liked Forrest Gump (1994):\n",
            "['Hoop Dreams (1994)' 'In the Name of the Father (1993)'\n",
            " 'Wallace & Gromit: The Best of Aardman Animation (1996)'\n",
            " 'Ghost in the Shell (Kôkaku kidôtai) (1995)'\n",
            " 'Dr. Strangelove or: How I Learned to Stop Worrying and Love the Bomb (1964)'\n",
            " 'Philadelphia Story, The (1940)' 'Casablanca (1942)'\n",
            " '12 Angry Men (1957)' 'Grand Day Out with Wallace and Gromit, A (1989)'\n",
            " 'Amadeus (1984)']\n"
          ]
        },
        {
          "output_type": "display_data",
          "data": {
            "text/plain": [
              "<Figure size 800x800 with 1 Axes>"
            ],
            "image/png": "[encoded data removed]"
          },
          "metadata": {}
        }
      ],
      "source": [
        "\n",
        "# Compare recommendations from both methods for a sample movie\n",
        "sample_movie = popular_movie\n",
        "print(f\"Comparing recommendations for: {sample_movie}\")\n",
        "\n",
        "print(\"\\nContent-Based Recommendations:\")\n",
        "print(content_recommendations['title'].values)\n",
        "\n",
        "# Get users who rated this movie highly\n",
        "movie_id = content_df[content_df['title'] == sample_movie]['movieId'].values[0]\n",
        "high_raters = clean_df[(clean_df['movieId'] == movie_id) & (clean_df['rating'] >= 4.0)]['userId'].unique()\n",
        "\n",
        "if len(high_raters) > 0:\n",
        "    sample_user = high_raters[0]\n",
        "    print(f\"\\nCollaborative Filtering Recommendations for User {sample_user} who liked {sample_movie}:\")\n",
        "    print(get_collaborative_recommendations(sample_user)['title'].values)\n",
        "else:\n",
        "    print(\"\\nNo users found who rated this movie highly\")\n",
        "\n",
        "set1 = set(content_recommendations['title'].values)\n",
        "if len(high_raters) > 0:\n",
        "    set2 = set(get_collaborative_recommendations(high_raters[0])['title'].values)\n",
        "    plt.figure(figsize=(8, 8))\n",
        "    venn2([set1, set2], ['Content-Based', 'Collaborative'])\n",
        "    plt.title(f'Overlap in Recommendations for \"{sample_movie}\"')\n",
        "    plt.show()"
      ]
    },
    {
      "cell_type": "markdown",
      "source": [
        "Sistem berhasil membandingkan rekomendasi untuk film \"Forrest Gump (1994)\" dengan menggunakan kedua metode. Untuk metode **Content-Based Filtering**, film yang direkomendasikan termasuk \"Life Is Beautiful (La Vita è bella) (1997)\", \"Train of Life (Train de vie) (1998)\", dan \"Gone with the Wind (1939)\". Sementara itu, **Collaborative Filtering** memberikan rekomendasi seperti \"Hoop Dreams (1994)\", \"In the Name of the Father (1993)\", dan \"12 Angry Men (1957)\". Meskipun ada perbedaan dalam rekomendasi, kedua metode memberikan 10 rekomendasi film yang relevan untuk pengguna yang menyukai *Forrest Gump (1994)*.\n",
        "\n",
        "Diagram Venn menunjukkan bahwa tidak ada tumpang tindih antara rekomendasi dari kedua metode tersebut, yang berarti kedua metode memberikan rekomendasi yang sepenuhnya berbeda.\n"
      ],
      "metadata": {
        "id": "3fOnTOFmts9J"
      },
      "id": "3fOnTOFmts9J"
    },
    {
      "cell_type": "markdown",
      "source": [
        "## Kesimpulan (Conclusion)"
      ],
      "metadata": {
        "id": "04xwvTqUt8X4"
      },
      "id": "04xwvTqUt8X4"
    },
    {
      "cell_type": "markdown",
      "source": [
        "### Kesimpulan:\n",
        "\n",
        "Dalam proyek ini, dua pendekatan utama digunakan untuk membangun sistem rekomendasi film, yaitu **Content-Based Filtering** dan **Collaborative Filtering**, masing-masing dengan keunggulannya yang khas.\n",
        "\n",
        "1. **Content-Based Filtering**:\n",
        "\n",
        "   * Sistem ini menggunakan informasi dari **genre** film untuk menghasilkan rekomendasi, sehingga berfokus pada kesamaan dalam kategori film yang disukai pengguna. Berdasarkan analisis, metode ini memberikan hasil yang sangat bergantung pada preferensi genre yang ada, dan berhasil merekomendasikan film-film yang serupa dengan yang sudah diketahui disukai oleh pengguna.\n",
        "   * Meskipun memberikan rekomendasi yang relevan berdasarkan genre, metode ini tidak mempertimbangkan preferensi pengguna lain atau interaksi sosial antara pengguna, yang mungkin dapat memperkaya kualitas rekomendasi.\n",
        "\n",
        "2. **Collaborative Filtering**:\n",
        "\n",
        "   * Metode ini berfokus pada pola interaksi antar pengguna, yaitu memberikan rekomendasi berdasarkan **rating** yang diberikan oleh pengguna dengan preferensi serupa. Pendekatan ini memungkinkan sistem untuk memberikan rekomendasi yang lebih berbasis pada komunitas pengguna yang memiliki kesukaan yang sama.\n",
        "   * Dalam hal ini, **Collaborative Filtering** menawarkan kekuatan dalam memanfaatkan data dari banyak pengguna untuk memprediksi film yang relevan untuk pengguna baru atau yang belum memiliki banyak histori rating.\n",
        "\n",
        "### Perbandingan Kedua Metode:\n",
        "\n",
        "* **Rekomendasi**: Kedua metode memberikan rekomendasi film yang relevan, meskipun ada perbedaan dalam film yang direkomendasikan oleh masing-masing metode. Metode **Content-Based Filtering** cenderung merekomendasikan film yang memiliki genre serupa dengan film yang disukai pengguna, sementara **Collaborative Filtering** lebih menekankan pada preferensi pengguna yang memiliki pola rating yang serupa.\n",
        "* **Overlap**: Berdasarkan hasil yang diperoleh, **Content-Based Filtering** dan **Collaborative Filtering** tidak berbagi rekomendasi yang sama. Hal ini menunjukkan bahwa kedua metode ini mengandalkan informasi yang sangat berbeda untuk menghasilkan rekomendasi, dan dengan demikian saling melengkapi satu sama lain.\n",
        "\n",
        "### Evaluasi Sistem:\n",
        "\n",
        "* **Content-Based Coverage** menunjukkan bahwa sistem ini memiliki kemampuan untuk memberikan rekomendasi untuk hampir semua film dalam dataset, namun **Content-Based Diversity** yang sangat rendah (hampir tidak ada perbedaan dalam rekomendasi) menunjukkan bahwa rekomendasi yang dihasilkan cenderung serupa, tanpa memberikan keberagaman yang cukup.\n",
        "* **Collaborative Filtering**, meskipun memberikan **Precision\\@10** yang cukup baik, menunjukkan bahwa ketergantungannya pada data pengguna lainnya memiliki kelemahan dalam hal **diversity** dan **novelty**. Dengan kata lain, meskipun relevansi tinggi, rekomendasi tersebut mungkin tidak cukup beragam.\n",
        "\n",
        "### Saran:\n",
        "\n",
        "* **Peningkatan Keberagaman**: Untuk meningkatkan keberagaman dalam rekomendasi, **Content-Based Filtering** dapat ditingkatkan dengan memasukkan lebih banyak variabel selain genre, seperti sinopsis, pemeran, atau tema film.\n",
        "* **Penggabungan Kedua Metode**: Salah satu cara untuk meningkatkan kualitas rekomendasi adalah dengan menggabungkan kedua metode ini. Menggunakan pendekatan hybrid yang menggabungkan **Content-Based Filtering** dan **Collaborative Filtering** dapat menghasilkan rekomendasi yang lebih kaya dan relevan, dengan memanfaatkan keunggulan dari masing-masing metode.\n",
        "* **Evaluasi Lebih Lanjut**: Untuk meningkatkan sistem, evaluasi lebih lanjut dapat dilakukan dengan menggunakan metrik lain, seperti **F1-Score**, **NDCG (Normalized Discounted Cumulative Gain)**, dan **Recall**, untuk mendapatkan gambaran yang lebih komprehensif mengenai kinerja sistem.\n",
        "\n",
        "Secara keseluruhan, kedua metode ini menunjukkan hasil yang baik dalam memberikan rekomendasi film, namun keduanya memiliki keterbatasan yang bisa diperbaiki dengan pendekatan yang lebih inovatif dan menggabungkan kekuatan dari keduanya.\n"
      ],
      "metadata": {
        "id": "F93-CaAUuKk5"
      },
      "id": "F93-CaAUuKk5"
    }
  ],
  "metadata": {
    "kernelspec": {
      "display_name": "Python 3",
      "language": "python",
      "name": "python3"
    },
    "language_info": {
      "codemirror_mode": {
        "name": "ipython",
        "version": 3
      },
      "file_extension": ".py",
      "mimetype": "text/x-python",
      "name": "python",
      "nbconvert_exporter": "python",
      "pygments_lexer": "ipython3",
      "version": "3.10.16"
    },
    "colab": {
      "provenance": [],
      "toc_visible": true
    }
  },
  "nbformat": 4,
  "nbformat_minor": 5
}